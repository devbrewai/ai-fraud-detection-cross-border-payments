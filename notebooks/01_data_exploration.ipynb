{
 "cells": [
  {
   "cell_type": "markdown",
   "id": "30f8a042",
   "metadata": {},
   "source": [
    "# Data Exploration"
   ]
  },
  {
   "cell_type": "markdown",
   "id": "317060cf",
   "metadata": {},
   "source": [
    "#### Purpose: Initial data exploration and quality assessment\n",
    "\n",
    "Author: Devbrew LLC\n",
    "\n",
    "Created: 2025-10-01\n",
    "\n",
    "Last Modified: 2025-10-01"
   ]
  },
  {
   "cell_type": "markdown",
   "id": "71fd7a6f",
   "metadata": {},
   "source": [
    "## Notebook Configuration\n"
   ]
  },
  {
   "cell_type": "markdown",
   "id": "48fe7d2f",
   "metadata": {},
   "source": [
    "#### Load packages and configure environment"
   ]
  },
  {
   "cell_type": "code",
   "execution_count": 8,
   "id": "5469aaeb",
   "metadata": {},
   "outputs": [
    {
     "name": "stdout",
     "output_type": "stream",
     "text": [
      "✅ Environment configured successfully\n",
      "  - pandas: 2.3.3\n",
      "  - numpy: 2.3.3\n"
     ]
    }
   ],
   "source": [
    "import warnings\n",
    "from pathlib import Path\n",
    "import json\n",
    "from typing import Optional, Tuple\n",
    "\n",
    "import pandas as pd\n",
    "import numpy as np\n",
    "import matplotlib.pyplot as plt\n",
    "import seaborn as sns\n",
    "\n",
    "# Configuration\n",
    "warnings.filterwarnings(\"ignore\")\n",
    "pd.set_option(\"display.max_columns\", 100)\n",
    "pd.set_option(\"display.max_rows\", 100)\n",
    "pd.set_option('display.float_format', '{:.4f}'.format)\n",
    "\n",
    "# Plotting configuration\n",
    "sns.set_style(\"whitegrid\")\n",
    "plt.rcParams['figure.figsize'] = (12, 6)\n",
    "plt.rcParams['font.size'] = 10\n",
    "\n",
    "# Reproducibility\n",
    "RANDOM_STATE = 42\n",
    "np.random.seed(RANDOM_STATE)\n",
    "\n",
    "print(\"✅ Environment configured successfully\")\n",
    "print(f\"  - pandas: {pd.__version__}\")\n",
    "print(f\"  - numpy: {np.__version__}\")"
   ]
  },
  {
   "cell_type": "markdown",
   "id": "ef128afa",
   "metadata": {},
   "source": [
    "## Path Configurations"
   ]
  },
  {
   "cell_type": "markdown",
   "id": "3207132f",
   "metadata": {},
   "source": [
    "Sets up project directory structure and validates data availability."
   ]
  },
  {
   "cell_type": "code",
   "execution_count": 13,
   "id": "d020dd62",
   "metadata": {},
   "outputs": [
    {
     "name": "stdout",
     "output_type": "stream",
     "text": [
      "Data Availability Check:\n",
      "------------------------------------------------------------\n",
      "IEEE Train Transaction: ✅\n",
      "IEEE Train Identity: ✅\n",
      "IEEE Test Transaction: ✅\n",
      "IEEE Test Identity: ✅\n",
      "PaySim: ✅\n",
      "OFAC SDN: ✅\n",
      "OFAC SDN ADD: ✅\n",
      "OFAC SDN ALT: ✅\n",
      "OFAC SDN COMMENTS: ✅\n",
      "OFAC Consolidated: ✅\n",
      "OFAC Consolidated ADD: ✅\n",
      "OFAC Consolidated ALT: ✅\n",
      "OFAC Consolidated COMMENTS: ✅\n",
      "✅ All required datasets are found.\n"
     ]
    }
   ],
   "source": [
    "# Project paths\n",
    "PROJECT_ROOT = Path.cwd().parent\n",
    "DATA_DIR = PROJECT_ROOT / \"data_catalog\"\n",
    "PROCESSED_DIR = DATA_DIR / \"processed\"\n",
    "NOTEBOOKS_DIR = PROJECT_ROOT / \"notebooks\"\n",
    "\n",
    "# Dataset paths\n",
    "IEEE_CIS_DIR = DATA_DIR / \"ieee-fraud\" # IEEE-CIS Fraud Detection Dataset\n",
    "PAYSIM_DIR = DATA_DIR / \"paysim\" # PaySim Dataset\n",
    "OFAC_DIR = DATA_DIR / \"ofac\" # OFAC Sanctions Dataset\n",
    "\n",
    "# Create output directiories\n",
    "PROCESSED_DIR.mkdir(parents=True, exist_ok=True)\n",
    "\n",
    "\n",
    "# Validate data availability\n",
    "def validate_data_path() -> dict:\n",
    "    \"\"\"Validate that required datasets exists\"\"\"\n",
    "    paths_status = {\n",
    "        'IEEE Train Transaction': (IEEE_CIS_DIR / \"train_transaction.csv\").exists(),\n",
    "        'IEEE Train Identity': (IEEE_CIS_DIR / \"train_identity.csv\").exists(),\n",
    "        'IEEE Test Transaction': (IEEE_CIS_DIR / \"test_transaction.csv\").exists(),\n",
    "        'IEEE Test Identity': (IEEE_CIS_DIR / \"test_identity.csv\").exists(),\n",
    "        'PaySim': (PAYSIM_DIR / \"PS_20174392719_1491204439457_log.csv\").exists(),\n",
    "        'OFAC SDN': (OFAC_DIR / \"sdn\" / \"sdn.csv\").exists(),\n",
    "        'OFAC SDN ADD': (OFAC_DIR / \"sdn\" / \"add.csv\").exists(),\n",
    "        'OFAC SDN ALT': (OFAC_DIR / \"sdn\" / \"alt.csv\").exists(),\n",
    "        'OFAC SDN COMMENTS': (OFAC_DIR / \"sdn\" / \"sdn_comments.csv\").exists(),\n",
    "        'OFAC Consolidated': (OFAC_DIR / \"consolidated\" / \"cons_prim.csv\").exists(),\n",
    "        'OFAC Consolidated ADD': (OFAC_DIR / \"consolidated\" / \"cons_add.csv\").exists(),\n",
    "        'OFAC Consolidated ALT': (OFAC_DIR / \"consolidated\" / \"cons_alt.csv\").exists(),\n",
    "        'OFAC Consolidated COMMENTS': (OFAC_DIR / \"consolidated\" / \"cons_comments.csv\").exists(),\n",
    "    }\n",
    "\n",
    "    print(\"Data Availability Check:\")\n",
    "    print(\"-\" * 60)\n",
    "    for name, exists in paths_status.items():\n",
    "        status = \"✅\" if exists else \"❌\"\n",
    "        print(f\"{name}: {status}\")\n",
    "\n",
    "    all_exist = all(paths_status.values())\n",
    "    if not all_exist:\n",
    "        print(\"\\n⚠️  Warning: Some datasets are missing. Check data_catalog/README.md\")\n",
    "    else: \n",
    "        print(\"✅ All required datasets are found.\")\n",
    "\n",
    "    return paths_status    \n",
    "\n",
    "paths_status = validate_data_path()\n"
   ]
  }
 ],
 "metadata": {
  "kernelspec": {
   "display_name": ".venv",
   "language": "python",
   "name": "python3"
  },
  "language_info": {
   "codemirror_mode": {
    "name": "ipython",
    "version": 3
   },
   "file_extension": ".py",
   "mimetype": "text/x-python",
   "name": "python",
   "nbconvert_exporter": "python",
   "pygments_lexer": "ipython3",
   "version": "3.11.13"
  }
 },
 "nbformat": 4,
 "nbformat_minor": 5
}
