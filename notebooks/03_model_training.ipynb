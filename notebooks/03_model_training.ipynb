{
 "cells": [
  {
   "cell_type": "markdown",
   "id": "4bb37386",
   "metadata": {},
   "source": [
    "# Model Training\n",
    "\n",
    "- **Purpose:** Environment setup and loading/validating feature-engineered dataset for fraud model training  \n",
    "- **Author:** Devbrew LLC  \n",
    "- **Last Updated:** November 1, 2025  \n",
    "- **Status:** In progress  \n",
    "- **License:** Apache 2.0 (Code) | Non-commercial (Data)"
   ]
  },
  {
   "cell_type": "markdown",
   "id": "9021a209",
   "metadata": {},
   "source": [
    "---\n",
    "\n",
    "## Dataset License Notice\n",
    "\n",
    "This notebook uses the **IEEE-CIS Fraud Detection dataset** from Kaggle.\n",
    "\n",
    "**Dataset License:** Non-commercial research use only  \n",
    "- You must download the dataset yourself from [Kaggle IEEE-CIS Competition](https://www.kaggle.com/c/ieee-fraud-detection)  \n",
    "- You must accept the competition rules before downloading  \n",
    "- Cannot be used for commercial purposes  \n",
    "- Cannot redistribute the raw dataset\n",
    "\n",
    "**Setup Instructions:** See [`../data_catalog/README.md`](../data_catalog/README.md) for download instructions.\n",
    "\n",
    "**Code License:** This notebook's code is licensed under Apache 2.0 (open source).\n",
    "\n",
    "---"
   ]
  },
  {
   "cell_type": "markdown",
   "id": "16f244dd",
   "metadata": {},
   "source": [
    "## Notebook Configuration\n",
    "\n",
    "### Environment Setup\n",
    "\n",
    "We configure the Python environment with standardized settings, import required libraries, and set a fixed random seed for reproducibility. This ensures consistent results across runs and enables reliable experimentation.\n",
    "\n",
    "These settings establish the foundation for all model training operations."
   ]
  },
  {
   "cell_type": "code",
   "execution_count": 3,
   "id": "86ad0d0b",
   "metadata": {},
   "outputs": [
    {
     "name": "stdout",
     "output_type": "stream",
     "text": [
      "Environment configured successfully\n",
      "pandas: 2.3.3\n",
      "numpy: 2.3.3\n",
      "lightgbm: 4.6.0\n"
     ]
    }
   ],
   "source": [
    "import warnings\n",
    "from pathlib import Path\n",
    "import json\n",
    "import hashlib\n",
    "from typing import Dict, Any, Optional, Tuple\n",
    "import time\n",
    "\n",
    "import pandas as pd\n",
    "import numpy as np\n",
    "import seaborn as sns\n",
    "import matplotlib.pyplot as plt\n",
    "import lightgbm as lgb\n",
    "from sklearn.metrics import (\n",
    "    roc_auc_score, average_precision_score, roc_curve, precision_recall_curve, confusion_matrix)\n",
    "\n",
    "\n",
    "\n",
    "# Configuration\n",
    "warnings.filterwarnings(\"ignore\")\n",
    "pd.set_option(\"display.max_columns\", 100)\n",
    "pd.set_option(\"display.max_rows\", 100)\n",
    "pd.set_option(\"display.float_format\", '{:.2f}'.format)\n",
    "\n",
    "# Plotting configuration\n",
    "sns.set_style(\"whitegrid\")\n",
    "plt.rcParams[\"figure.figsize\"] = (12, 6)\n",
    "plt.rcParams[\"font.size\"] = 10\n",
    "\n",
    "# Reproducibility\n",
    "RANDOM_STATE = 42\n",
    "np.random.seed(RANDOM_STATE)\n",
    "\n",
    "print(\"Environment configured successfully\")\n",
    "print(f\"pandas: {pd.__version__}\")\n",
    "print(f\"numpy: {np.__version__}\")\n",
    "print(f\"lightgbm: {lgb.__version__}\")"
   ]
  },
  {
   "cell_type": "markdown",
   "id": "ded98098",
   "metadata": {},
   "source": [
    "### Path Configuration\n",
    "\n",
    "We define the project directory structure and validate that required processed data from feature engineering exists. The validation ensures we have the necessary inputs before proceeding with training.\n",
    "\n",
    "This configuration pattern ensures we can locate all required data artifacts from previous pipeline stages."
   ]
  },
  {
   "cell_type": "code",
   "execution_count": 4,
   "id": "a8231f0a",
   "metadata": {},
   "outputs": [
    {
     "name": "stdout",
     "output_type": "stream",
     "text": [
      "Artifact Availability Check:\n",
      " - train_features.parquet: Found\n",
      " - feature_engineering_metadata.json: Found\n",
      "\n",
      "All required artifacts are available\n"
     ]
    }
   ],
   "source": [
    "# Project paths\n",
    "PROJECT_ROOT = Path.cwd().parent\n",
    "DATA_DIR = PROJECT_ROOT / \"data_catalog\"\n",
    "IEEE_CIS_DIR = DATA_DIR / \"ieee-fraud\"\n",
    "PROCESSED_DIR = DATA_DIR / \"processed\"\n",
    "NOTEBOOKS_DIR = PROJECT_ROOT / \"notebooks\"\n",
    "\n",
    "# Ensure processed directory exists\n",
    "PROCESSED_DIR.mkdir(parents=True, exist_ok=True)\n",
    "\n",
    "# Expected artifacts\n",
    "FEATURES_PATH = PROCESSED_DIR / \"train_features.parquet\"\n",
    "FE_METADATA_PATH = PROCESSED_DIR / \"feature_engineering_metadata.json\"\n",
    "\n",
    "def validate_required_artifacts():\n",
    "    \"\"\"Validate that required artifacts exist before training.\"\"\"\n",
    "    path_status = {\n",
    "        'train_features.parquet': FEATURES_PATH.exists(),\n",
    "        'feature_engineering_metadata.json': FE_METADATA_PATH.exists()\n",
    "    }\n",
    "    print(\"Artifact Availability Check:\")\n",
    "    for name, exists in path_status.items():\n",
    "        status = \"Found\" if exists else \"Missing\"\n",
    "        print(f\" - {name}: {status}\")\n",
    "\n",
    "    all_exist = all(path_status.values())\n",
    "\n",
    "    if not all_exist:\n",
    "        print(\"\\n[WARNING] Some artifacts are missing; ensure feature engineering completed successfully\")\n",
    "    else:\n",
    "        print(\"\\nAll required artifacts are available\")\n",
    "\n",
    "artifact_status = validate_required_artifacts()"
   ]
  },
  {
   "cell_type": "markdown",
   "id": "97438de6",
   "metadata": {},
   "source": [
    "## Load Features & Data Manifest\n",
    "\n",
    "We load the feature-engineered dataset and validate integrity against recorded metadata. We also create a simple data manifest to document:\n",
    "- shape\n",
    "- feature count\n",
    "- missing values\n",
    "- target distribution (`isFraud`)\n",
    "- memory footprint\n",
    "- file hash (for reproducibility)\n",
    "\n",
    "### Validation Checklist\n",
    "- Verify shape matches metadata (590,540 × 432)\n",
    "- Confirm zero missing values\n",
    "- Check target distribution (~3.5% fraud rate)\n",
    "- Validate `TransactionDT` exists for time-based split\n",
    "- Validate identifiers (`TransactionID`) and target (`isFraud`) are present"
   ]
  },
  {
   "cell_type": "code",
   "execution_count": 5,
   "id": "3f80cc3c",
   "metadata": {},
   "outputs": [
    {
     "name": "stdout",
     "output_type": "stream",
     "text": [
      "Loading Feature-Engineered Data...\n",
      "Loaded features: 590,540 rows x 432 columns\n",
      "Memory usage: 2.04 GB\n",
      "\n",
      "Target Distribution:\n",
      "isFraud\n",
      "0    569877\n",
      "1     20663\n",
      "Name: count, dtype: int64\n",
      "Fraud rate: 3.50%\n",
      "\n",
      "Shape validation vs metadata: PASS\n",
      " - (Expected 590,540 x 432 columns, got 590,540 x 432 columns)\n",
      "\n",
      "Total missing values: 0\n",
      "Has TransactionDT: Yes\n",
      "Has TransactionID: Yes\n",
      "\n",
      "Dtype Summary:\n",
      " - float64: 394\n",
      " - object: 29\n",
      " - int64: 9\n",
      "\n",
      "Training data manifest saved to: /Users/joekariuki/Documents/Devbrew/research/devbrew-payments-fraud-sanctions/data_catalog/processed/training_data_manifest.json\n"
     ]
    }
   ],
   "source": [
    "def file_sha256(path: Path, chunk_size: int = 2**20) -> Optional[str]:\n",
    "    \"\"\"Compute SHA-256 hash of a file; returns None if file missing\"\"\"\n",
    "    if not path.exists():\n",
    "        return None\n",
    "    h = hashlib.sha256()\n",
    "    with path.open(\"rb\") as f:\n",
    "        while True:\n",
    "            chunk = f.read(chunk_size)\n",
    "            if not chunk:\n",
    "                break\n",
    "            h.update(chunk)\n",
    "    return h.hexdigest()\n",
    "\n",
    "def build_data_manifest(df: pd.DataFrame, file_path: Path, fe_meta: Optional[Dict[str, Any]]) -> Dict[str, Any]:\n",
    "    \"\"\"Create a manifest capturing data properties for reproducibility.\"\"\"\n",
    "    manifest: Dict[str, Any] = {\n",
    "        \"generated_at\": pd.Timestamp.now().isoformat(),\n",
    "        \"source_file\": str(file_path),\n",
    "        \"source_hash_sha256\": file_sha256(file_path),\n",
    "        \"rows\": int(df.shape[0]),\n",
    "        \"columns\": int(df.shape[1]),\n",
    "        \"memory_gb\": float(df.memory_usage().sum() / 1e9),\n",
    "        \"dtypes_summary\": df.dtypes.astype(str).value_counts().to_dict(),\n",
    "        \"null_values_total\": int(df.isna().sum().sum()),\n",
    "        \"columns_with_nulls\": df.columns[df.isna().any()].tolist(),\n",
    "        \"target\": \"isFraud\",\n",
    "        \"target_distribution\": df[\"isFraud\"].value_counts(dropna=False).to_dict() if \"isFraud\" in df.columns else {},\n",
    "        \"target_rate\": float(df[\"isFraud\"].mean()) if \"isFraud\" in df.columns else None,\n",
    "        \"has_transactiondt\": bool(\"TransactionDT\" in df.columns),\n",
    "        \"has_transactionid\": bool(\"TransactionID\" in df.columns),\n",
    "        \"random_state\": RANDOM_STATE,\n",
    "    }\n",
    "\n",
    "    if fe_meta:\n",
    "        manifest[\"feature_engineering_metadata\"] = {\n",
    "            \"total_features_expected\": fe_meta.get(\"total_features\"),\n",
    "            \"dataset_shape_expected\": fe_meta.get(\"dataset_shape\"),\n",
    "            \"engineering_date\": fe_meta.get(\"engineering_date\"),\n",
    "        }\n",
    "\n",
    "    return manifest\n",
    "\n",
    "# Load feature engineering metadata if available\n",
    "fe_meta = None\n",
    "if FE_METADATA_PATH.exists():\n",
    "    with open(FE_METADATA_PATH, \"r\") as f:\n",
    "        fe_meta = json.load(f)\n",
    "\n",
    "print(\"Loading Feature-Engineered Data...\")\n",
    "if not FEATURES_PATH.exists():\n",
    "    raise FileNotFoundError(f\"Missing features file: {FEATURES_PATH}\")\n",
    "\n",
    "df = pd.read_parquet(FEATURES_PATH)\n",
    "print(f\"Loaded features: {df.shape[0]:,} rows x {df.shape[1]:,} columns\")\n",
    "print(f\"Memory usage: {df.memory_usage().sum() / 1e9:.2f} GB\")\n",
    "\n",
    "# Basic target info\n",
    "if \"isFraud\" in df.columns:\n",
    "    print(\"\\nTarget Distribution:\")\n",
    "    print(pd.Series(df[\"isFraud\"]).value_counts())\n",
    "    print(f\"Fraud rate: {df['isFraud'].mean() * 100:.2f}%\")\n",
    "else:\n",
    "    print(\"\\n[WARNING] 'isFraud' target column not found in features dataset\")\n",
    "\n",
    "# Data check vs metadata\n",
    "if fe_meta and \"dataset_shape\" in fe_meta:\n",
    "    expected_rows, expected_cols = fe_meta[\"dataset_shape\"]\n",
    "    ok_shape = (df.shape[0] == expected_rows) and (df.shape[1] == expected_cols)\n",
    "    print(f\"\\nShape validation vs metadata: {'PASS' if ok_shape else 'FAIL'}\")\n",
    "    print(f\" - (Expected {expected_rows:,} x {expected_cols:,} columns, got {df.shape[0]:,} x {df.shape[1]:,} columns)\")\n",
    "else:\n",
    "    print(\"\\n[WARNING] Feature engineering metadata not availables for shape validation\")\n",
    "\n",
    "# Nulls\n",
    "total_nulls = int(df.isnull().sum().sum())\n",
    "print(f\"\\nTotal missing values: {total_nulls:,}\")\n",
    "\n",
    "# Key column presence\n",
    "print(f\"Has TransactionDT: {'Yes' if 'TransactionDT' in df.columns else 'No'}\")\n",
    "print(f\"Has TransactionID: {'Yes' if 'TransactionID' in df.columns else 'No'}\")\n",
    "    \n",
    "\n",
    "# Dtypes quick summary\n",
    "dtype_counts = df.dtypes.astype(str).value_counts()\n",
    "print(\"\\nDtype Summary:\")\n",
    "for dtype, count in dtype_counts.items():\n",
    "    print(f\" - {dtype}: {count}\")\n",
    "\n",
    "# Build and save manifest\n",
    "manifest = build_data_manifest(df, FEATURES_PATH, fe_meta)\n",
    "\n",
    "# Save manifest to data catalog\n",
    "MANIFEST_PATH = PROCESSED_DIR / \"training_data_manifest.json\"\n",
    "MANIFEST_PATH.parent.mkdir(parents=True, exist_ok=True)\n",
    "with open(MANIFEST_PATH, \"w\") as f:\n",
    "    json.dump(manifest, f, indent=4)\n",
    "print(f\"\\nTraining data manifest saved to: {MANIFEST_PATH}\")"
   ]
  },
  {
   "cell_type": "markdown",
   "id": "68fa5fbb",
   "metadata": {},
   "source": [
    "### Notes\n",
    "\n",
    "- Shapes validated against [feature_engineering_metadata.json](../data_catalog/processed/feature_engineering_metadata.json): expected `(590,540 × 432)`.  \n",
    "- `TransactionDT` presence is required for time-based splits in train/test/validation split.  \n",
    "- We persist a `training_data_manifest.json` documenting data properties and file hash for reproducibility.  "
   ]
  },
  {
   "cell_type": "markdown",
   "id": "f60eecd6",
   "metadata": {},
   "source": [
    "## Train/Validation/Test Split (Time-Based)\n",
    "\n",
    "We perform a chronological split to respect temporal causality in fraud detection. Random splitting would allow the model to see future data during training, inflating performance metrics and violating real-world deployment conditions.\n",
    "\n",
    "We split the data into 60% train (earliest transactions), 20% validation (middle period), and 20% test (most recent transactions). This simulates production deployment where models score transactions as they arrive over time, and ensures fraudsters' evolving tactics are properly reflected in our evaluation.\n",
    "\n",
    "This approach follows industry standards for fraud detection in payment systems and meets regulatory requirements for model validation."
   ]
  },
  {
   "cell_type": "code",
   "execution_count": 6,
   "id": "b8275c6d",
   "metadata": {},
   "outputs": [],
   "source": [
    "SPLITS_DIR = PROCESSED_DIR / \"splits\"\n",
    "SPLITS_DIR.mkdir(parents=True, exist_ok=True)\n",
    "\n",
    "def temporal_split(\n",
    "    df_in: pd.DataFrame, \n",
    "    ts_col: str = \"TransactionDT\",\n",
    "    id_col: str = \"TransactionID\",\n",
    "    target_col: str = \"isFraud\",\n",
    "    train_frac: float = 0.60,\n",
    "    val_frac: float = 0.20,\n",
    "    ) -> Tuple[pd.DataFrame, pd.DataFrame, pd.DataFrame, pd.DataFrame, Dict[str, Any]]:\n",
    "    \"\"\"\n",
    "    Perform chronological time-based split with temporal leak prevention for fraud detection.\n",
    "    \n",
    "    Ensures training data is strictly earlier than validation/test data. This is critical for\n",
    "    fraud models where future patterns must not leak into training. Common issue in\n",
    "    production: models trained with random splits show inflated metrics but fail in\n",
    "    real-time scoring due to temporal leakage.\n",
    "    \n",
    "    Parameters:\n",
    "        df_in: Input dataframe with transactions\n",
    "        ts_col: Timestamp column for temporal ordering (default: \"TransactionDT\")\n",
    "        id_col: Transaction ID column (default: \"TransactionID\")\n",
    "        target_col: Binary fraud label (default: \"isFraud\")\n",
    "        train_frac: Training fraction (default: 0.60)\n",
    "        val_frac: Validation fraction (default: 0.20, test gets remainder)\n",
    "    \n",
    "    Returns:\n",
    "        train_df, val_df, test_df: Chronologically split dataframes\n",
    "        splits_df: Metadata with split labels for visualization\n",
    "        stats: Comprehensive dict with:\n",
    "            - Split metrics and temporal boundaries\n",
    "            - Class distribution and drift analysis (fraud rate shifts)\n",
    "            - Validation checks (no temporal leakage, no ID overlap)\n",
    "            - Dataset provenance for reproducibility\n",
    "    \n",
    "    Validations performed:\n",
    "        - Strict temporal ordering: train_max < val_min < test_max\n",
    "        - No transaction ID overlap between splits\n",
    "        - Fraud rate drift monitoring (flags if >0.5pp shift between splits)\n",
    "    \"\"\"\n",
    "    # Sort chronologically to ensure temporal ordering for time-series split\n",
    "    df_sorted = df_in.sort_values(ts_col).reset_index(drop=True)\n",
    "\n",
    "    # Compute split indices based on configured fractions\n",
    "    n = len(df_sorted)\n",
    "    train_end = int(n * train_frac)\n",
    "    val_end = int(n * (train_frac + val_frac))\n",
    "\n",
    "    train_df = df_sorted.iloc[:train_end]\n",
    "    val_df = df_sorted.iloc[train_end:val_end]\n",
    "    test_df = df_sorted.iloc[val_end:]\n",
    "\n",
    "    # Create split labels dataframe for visualization and distribution analysis\n",
    "    split_labels = (['train'] * len(train_df)) + \\\n",
    "                  (['val'] * len(val_df)) + \\\n",
    "                  (['test'] * len(test_df))\n",
    "    splits_df = df_sorted[[id_col, ts_col, target_col]].copy()\n",
    "    splits_df['split'] = split_labels\n",
    "\n",
    "    # Validate temporal boundaries: critical check for preventing data leakage\n",
    "    train_max_ts = float(train_df[ts_col].max())\n",
    "    val_min_ts = float(val_df[ts_col].min())\n",
    "    val_max_ts = float(val_df[ts_col].max())\n",
    "    test_min_ts = float(test_df[ts_col].min())\n",
    "\n",
    "    no_temporal_leak_train_val = train_max_ts < val_min_ts\n",
    "    no_temporal_leak_val_test = val_max_ts < test_min_ts \n",
    "\n",
    "    # Verify no transaction ID overlap across splits\n",
    "    train_ids = set(train_df[id_col].tolist())\n",
    "    val_ids = set(val_df[id_col].tolist())\n",
    "    test_ids = set(test_df[id_col].tolist())\n",
    "    \n",
    "    no_id_overlap = (len(train_ids & val_ids) == 0) and \\\n",
    "                    (len(train_ids & test_ids) == 0) and \\\n",
    "                    (len(val_ids & test_ids) == 0)\n",
    "\n",
    "    # Compute fraud rate drift across splits to monitor distribution stability\n",
    "    def rate(d: pd.DataFrame) -> float:\n",
    "        \"\"\"Calculate fraud rate (mean of binary target)\"\"\"\n",
    "        return float(d[target_col].mean() if len(d) else float('nan'))\n",
    "    \n",
    "    train_rate = rate(train_df)\n",
    "    val_rate = rate(val_df)\n",
    "    test_rate = rate(test_df)\n",
    "\n",
    "    drift_train_val_pp = abs(train_rate - val_rate) * 100\n",
    "    drift_train_test_pp = abs(train_rate - test_rate) * 100\n",
    "    drift_val_test_pp = abs(val_rate - test_rate) * 100\n",
    "    \n",
    "    # Assemble comprehensive statistics and validation results\n",
    "    try:\n",
    "        source_hash = manifest.get(\"source_hash_sha256\") if isinstance(manifest, dict) else None\n",
    "    except NameError:\n",
    "        source_hash = None\n",
    "    \n",
    "    stats: Dict[str, Any] = {\n",
    "        \"method\": \"time_chronological_split\",\n",
    "        \"fractions\": {\n",
    "            \"train\": train_frac,\n",
    "            \"val\": val_frac,\n",
    "            \"test\": 1.0 - train_frac - val_frac\n",
    "        },\n",
    "        \"counts\": {\n",
    "            \"train\": int(len(train_df)),\n",
    "            \"val\": int(len(val_df)),\n",
    "            \"test\": int(len(test_df)),\n",
    "            \"total\": int((n))\n",
    "        },\n",
    "        \"timestamp_cutoffs\": {\n",
    "            \"train_max\": train_max_ts,\n",
    "            \"val_min\": val_min_ts,\n",
    "            \"val_max\": val_max_ts,\n",
    "            \"test_min\": test_min_ts\n",
    "        },\n",
    "        \"class_rates\": {\n",
    "            \"train_rate\": train_rate,\n",
    "            \"val_rate\": val_rate,\n",
    "            \"test_rate\": test_rate\n",
    "        },\n",
    "        \"drift_pp\": {\n",
    "            \"train_vs_val\": drift_train_val_pp,\n",
    "            \"train_vs_test\": drift_train_test_pp,\n",
    "            \"val_vs_test\": drift_val_test_pp\n",
    "        },\n",
    "        \"checks\": {\n",
    "            \"no_temporal_leak_train_val\": bool(no_temporal_leak_train_val),\n",
    "            \"no_temporal_leak_val_test\": bool(no_temporal_leak_val_test),\n",
    "            \"no_overlap_by_id\": bool(no_id_overlap),\n",
    "            \"fraud_rate_similarity_within_0_5_pp\": bool((drift_train_val_pp <= 0.5) and (drift_val_test_pp <= 0.5))\n",
    "        },\n",
    "        \"dataset_provenance\": {\n",
    "            \"features_path\": str(FEATURES_PATH),\n",
    "            \"source_hash_sha256\": source_hash or file_sha256(FEATURES_PATH),\n",
    "            \"random_state\": RANDOM_STATE\n",
    "        }\n",
    "    }\n",
    "\n",
    "    return train_df, val_df, test_df, splits_df, stats"
   ]
  },
  {
   "cell_type": "markdown",
   "id": "2eb5d5fa",
   "metadata": {},
   "source": [
    "### Execute Split and Persist Artifacts\n",
    "\n",
    "We execute the temporal split, save the split indices for reproducibility, and validate data quality checks."
   ]
  },
  {
   "cell_type": "markdown",
   "id": "6200ff7d",
   "metadata": {},
   "source": [
    "**Key Industry Context:**\n",
    "- Random splits can inflate model performance by 10-20 percentage points\n",
    "- Regulatory frameworks (SR 11-7, Model Risk Management) require temporal validation\n",
    "- Production fraud models must handle concept drift as fraudsters adapt tactics"
   ]
  },
  {
   "cell_type": "code",
   "execution_count": 7,
   "id": "61c64582",
   "metadata": {},
   "outputs": [
    {
     "name": "stdout",
     "output_type": "stream",
     "text": [
      "Time-based split complete. Summary:\n",
      " - Counts: train=354,324, val=118,108, test=118,108\n",
      " - Timestamp cutoffs:\n",
      "   - train_max < val_min < test_min => True & True\n",
      " - Fraud rates (%):\n",
      "   - train=3.38, val=3.90, test=3.44\n",
      " - Drift (pp):\n",
      "   - train-vs-val=0.521, train-vs-test=0.058, val-vs-test=0.463\n",
      " - No overlap by ID: True\n",
      " - Fraud rate similarity within ±0.5pp (train/val and val/test): False\n",
      "Artifacts saved to: /Users/joekariuki/Documents/Devbrew/research/devbrew-payments-fraud-sanctions/data_catalog/processed/splits\n"
     ]
    }
   ],
   "source": [
    "# Execute the temporal split\n",
    "train_df, val_df, test_df, splits_index_df, split_stats = temporal_split(df)\n",
    "\n",
    "# Persists split indices and metadata\n",
    "splits_index_path = SPLITS_DIR / \"temporal_splits.csv\"\n",
    "splits_index_df[['TransactionID', 'split']].to_csv(splits_index_path, index=False)\n",
    "\n",
    "for name, part in [('train', train_df), ('val', val_df), ('test', test_df)]:\n",
    "    out_path = SPLITS_DIR / f\"{name}_ids.csv\"\n",
    "    out_path.write_text(\"TransactionID\\n\" + \"\\n\" .join(part[\"TransactionID\"].astype(str).tolist()))\n",
    "\n",
    "with open(SPLITS_DIR / \"splits_metadata.json\", \"w\") as f:\n",
    "    json.dump(split_stats, f, indent=4)\n",
    "\n",
    "# Summary\n",
    "print(\"Time-based split complete. Summary:\")\n",
    "print(f\" - Counts: train={split_stats['counts']['train']:,}, val={split_stats['counts']['val']:,}, test={split_stats['counts']['test']:,}\")\n",
    "print(\" - Timestamp cutoffs:\")\n",
    "print(f\"   - train_max < val_min < test_min => {split_stats['checks']['no_temporal_leak_train_val']} & {split_stats['checks']['no_temporal_leak_val_test']}\")\n",
    "print(f\" - Fraud rates (%):\")\n",
    "print(f\"   - train={split_stats['class_rates']['train_rate']*100:.2f}, val={split_stats['class_rates']['val_rate']*100:.2f}, test={split_stats['class_rates']['test_rate']*100:.2f}\")\n",
    "print(f\" - Drift (pp):\")\n",
    "print(f\"   - train-vs-val={split_stats['drift_pp']['train_vs_val']:.3f}, train-vs-test={split_stats['drift_pp']['train_vs_test']:.3f}, val-vs-test={split_stats['drift_pp']['val_vs_test']:.3f}\")\n",
    "print(f\" - No overlap by ID: {split_stats['checks']['no_overlap_by_id']}\")\n",
    "print(f\" - Fraud rate similarity within ±0.5pp (train/val and val/test): {split_stats['checks']['fraud_rate_similarity_within_0_5_pp']}\")\n",
    "print(f\"Artifacts saved to: {SPLITS_DIR}\")"
   ]
  },
  {
   "cell_type": "markdown",
   "id": "68e61ee9",
   "metadata": {},
   "source": [
    "### Data Quality Validation\n",
    "\n",
    "We assert critical data quality checks that would fail a production model review:\n",
    "- **Temporal leakage prevention**: Ensures no future data contaminates training\n",
    "- **ID uniqueness**: Prevents same transaction appearing in multiple splits  \n",
    "- **Distribution monitoring**: Flags significant fraud rate shifts requiring investigation\n",
    "\n",
    "These checks align with model governance requirements at financial institutions."
   ]
  },
  {
   "cell_type": "code",
   "execution_count": 8,
   "id": "64074467",
   "metadata": {},
   "outputs": [
    {
     "name": "stdout",
     "output_type": "stream",
     "text": [
      "[WARNING] Fraud rate drift between exceeds ±0.5pp. Investigate distribution shift or adjust boundaries\n"
     ]
    }
   ],
   "source": [
    "assert split_stats[\"checks\"][\"no_temporal_leak_train_val\"], \"Temporal leak between train and val!\"\n",
    "assert split_stats[\"checks\"][\"no_temporal_leak_val_test\"], \"Temporal leak between val and test!\"\n",
    "assert split_stats[\"checks\"][\"no_overlap_by_id\"], \"Transaction ID overlap across splits!\"\n",
    "if not split_stats[\"checks\"][\"fraud_rate_similarity_within_0_5_pp\"]:\n",
    "    print(f\"[WARNING] Fraud rate drift between exceeds ±0.5pp. Investigate distribution shift or adjust boundaries\")"
   ]
  },
  {
   "cell_type": "code",
   "execution_count": 9,
   "id": "740e5b8c",
   "metadata": {},
   "outputs": [
    {
     "data": {
      "image/png": "[encoded data removed]",
      "text/plain": [
       "<Figure size 1200x600 with 1 Axes>"
      ]
     },
     "metadata": {},
     "output_type": "display_data"
    }
   ],
   "source": [
    "# Visual check of fraud rate by split\n",
    "split_rates = pd.Series({\n",
    "    \"train\": split_stats[\"class_rates\"][\"train_rate\"] * 100,\n",
    "    \"val\": split_stats[\"class_rates\"][\"val_rate\"] * 100,\n",
    "    \"test\": split_stats[\"class_rates\"][\"test_rate\"] * 100\n",
    "})\n",
    "\n",
    "ax = split_rates.plot(kind=\"bar\", rot=0, color=[\"blue\", \"green\", \"red\"])\n",
    "ax.set_title(\"Fraud Rate by Split\")\n",
    "ax.set_xlabel(\"Split\")\n",
    "ax.set_ylabel(\"Fraud Rate (%)\")\n",
    "ax.set_ylim(0, 100)\n",
    "plt.show()\n"
   ]
  },
  {
   "cell_type": "markdown",
   "id": "ea992738",
   "metadata": {},
   "source": [
    "### Notes\n",
    "\n",
    "- Fraud rate drift between train/validation is **0.521pp** (0.021pp above threshold), indicating modest distribution shift typical of evolving fraud patterns over time\n",
    "- This reflects realistic temporal evolution in fraud patterns common in production systems\n",
    "- Validation/test drift is **0.463pp** (within threshold)\n",
    "- All critical temporal leakage checks passed; splits maintain strict chronological ordering\n",
    "- Model performance monitoring in production should track similar drift metrics"
   ]
  },
  {
   "cell_type": "markdown",
   "id": "4149175c",
   "metadata": {},
   "source": [
    "## Feature Selection & Preparation\n",
    "\n",
    "We separate features from the target variable and exclude non-predictive columns that would cause leakage or serve purely as identifiers. This ensures our model learns from legitimate predictive signals rather than artifacts of data collection.\n",
    "\n",
    "We identify and document the feature set to maintain consistency across training, validation, and test splits. This feature registry serves as the contract between model training and production inference.\n",
    "\n",
    "Tree-based models like LightGBM handle categorical features natively, avoiding the curse of dimensionality from one-hot encoding while preserving categorical information."
   ]
  },
  {
   "cell_type": "code",
   "execution_count": 10,
   "id": "a545a916",
   "metadata": {},
   "outputs": [
    {
     "name": "stdout",
     "output_type": "stream",
     "text": [
      "Total columns: 432\n",
      "Excluded columns: 3 → ['TransactionID', 'TransactionDT', 'isFraud']\n",
      "Feature columns: 429\n",
      "\n",
      "Target variable: isFraud\n",
      "Training samples: 354,324\n",
      "Validation samples: 118,108\n",
      "Test samples: 118,108\n"
     ]
    }
   ],
   "source": [
    "# Identify columns to exclude from modeling\n",
    "EXCLUDE_COLS = ['TransactionID', 'TransactionDT', 'isFraud']\n",
    "\n",
    "# Verify exclusion columns exist\n",
    "missing_cols = [col for col in EXCLUDE_COLS if col not in train_df.columns]\n",
    "\n",
    "if missing_cols:\n",
    "    raise ValueError(f\"Expected columns not found: {missing_cols}\")\n",
    "\n",
    "# Get all column names\n",
    "all_cols = train_df.columns.tolist()\n",
    "\n",
    "# Extract feature columns (everything except target and identifiers)\n",
    "feature_cols = [col for col in all_cols if col not in EXCLUDE_COLS]\n",
    "\n",
    "print(f\"Total columns: {len(all_cols)}\")\n",
    "print(f\"Excluded columns: {len(EXCLUDE_COLS)} → {EXCLUDE_COLS}\")\n",
    "print(f\"Feature columns: {len(feature_cols)}\")\n",
    "print(f\"\\nTarget variable: isFraud\")\n",
    "print(f\"Training samples: {len(train_df):,}\")\n",
    "print(f\"Validation samples: {len(val_df):,}\")\n",
    "print(f\"Test samples: {len(test_df):,}\")"
   ]
  },
  {
   "cell_type": "code",
   "execution_count": 11,
   "id": "080ab4e2",
   "metadata": {},
   "outputs": [
    {
     "name": "stdout",
     "output_type": "stream",
     "text": [
      "Feature matrix shapes:\n",
      " - X_train: (354324, 429)\n",
      " - X_val: (118108, 429)\n",
      " - X_test: (118108, 429)\n",
      "\n",
      "Target vectors shapes:\n",
      " - y_train: (354324,) (fraud rate: 3.38%)\n",
      " - y_val: (118108,) (fraud rate: 3.90%)\n",
      " - y_test: (118108,) (fraud rate: 3.44%)\n",
      "\n",
      "Missing values check:\n",
      " - X_train: 0\n",
      " - X_val: 0\n",
      " - X_test: 0\n"
     ]
    }
   ],
   "source": [
    "# Separate features (X) and target (y)\n",
    "X_train = train_df[feature_cols].copy()\n",
    "y_train = train_df['isFraud'].copy()\n",
    "\n",
    "X_val = val_df[feature_cols].copy()\n",
    "y_val = val_df['isFraud'].copy()\n",
    "\n",
    "X_test = test_df[feature_cols].copy()\n",
    "y_test = test_df['isFraud'].copy()\n",
    "\n",
    "# Verify shapes\n",
    "print(f\"Feature matrix shapes:\")\n",
    "print(f\" - X_train: {X_train.shape}\")\n",
    "print(f\" - X_val: {X_val.shape}\")\n",
    "print(f\" - X_test: {X_test.shape}\")\n",
    "\n",
    "# Verify target shapes\n",
    "print(f\"\\nTarget vectors shapes:\")\n",
    "print(f\" - y_train: {y_train.shape} (fraud rate: {y_train.mean()*100:.2f}%)\")\n",
    "print(f\" - y_val: {y_val.shape} (fraud rate: {y_val.mean()*100:.2f}%)\")\n",
    "print(f\" - y_test: {y_test.shape} (fraud rate: {y_test.mean()*100:.2f}%)\")\n",
    "\n",
    "# Verify no missing values in features\n",
    "train_nulls = X_train.isnull().sum().sum()\n",
    "val_nulls = X_val.isnull().sum().sum()\n",
    "test_nulls = X_test.isnull().sum().sum()\n",
    "\n",
    "print(\"\\nMissing values check:\")\n",
    "print(f\" - X_train: {train_nulls:,}\")\n",
    "print(f\" - X_val: {val_nulls:,}\")\n",
    "print(f\" - X_test: {test_nulls:,}\")\n",
    "\n",
    "if train_nulls > 0 or val_nulls > 0 or test_nulls > 0:\n",
    "    print(f\"\\n[WARNING] Missing values detected in feature matrices\")"
   ]
  },
  {
   "cell_type": "code",
   "execution_count": 12,
   "id": "3b5f6891",
   "metadata": {},
   "outputs": [
    {
     "name": "stdout",
     "output_type": "stream",
     "text": [
      "\n",
      "Feature type breakdown:\n",
      " - Numeric features: 400\n",
      " - Categorical features: 29\n",
      "\n",
      "Sample categorical features (first 10):\n",
      " - ProductCD: 5 unique values\n",
      " - card4: 5 unique values\n",
      " - card6: 5 unique values\n",
      " - P_emaildomain: 60 unique values\n",
      " - R_emaildomain: 61 unique values\n",
      " - M1: 3 unique values\n",
      " - M2: 3 unique values\n",
      " - M3: 3 unique values\n",
      " - M4: 4 unique values\n",
      " - M5: 3 unique values\n",
      " ... and 19 more\n",
      "\n",
      "Sample numeric features (first 10):\n",
      " - TransactionAmt\n",
      " - card1\n",
      " - card2\n",
      " - card3\n",
      " - card5\n",
      " - addr1\n",
      " - addr2\n",
      " - dist1\n",
      " - C1\n",
      " - C2\n",
      " ... and 390 more\n"
     ]
    }
   ],
   "source": [
    "# Identify numeric and categorical features\n",
    "numeric_features = X_train.select_dtypes(include=['int64', 'float64']).columns.tolist()\n",
    "categorical_features = X_train.select_dtypes(include=['object']).columns.tolist()\n",
    "\n",
    "print(f\"\\nFeature type breakdown:\")\n",
    "print(f\" - Numeric features: {len(numeric_features)}\")\n",
    "print(f\" - Categorical features: {len(categorical_features)}\")\n",
    "\n",
    "# Display sample categorical features for verification\n",
    "if categorical_features:\n",
    "    print(\"\\nSample categorical features (first 10):\")\n",
    "    for feat in categorical_features[:10]:\n",
    "        unique_count = X_train[feat].nunique()\n",
    "        print(f\" - {feat}: {unique_count} unique values\")\n",
    "    \n",
    "    if len(categorical_features) > 10:\n",
    "        print(f\" ... and {len(categorical_features) - 10} more\")\n",
    "else:\n",
    "    print(\"\\nNo categorical features detected\")\n",
    "\n",
    "# Display sample numeric features\n",
    "print(f\"\\nSample numeric features (first 10):\")\n",
    "for feat in numeric_features[:10]:\n",
    "    print(f\" - {feat}\")\n",
    "\n",
    "if len(numeric_features) > 10:\n",
    "    print(f\" ... and {len(numeric_features) -10} more\")"
   ]
  },
  {
   "cell_type": "code",
   "execution_count": 13,
   "id": "33cfb6b6",
   "metadata": {},
   "outputs": [
    {
     "name": "stdout",
     "output_type": "stream",
     "text": [
      "Feature registry saved to: /Users/joekariuki/Documents/Devbrew/research/devbrew-payments-fraud-sanctions/data_catalog/processed/feature_registry.json\n",
      "\n",
      "Registry summary:\n",
      " - Created at: 2025-11-01T05:16:56.264623\n",
      " - Total features: 429\n",
      " - Numeric: 400\n",
      " - Categorical: 29\n",
      " - Target variable: isFraud\n"
     ]
    }
   ],
   "source": [
    "# Create comprehensive feature registry for reproducibility\n",
    "feature_registry = {\n",
    "    \"created_at\": pd.Timestamp.now().isoformat(),\n",
    "    \"total_features\": len(feature_cols),\n",
    "    \"numeric_features\": numeric_features,\n",
    "    \"categorical_features\": categorical_features,\n",
    "    \"excluded_columns\": EXCLUDE_COLS,\n",
    "    \"feature_columns\": feature_cols,\n",
    "    \"target_variable\": \"isFraud\",\n",
    "    \"dataset_info\": {\n",
    "        \"train_samples\": int(len(X_train)),\n",
    "        \"val_samples\": int(len(X_val)),\n",
    "        \"test_samples\": int(len(X_test)),\n",
    "        \"fraud_rate_train\": float(y_train.mean()),\n",
    "        \"fraud_rate_val\": float(y_val.mean()),\n",
    "        \"fraud_rate_test\": float(y_test.mean()),\n",
    "    },\n",
    "    \"dtype_info\": {\n",
    "        \"numeric_count\": len(numeric_features),\n",
    "        \"categorical_count\": len(categorical_features),\n",
    "    },\n",
    "}\n",
    "\n",
    "# Save feature registry\n",
    "FEATURE_REGISTRY_PATH = PROCESSED_DIR / \"feature_registry.json\"\n",
    "with open(FEATURE_REGISTRY_PATH, \"w\") as f:\n",
    "    json.dump(feature_registry, f, indent=4)\n",
    "\n",
    "print(f\"Feature registry saved to: {FEATURE_REGISTRY_PATH}\")\n",
    "print(f\"\\nRegistry summary:\")\n",
    "print(f\" - Created at: {feature_registry['created_at']}\")\n",
    "print(f\" - Total features: {feature_registry['total_features']}\")\n",
    "print(f\" - Numeric: {feature_registry['dtype_info']['numeric_count']}\")\n",
    "print(f\" - Categorical: {feature_registry['dtype_info']['categorical_count']}\")\n",
    "print(f\" - Target variable: {feature_registry['target_variable']}\")"
   ]
  },
  {
   "cell_type": "code",
   "execution_count": 14,
   "id": "3be1fb74",
   "metadata": {},
   "outputs": [
    {
     "name": "stdout",
     "output_type": "stream",
     "text": [
      "Validation complete: 429 features, 354,324 training samples\n"
     ]
    }
   ],
   "source": [
    "# Pre-modeling validation\n",
    "assert 'isFraud' not in X_train.columns, \"Target variable found in feature matrix\"\n",
    "assert 'isFraud' not in X_val.columns, \"Target variable found in validation features\"\n",
    "assert 'isFraud' not in X_test.columns, \"Target variable found in test features\"\n",
    "\n",
    "leaked_cols = [col for col in EXCLUDE_COLS if col in X_train.columns]\n",
    "assert len(leaked_cols) == 0, f\"Excluded columns found in features: {leaked_cols}\"\n",
    "\n",
    "assert set(X_train.columns) == set(X_val.columns) == set(X_test.columns), \\\n",
    "    \"Feature mismatch detected across train/val/test splits\"\n",
    "\n",
    "assert len(X_train) == len(y_train) and len(X_val) == len(y_val) and len(X_test) == len(y_test), \\\n",
    "    \"Feature and target mismatch in detected\"\n",
    "\n",
    "assert X_train.isnull().sum().sum() == 0, \"Missing values detected in training features\"\n",
    "assert X_val.isnull().sum().sum() == 0, \"Missing values detected in validation features\"\n",
    "assert X_test.isnull().sum().sum() == 0, \"Missing values detected in test features\"\n",
    "\n",
    "print(f\"Validation complete: {len(X_train.columns)} features, {len(X_train):,} training samples\")"
   ]
  },
  {
   "cell_type": "markdown",
   "id": "281269b3",
   "metadata": {},
   "source": [
    "## Class Imbalance Handling\n",
    "\n",
    "We address the severe class imbalance in our dataset (1:29 fraud-to-legitimate ratio). Without handling this imbalance, models will be heavily biased toward predicting the majority class, resulting in high accuracy but poor fraud detection.\n",
    "\n",
    "We use class weights rather than resampling techniques to preserve the original data distribution and avoid introducing synthetic data artifacts. This approach aligns with financial industry best practices where maintaining authentic transaction patterns is critical for model interpretability and regulatory compliance.\n",
    "\n",
    "The class weight approach adjusts the loss function during training to penalize misclassification of fraud cases more heavily, forcing the model to learn fraud patterns despite their rarity."
   ]
  },
  {
   "cell_type": "code",
   "execution_count": 15,
   "id": "231d7b4a",
   "metadata": {},
   "outputs": [
    {
     "name": "stdout",
     "output_type": "stream",
     "text": [
      "Class Imbalance Analysis\n",
      "\n",
      "Training set:\n",
      " - Fraud cases: 11,988 (3.38%)\n",
      " - Legitimate cases: 342,336 (-2.38%)\n",
      " - Imbalance ratio: 1:28.6\n",
      "\n",
      "Validation set:\n",
      " - Fraud cases: 4,611 (3.90%)\n",
      " - Legitimate cases: 113,497 (-2.90%)\n",
      " - Imbalance ratio: 1:24.6\n",
      "\n",
      "Test set:\n",
      " - Fraud cases: 4,064 (3.44%)\n",
      " - Legitimate cases: 114,044 (-2.44%)\n",
      " - Imbalance ratio: 1:28.1\n"
     ]
    },
    {
     "data": {
      "image/png": "[encoded data removed]",
      "text/plain": [
       "<Figure size 1500x400 with 3 Axes>"
      ]
     },
     "metadata": {},
     "output_type": "display_data"
    }
   ],
   "source": [
    "# Analyze class imbalance across splits\n",
    "print(f\"Class Imbalance Analysis\\n\")\n",
    "\n",
    "# Calculate imbalance ratios\n",
    "train_fraud_count = y_train.sum()\n",
    "train_legit_count = len(y_train) - train_fraud_count\n",
    "train_imbalance_ratio = train_legit_count / train_fraud_count\n",
    "\n",
    "val_fraud_count = y_val.sum()\n",
    "val_legit_count = len(y_val) - val_fraud_count\n",
    "val_imbalance_ratio = val_legit_count / val_fraud_count\n",
    "\n",
    "test_fraud_count = y_test.sum()\n",
    "test_legit_count = len(y_test) - test_fraud_count\n",
    "test_imbalance_ratio = test_legit_count / test_fraud_count\n",
    "\n",
    "print(\"Training set:\")\n",
    "print(f\" - Fraud cases: {train_fraud_count:,} ({y_train.mean()*100:.2f}%)\")\n",
    "print(f\" - Legitimate cases: {train_legit_count:,} ({1 - y_train.mean()*100:.2f}%)\")\n",
    "print(f\" - Imbalance ratio: 1:{train_imbalance_ratio:.1f}\")\n",
    "\n",
    "print(\"\\nValidation set:\")\n",
    "print(f\" - Fraud cases: {val_fraud_count:,} ({y_val.mean()*100:.2f}%)\")\n",
    "print(f\" - Legitimate cases: {val_legit_count:,} ({1 - y_val.mean()*100:.2f}%)\")\n",
    "print(f\" - Imbalance ratio: 1:{val_imbalance_ratio:.1f}\")\n",
    "\n",
    "print(\"\\nTest set:\")\n",
    "print(f\" - Fraud cases: {test_fraud_count:,} ({y_test.mean()*100:.2f}%)\")\n",
    "print(f\" - Legitimate cases: {test_legit_count:,} ({1 - y_test.mean()*100:.2f}%)\")\n",
    "print(f\" - Imbalance ratio: 1:{test_imbalance_ratio:.1f}\")\n",
    "\n",
    "# Visualize class distribution\n",
    "fig, axes = plt.subplots(1, 3, figsize=(15, 4))\n",
    "\n",
    "for idx, (split_name, y_split) in enumerate([('Train', y_train), ('Validation', y_val), ('Test', y_test)]):\n",
    "    counts = y_split.value_counts()\n",
    "    axes[idx].bar(['Legitimate', 'Fraud'], [counts[0], counts[1]], color=['#2ecc71', '#e74c3c'])\n",
    "    axes[idx].set_title(f'{split_name} Set Distribution')\n",
    "    axes[idx].set_ylabel('Count')\n",
    "    axes[idx].ticklabel_format(style='plain', axis='y')\n",
    "\n",
    "    # Add percentage labels\n",
    "    total = len(y_split)\n",
    "    for i, count in enumerate(counts):\n",
    "        pc = (count / total) * 100\n",
    "        axes[idx].text(i, count, f'{count:,}\\n({pc:.2f}%)', ha='center', va='bottom', fontsize=9)\n",
    "\n",
    "plt.tight_layout()\n",
    "plt.show()"
   ]
  },
  {
   "cell_type": "markdown",
   "id": "bd28cc10",
   "metadata": {},
   "source": [
    "### Imbalance Handling Strategy\n",
    "\n",
    "We use **class weights** as our primary approach:\n",
    "\n",
    "**Why Class Weights:**\n",
    "- Preserves original data distribution (no synthetic data)\n",
    "- Fast training (no data augmentation overhead)\n",
    "- Industry standard for fraud detection in payments\n",
    "- Maintains interpretability for regulatory compliance\n",
    "\n",
    "**Alternative Approaches:**\n",
    "- **SMOTE**: Considered if recall is insufficient with class weights alone\n",
    "- **Undersampling**: Not appropriate for our dataset size (would discard valuable legitimate transaction patterns)\n",
    "\n",
    "Class weights will be passed to LightGBM via the `is_unbalance=True` parameter, which automatically adjusts sample weights during training to balance the loss function."
   ]
  },
  {
   "cell_type": "code",
   "execution_count": 16,
   "id": "46a48f9d",
   "metadata": {},
   "outputs": [
    {
     "name": "stdout",
     "output_type": "stream",
     "text": [
      "Class Weight Configuration\n",
      "\n",
      "Calulcated scale_pos_weight: 28.56\n",
      "Interpretation: Fraud cases weighted 28.6x more than legitimate cases\n",
      "\n",
      "LightGBM Configuration:\n",
      " - Parameter: is_unbalance=True\n",
      " - Effect: Automatically adjusts sample weights based on class distribution\n",
      " - Benefits: Prevents bias toward majority class without data modification\n",
      "\n",
      "Training with Class Weights:\n",
      " - Loss function penalizes fraud misclassification more heavily\n",
      " - Model learns to identify fraud patterns despite rarity\n",
      " - Maintains original data distribution for validation\n",
      "\n",
      "Imbalance metadata saved to: /Users/joekariuki/Documents/Devbrew/research/devbrew-payments-fraud-sanctions/data_catalog/processed/imbalance_metadata.json\n"
     ]
    }
   ],
   "source": [
    "# Calculate scale_pos_weight for reference (used in XGBoost)\n",
    "# scale_pos_weight = (negative samples) / (positive samples)\n",
    "scale_pos_weight_train = train_legit_count / train_fraud_count\n",
    "\n",
    "print(\"Class Weight Configuration\\n\")\n",
    "print(f\"Calulcated scale_pos_weight: {scale_pos_weight_train:.2f}\")\n",
    "print(f\"Interpretation: Fraud cases weighted {scale_pos_weight_train:.1f}x more than legitimate cases\")\n",
    "\n",
    "print(\"\\nLightGBM Configuration:\")\n",
    "print(f\" - Parameter: is_unbalance=True\")\n",
    "print(f\" - Effect: Automatically adjusts sample weights based on class distribution\")\n",
    "print(f\" - Benefits: Prevents bias toward majority class without data modification\")\n",
    "\n",
    "print(\"\\nTraining with Class Weights:\")\n",
    "print(f\" - Loss function penalizes fraud misclassification more heavily\")\n",
    "print(f\" - Model learns to identify fraud patterns despite rarity\")\n",
    "print(f\" - Maintains original data distribution for validation\")\n",
    "\n",
    "# Store imbalance metadata for model documentation\n",
    "imbalance_metadata = {\n",
    "    \"strategy\": \"class_weights\",\n",
    "    \"method\": \"lightgbm_is_unbalance\",\n",
    "    \"scale_pos_weight_train\": float(scale_pos_weight_train),\n",
    "    \"imbalance_ratios\": {\n",
    "        \"train\": float(train_imbalance_ratio),\n",
    "        \"val\": float(val_imbalance_ratio),\n",
    "        \"test\": float(test_imbalance_ratio)\n",
    "    },\n",
    "    \"fraud_counts\": {\n",
    "        \"train\": int(train_fraud_count),\n",
    "        \"val\": int(val_fraud_count),\n",
    "        \"test\": int(test_fraud_count)\n",
    "    },\n",
    "    \"fraud_rates\": {\n",
    "        \"train\": float(y_train.mean()),\n",
    "        \"val\": float(y_val.mean()),\n",
    "        \"test\": float(y_test.mean())\n",
    "    }\n",
    "}\n",
    "\n",
    "# Save imbalance handling metadata\n",
    "IMBALANCE_METADATA_PATH = PROCESSED_DIR / \"imbalance_metadata.json\"\n",
    "with open(IMBALANCE_METADATA_PATH, \"w\") as f:\n",
    "    json.dump(imbalance_metadata, f, indent=4)\n",
    "    \n",
    "print(f\"\\nImbalance metadata saved to: {IMBALANCE_METADATA_PATH}\")"
   ]
  },
  {
   "cell_type": "markdown",
   "id": "a81229e7",
   "metadata": {},
   "source": [
    "## Baseline Model Training\n",
    "\n",
    "We train an initial LightGBM model with conservative hyperparameters to establish baseline performance. This baseline serves as our reference point for evaluating hyperparameter tuning improvements and validates that our pipeline is working correctly.\n",
    "\n",
    "LightGBM is selected for its native categorical feature support, fast training speed, and memory efficiency. The gradient boosting decision tree (GBDT) algorithm is well-suited for fraud detection due to its ability to capture non-linear patterns and feature interactions common in fraudulent behavior.\n",
    "\n",
    "We use early stopping to prevent overfitting and monitor both training and validation metrics to ensure the model generalizes well to unseen data."
   ]
  },
  {
   "cell_type": "code",
   "execution_count": 17,
   "id": "4b7a38fe",
   "metadata": {},
   "outputs": [
    {
     "name": "stdout",
     "output_type": "stream",
     "text": [
      "Baseline Model Configuration:\n",
      "\n",
      "Hyperparameters:\n",
      " - objective: binary\n",
      " - metric: auc\n",
      " - boosting_type: gbdt\n",
      " - num_leaves: 31\n",
      " - learning_rate: 0.05\n",
      " - feature_fraction: 0.9\n",
      " - bagging_fraction: 0.8\n",
      " - bagging_freq: 5\n",
      " - min_child_samples: 100\n",
      " - is_unbalance: True\n",
      " - verbose: -1\n",
      " - random_state: 42\n",
      "\n",
      "Key configuration notes:\n",
      " - is_unbalance: Automatically adjusts sample weights for class imbalance\n",
      " - learning_rate=0.05: Conservative rate for stable convergence\n",
      " - num_leaves=31: Moderate complexity to prevent overfitting\n",
      " - Early stopping: 50 rounds to prevent overfitting\n",
      " - Evaludation: Monitor both train and validation AUC\n"
     ]
    }
   ],
   "source": [
    "# Baseline hyperparameters (conservative settings)\n",
    "baseline_params = {\n",
    "    \"objective\": \"binary\",\n",
    "    \"metric\": \"auc\",\n",
    "    \"boosting_type\": \"gbdt\",\n",
    "    \"num_leaves\": 31,\n",
    "    \"learning_rate\": 0.05,\n",
    "    \"feature_fraction\": 0.9,\n",
    "    \"bagging_fraction\": 0.8,\n",
    "    \"bagging_freq\": 5,\n",
    "    \"min_child_samples\": 100,\n",
    "   \"is_unbalance\": True,\n",
    "   \"verbose\": -1,\n",
    "   \"random_state\": RANDOM_STATE,\n",
    "}\n",
    "\n",
    "print(\"Baseline Model Configuration:\\n\")\n",
    "print(\"Hyperparameters:\")\n",
    "for param, value in baseline_params.items():\n",
    "    print(f\" - {param}: {value}\")\n",
    "\n",
    "print(\"\\nKey configuration notes:\")\n",
    "print(\" - is_unbalance: Automatically adjusts sample weights for class imbalance\")\n",
    "print(\" - learning_rate=0.05: Conservative rate for stable convergence\")\n",
    "print(\" - num_leaves=31: Moderate complexity to prevent overfitting\")\n",
    "print(\" - Early stopping: 50 rounds to prevent overfitting\")\n",
    "print(\" - Evaludation: Monitor both train and validation AUC\")"
   ]
  },
  {
   "cell_type": "code",
   "execution_count": 18,
   "id": "9251268b",
   "metadata": {},
   "outputs": [
    {
     "name": "stdout",
     "output_type": "stream",
     "text": [
      "Creating LightGBM datasets...\n",
      "\n",
      "Categorical features detected: 29\n",
      "Sample categorical features: ['ProductCD', 'card4', 'card6', 'P_emaildomain', 'R_emaildomain']\n",
      "\n",
      "Converting categorical features to pandas category dtype...\n",
      "Conversion complete\n",
      "[LightGBM] [Warning] Categorical features with more bins than the configured maximum bin number found.\n",
      "[LightGBM] [Warning] For categorical features, max_bin and max_bin_by_feature may be ignored with a large number of categories.\n",
      "\n",
      "Dataset creation complete\n",
      " - Training sample: 354,324\n",
      " - Validation sample: 118,108\n",
      " - Features: 429\n"
     ]
    }
   ],
   "source": [
    "# Create LightGNM datasets for efficient training\n",
    "print(\"Creating LightGBM datasets...\")\n",
    "\n",
    "# Identify categorical features\n",
    "categorical_features = X_train.select_dtypes(include=['object', 'category']).columns.tolist()\n",
    "\n",
    "print(f\"\\nCategorical features detected: {len(categorical_features)}\")\n",
    "if len(categorical_features) > 0:\n",
    "    print(f\"Sample categorical features: {categorical_features[:5]}\")\n",
    "\n",
    "    # Convert object dtype to category dtype for LightGBM\n",
    "    print(\"\\nConverting categorical features to pandas category dtype...\")\n",
    "    for col in categorical_features:\n",
    "        X_train[col] = X_train[col].astype('category')\n",
    "        X_val[col] = X_val[col].astype('category')\n",
    "        X_test[col] = X_test[col].astype('category')\n",
    "\n",
    "    print(\"Conversion complete\")\n",
    "\n",
    "# Create datasets\n",
    "train_data = lgb.Dataset(\n",
    "    X_train, \n",
    "    label=y_train, \n",
    "    categorical_feature=categorical_features if categorical_features else 'auto', \n",
    "    free_raw_data=False\n",
    ")\n",
    "\n",
    "val_data = lgb.Dataset(\n",
    "    X_val, \n",
    "    label=y_val, \n",
    "    reference=train_data,\n",
    "    categorical_feature=categorical_features if categorical_features else 'auto', \n",
    "    free_raw_data=False\n",
    ")\n",
    "\n",
    "# Construct datasets before accessing properties\n",
    "train_data.construct()\n",
    "val_data.construct()\n",
    "\n",
    "print(\"\\nDataset creation complete\")\n",
    "print(f\" - Training sample: {train_data.num_data():,}\")\n",
    "print(f\" - Validation sample: {val_data.num_data():,}\")\n",
    "print(f\" - Features: {train_data.num_feature()}\")"
   ]
  },
  {
   "cell_type": "code",
   "execution_count": 19,
   "id": "35495d74",
   "metadata": {},
   "outputs": [
    {
     "name": "stdout",
     "output_type": "stream",
     "text": [
      "Training LightGBM model...\n",
      "Training until validation scores don't improve for 50 rounds\n",
      "[100]\ttrain's auc: 0.942324\tval's auc: 0.909473\n",
      "[200]\ttrain's auc: 0.961492\tval's auc: 0.914227\n",
      "[300]\ttrain's auc: 0.972079\tval's auc: 0.915733\n",
      "Early stopping, best iteration is:\n",
      "[295]\ttrain's auc: 0.971714\tval's auc: 0.915821\n",
      "\n",
      "Training completed in 8.23 seconds\n",
      "Best iteration: 295\n",
      "Best validation AUC: 0.9158\n"
     ]
    }
   ],
   "source": [
    "# Train baseline model with early stopping\n",
    "print(\"Training LightGBM model...\")\n",
    "\n",
    "# Training configuration\n",
    "num_boost_round = 1000\n",
    "early_stopping_rounds = 50\n",
    "\n",
    "# Track training start time\n",
    "train_start = time.time()\n",
    "\n",
    "# Train model\n",
    "baseline_model = lgb.train(\n",
    "    baseline_params,\n",
    "    train_data,\n",
    "    num_boost_round=num_boost_round,\n",
    "    valid_sets=[train_data, val_data],\n",
    "    valid_names=['train', 'val'],\n",
    "    callbacks=[\n",
    "        lgb.early_stopping(stopping_rounds=early_stopping_rounds, verbose=True),\n",
    "        lgb.log_evaluation(period=100)\n",
    "    ]\n",
    ")\n",
    "\n",
    "# Calculate training time\n",
    "train_duration = time.time() - train_start\n",
    "\n",
    "print(f\"\\nTraining completed in {train_duration:.2f} seconds\")\n",
    "print(f\"Best iteration: {baseline_model.best_iteration}\")\n",
    "print(f\"Best validation AUC: {baseline_model.best_score['val']['auc']:.4f}\")"
   ]
  },
  {
   "cell_type": "code",
   "execution_count": 20,
   "id": "8fa7ac6c",
   "metadata": {},
   "outputs": [
    {
     "name": "stdout",
     "output_type": "stream",
     "text": [
      "Generating predictions...\n",
      "\n",
      "Prediction Statistics:\n",
      "\n",
      "Train:\n",
      " - Mean predicted probability: 0.1980\n",
      " - Std predicted probability: 0.2165\n",
      " - Min: 0.0002, Max: 0.9995\n",
      " - Actual fraud rate: 0.0338 (3.38%)\n",
      "\n",
      "Validation:\n",
      " - Mean predicted probability: 0.1975\n",
      " - Std predicted probability: 0.2108\n",
      " - Min: 0.0002, Max: 0.9989\n",
      " - Actual fraud rate: 0.0390 (3.90%)\n",
      "\n",
      "Test:\n",
      " - Mean predicted probability: 0.1895\n",
      " - Std predicted probability: 0.2058\n",
      " - Min: 0.0001, Max: 0.9986\n",
      " - Actual fraud rate: 0.0344 (3.44%)\n"
     ]
    }
   ],
   "source": [
    "# Generate predictions on all splits\n",
    "print(\"Generating predictions...\\n\")\n",
    "\n",
    "# Predict probabilities\n",
    "y_train_pred_proba = baseline_model.predict(X_train, num_iteration=baseline_model.best_iteration)\n",
    "y_val_pred_proba = baseline_model.predict(X_val, num_iteration=baseline_model.best_iteration)\n",
    "y_test_pred_proba = baseline_model.predict(X_test, num_iteration=baseline_model.best_iteration)\n",
    "\n",
    "# Summary statistics\n",
    "print(\"Prediction Statistics:\")\n",
    "for split_name, y_true, y_pred in [\n",
    "    (\"Train\", y_train, y_train_pred_proba),\n",
    "    (\"Validation\", y_val, y_val_pred_proba),\n",
    "    (\"Test\", y_test, y_test_pred_proba)\n",
    "]:\n",
    "    print(f\"\\n{split_name}:\")\n",
    "    print(f\" - Mean predicted probability: {y_pred.mean():.4f}\")\n",
    "    print(f\" - Std predicted probability: {y_pred.std():.4f}\")\n",
    "    print(f\" - Min: {y_pred.min():.4f}, Max: {y_pred.max():.4f}\")\n",
    "    print(f\" - Actual fraud rate: {y_true.mean():.4f} ({y_true.mean()*100:.2f}%)\")"
   ]
  },
  {
   "cell_type": "code",
   "execution_count": 21,
   "id": "f0ef29f5",
   "metadata": {},
   "outputs": [
    {
     "name": "stdout",
     "output_type": "stream",
     "text": [
      "Baseline Model Performance\n",
      "\n",
      "ROC-AUC Metrics:\n",
      " - Train: 0.9717\n",
      " - Validation: 0.9158\n",
      " - Test: 0.8861\n",
      "\n",
      "Train-Val Gap: 0.0559 (Acceptable - moderate overfitting)\n",
      "\n",
      "PR-AUC Scores (Precision-Recall):\n",
      " - Train: 0.7673\n",
      " - Validation: 0.5620\n",
      " - Test: 0.4743\n",
      "\n",
      "Success Criteria:\n",
      " - Target ROC-AUC >= 0.85: PASS (Test: 0.8861)\n",
      " - Baseline threshold >= 0.75: PASS\n"
     ]
    }
   ],
   "source": [
    "# Calculate comprehensive performance metrics\n",
    "print(\"Baseline Model Performance\\n\")\n",
    "\n",
    "# ROC-AUC for all splits\n",
    "train_roc_auc = roc_auc_score(y_train, y_train_pred_proba)\n",
    "val_roc_auc = roc_auc_score(y_val, y_val_pred_proba)\n",
    "test_roc_auc = roc_auc_score(y_test, y_test_pred_proba)\n",
    "\n",
    "print(f\"ROC-AUC Metrics:\")\n",
    "print(f\" - Train: {train_roc_auc:.4f}\")\n",
    "print(f\" - Validation: {val_roc_auc:.4f}\")\n",
    "print(f\" - Test: {test_roc_auc:.4f}\")\n",
    "\n",
    "# Check for overfitting\n",
    "train_val_gap = train_roc_auc - val_roc_auc\n",
    "print(f\"\\nTrain-Val Gap: {train_val_gap:.4f}\", end=\"\")\n",
    "\n",
    "if train_val_gap < 0.05:\n",
    "    print(\" (Good - minimal overfitting)\")\n",
    "elif train_val_gap < 0.10:\n",
    "    print(\" (Acceptable - moderate overfitting)\")\n",
    "else:\n",
    "    print(\" (Warning - significant overfitting)\")\n",
    "\n",
    "# PR-AUC (critical for imbalanced data)\n",
    "train_pr_auc = average_precision_score(y_train, y_train_pred_proba)\n",
    "val_pr_auc = average_precision_score(y_val, y_val_pred_proba)\n",
    "test_pr_auc = average_precision_score(y_test, y_test_pred_proba)\n",
    "\n",
    "print(f\"\\nPR-AUC Scores (Precision-Recall):\")\n",
    "print(f\" - Train: {train_pr_auc:.4f}\")\n",
    "print(f\" - Validation: {val_pr_auc:.4f}\")\n",
    "print(f\" - Test: {test_pr_auc:.4f}\")\n",
    "\n",
    "# Success criteria check\n",
    "print(\"\\nSuccess Criteria:\")\n",
    "print(f\" - Target ROC-AUC >= 0.85: {'PASS' if test_roc_auc >= 0.85 else 'FAIL'} (Test: {test_roc_auc:.4f})\")\n",
    "print(f\" - Baseline threshold >= 0.75: {'PASS' if test_roc_auc >= 0.75 else 'FAIL'}\")"
   ]
  },
  {
   "cell_type": "code",
   "execution_count": 22,
   "id": "8fdbb361",
   "metadata": {},
   "outputs": [
    {
     "data": {
      "image/png": "[encoded data removed]",
      "text/plain": [
       "<Figure size 1200x500 with 2 Axes>"
      ]
     },
     "metadata": {},
     "output_type": "display_data"
    }
   ],
   "source": [
    "# Visualize ROC and PR curves\n",
    "fig, axes = plt.subplots(1, 2, figsize=(12, 5))\n",
    "\n",
    "# Receiver Operating Characteristic (ROC) curve\n",
    "for split_name, y_true, y_pred, color in [\n",
    "    (\"Train\", y_train, y_train_pred_proba, '#3498db'),\n",
    "    (\"Validation\", y_val, y_val_pred_proba, '#2ecc71'),\n",
    "    (\"Test\", y_test, y_test_pred_proba, '#e74c3c')\n",
    "]:\n",
    "    fpr, tpr, thresholds = roc_curve(y_true, y_pred)\n",
    "    auc_score = roc_auc_score(y_true, y_pred)\n",
    "    axes[0].plot(fpr, tpr, label=f'{split_name} (AUC = {auc_score:.3f})', color=color, linewidth=2)\n",
    "    \n",
    "axes[0].plot([0, 1], [0, 1], 'k--', label='Random (AUC=0.500)', linewidth=2)\n",
    "axes[0].set_xlabel('False Positive Rate')\n",
    "axes[0].set_ylabel('True Positive Rate')\n",
    "axes[0].set_title('ROC Curve - Baseline Model')\n",
    "axes[0].legend(loc='lower right')\n",
    "axes[0].grid(True, alpha=0.3)\n",
    "\n",
    "# Precision-Recall curve\n",
    "for split_name, y_true, y_pred, color in [\n",
    "    (\"Train\", y_train, y_train_pred_proba, '#3498db'),\n",
    "    (\"Validation\", y_val, y_val_pred_proba, '#2ecc71'),\n",
    "    (\"Test\", y_test, y_test_pred_proba, '#e74c3c')\n",
    "]:\n",
    "    precision, recall, _ = precision_recall_curve(y_true, y_pred)\n",
    "    pr_auc = average_precision_score(y_true, y_pred)\n",
    "    axes[1].plot(recall, precision, label=f'{split_name} (AP={pr_auc:.3f})', color=color, linewidth=2)\n",
    "\n",
    "\n",
    "# Baseline (random classifier)\n",
    "baseline_precision = y_test.mean()\n",
    "axes[1].axhline(y=baseline_precision, color='k', linestyle='--', \n",
    "                label=f'Random (AP={baseline_precision:.3f})', linewidth=1)\n",
    "axes[1].set_xlabel('Recall')\n",
    "axes[1].set_ylabel('Precision')\n",
    "axes[1].set_title('Precision-Recall Curve - Baseline Model')\n",
    "axes[1].legend(loc='upper right')\n",
    "axes[1].grid(True, alpha=0.3)\n",
    "\n",
    "plt.tight_layout()\n",
    "plt.show()\n"
   ]
  },
  {
   "cell_type": "markdown",
   "id": "c02af33e",
   "metadata": {},
   "source": [
    "## Feature Importance Analysis\n",
    "\n",
    "We analyze which features contribute most to the model's fraud detection capability using gain-based importance scores. This analysis serves multiple purposes: validating that engineered features are being utilized, identifying potential feature leakage, and guiding future feature engineering efforts.\n",
    "\n",
    "Feature importance is calculated using LightGBM's native gain metric, which measures the total reduction in loss contributed by each feature across all splits. We examine both the top individual features and the cumulative importance distribution to understand feature concentration.\n",
    "\n",
    "This analysis is critical for model interpretability and regulatory compliance in financial services."
   ]
  },
  {
   "cell_type": "code",
   "execution_count": 23,
   "id": "ba835bd1",
   "metadata": {},
   "outputs": [
    {
     "name": "stdout",
     "output_type": "stream",
     "text": [
      "Feature Importance Analysis\n",
      "\n",
      "Top 20 Most Important Features:\n",
      " 1. V258                                570,644\n",
      " 2. V294                                329,887\n",
      " 3. C14                                 291,683\n",
      " 4. P_emaildomain                       233,604\n",
      " 5. DeviceInfo                          181,462\n",
      " 6. D2                                  166,831\n",
      " 7. id_31                               165,129\n",
      " 8. card_amt_mean                       155,249\n",
      " 9. C8                                  147,174\n",
      "10. C13                                 112,282\n",
      "11. TransactionAmt                      110,044\n",
      "12. R_emaildomain                       107,315\n",
      "13. C1                                  100,888\n",
      "14. id_30                                99,961\n",
      "15. id_33                                94,343\n",
      "16. card1                                84,651\n",
      "17. V70                                  83,878\n",
      "18. card6                                83,214\n",
      "19. card_amt_std                         82,834\n",
      "20. M4                                   79,457\n"
     ]
    },
    {
     "data": {
      "image/png": "[encoded data removed]",
      "text/plain": [
       "<Figure size 1000x800 with 1 Axes>"
      ]
     },
     "metadata": {},
     "output_type": "display_data"
    },
    {
     "name": "stdout",
     "output_type": "stream",
     "text": [
      "\n",
      "Feature Coverage:\n",
      " - Total features: 429\n",
      " - Features explaining 90% importance: 61\n",
      " - Percentage: 14.2%\n"
     ]
    }
   ],
   "source": [
    "# Extract and visualize feature importance\n",
    "print(\"Feature Importance Analysis\\n\")\n",
    "\n",
    "# Get feature importance scores\n",
    "feature_importance = baseline_model.feature_importance(importance_type='gain')\n",
    "feature_names = baseline_model.feature_name()\n",
    "\n",
    "# Create importance dataframe\n",
    "importance_df = pd.DataFrame({\n",
    "    'feature': feature_names,\n",
    "    'importance': feature_importance\n",
    "}).sort_values(by='importance', ascending=False)\n",
    "\n",
    "# Top 20 features\n",
    "top_n = 20\n",
    "top_features = importance_df.head(top_n)\n",
    "\n",
    "print(f\"Top {top_n} Most Important Features:\")\n",
    "for idx, row in enumerate(top_features.itertuples(), 1):\n",
    "    print(f\"{idx:2d}. {row.feature:30s} {row.importance:12,.0f}\")\n",
    "\n",
    "# Visualize top features\n",
    "fig, ax = plt.subplots(figsize=(10, 8))\n",
    "top_features_plot = top_features.iloc[::-1] # Reverse for better visualization\n",
    "\n",
    "ax.barh(range(len(top_features_plot)), top_features_plot['importance'], color='#3498db')\n",
    "ax.set_yticks(range(len(top_features_plot)))\n",
    "ax.set_yticklabels(top_features_plot['feature'])\n",
    "ax.set_xlabel('Importance (Gain)')\n",
    "ax.set_title(f'Top {top_n} Feature Importance - Baseline Model')\n",
    "ax.grid(axis='x', alpha=0.3)\n",
    "\n",
    "plt.tight_layout()\n",
    "plt.show()\n",
    "\n",
    "# Calculate cumulative importance\n",
    "importance_df['cumulative_importance'] = importance_df['importance'].cumsum() / importance_df['importance'].sum()\n",
    "features_for_90pct = (importance_df['cumulative_importance'] <= 0.90).sum()\n",
    "\n",
    "print(f\"\\nFeature Coverage:\")\n",
    "print(f\" - Total features: {len(importance_df)}\")\n",
    "print(f\" - Features explaining 90% importance: {features_for_90pct}\")\n",
    "print(f\" - Percentage: {features_for_90pct / len(importance_df) * 100:.1f}%\")"
   ]
  },
  {
   "cell_type": "code",
   "execution_count": 24,
   "id": "6767ce34",
   "metadata": {},
   "outputs": [
    {
     "name": "stdout",
     "output_type": "stream",
     "text": [
      "\n",
      "Baseline model saved to: /Users/joekariuki/Documents/Devbrew/research/devbrew-payments-fraud-sanctions/packages/models/fraud_baseline_v1.txt\n"
     ]
    }
   ],
   "source": [
    "# Save baseline model\n",
    "MODELS_DIR = PROCESSED_DIR.parent.parent / \"packages\" / \"models\"\n",
    "MODELS_DIR.mkdir(parents=True, exist_ok=True)\n",
    "\n",
    "# Save model in LightGBM native format\n",
    "baseline_model_path = MODELS_DIR / \"fraud_baseline_v1.txt\"\n",
    "baseline_model.save_model(str(baseline_model_path))\n",
    "\n",
    "print(f\"\\nBaseline model saved to: {baseline_model_path}\")\n",
    "\n",
    "# Create production-grade model metadata\n",
    "baseline_metadata = {\n",
    "    # Model Identity & Ownership\n",
    "    \"model_id\": f\"fraud-baseline-{pd.Timestamp.now().strftime('%Y%m%d-%H%M%S')}\",\n",
    "    \"model_version\": \"baseline_v1.0\",\n",
    "    \"model_type\": \"LightGBM\",\n",
    "    \"model_owner\": \"Devbrew\",\n",
    "    \"model_contact\": \"hello@devbrew.ai\",\n",
    "    \"training_date\": pd.Timestamp.now().isoformat(),\n",
    "    \"framework_version\": lgb.__version__,\n",
    "    \"random_state\": RANDOM_STATE,\n",
    "    \n",
    "    # Training Configuration\n",
    "    \"hyperparameters\": baseline_params,\n",
    "    \"training_config\": {\n",
    "        \"num_boost_round\": num_boost_round,\n",
    "        \"early_stopping_rounds\": early_stopping_rounds,\n",
    "        \"best_iteration\": baseline_model.best_iteration,\n",
    "        \"training_duration_seconds\": round(train_duration, 2)\n",
    "    },\n",
    "    \n",
    "    # Performance Metrics\n",
    "    \"performance_metrics\": {\n",
    "        \"train\": {\n",
    "            \"roc_auc\": float(train_roc_auc),\n",
    "            \"pr_auc\": float(train_pr_auc),\n",
    "            \"samples\": len(X_train)\n",
    "        },\n",
    "        \"validation\": {\n",
    "            \"roc_auc\": float(val_roc_auc),\n",
    "            \"pr_auc\": float(val_pr_auc),\n",
    "            \"samples\": len(X_val)\n",
    "        },\n",
    "        \"test\": {\n",
    "            \"roc_auc\": float(test_roc_auc),\n",
    "            \"pr_auc\": float(test_pr_auc),\n",
    "            \"samples\": len(X_test)\n",
    "        },\n",
    "        \"evaluation_date\": pd.Timestamp.now().isoformat(),\n",
    "        \"train_val_gap\": float(train_roc_auc - val_roc_auc)\n",
    "    },\n",
    "    \n",
    "    # Data Information\n",
    "    \"data_info\": {\n",
    "        \"train_samples\": len(X_train),\n",
    "        \"val_samples\": len(X_val),\n",
    "        \"test_samples\": len(X_test),\n",
    "        \"num_features\": len(feature_names),\n",
    "        \"categorical_features\": categorical_features,\n",
    "        \"fraud_rate_train\": float(y_train.mean()),\n",
    "        \"fraud_rate_val\": float(y_val.mean()),\n",
    "        \"fraud_rate_test\": float(y_test.mean()),\n",
    "        \"data_version\": \"ieee-cis-2019\",\n",
    "        \"imbalance_ratio_train\": float((1 - y_train.mean()) / y_train.mean())\n",
    "    },\n",
    "    \n",
    "    # Feature Schema (CRITICAL for production model serving)\n",
    "    \"feature_schema\": {\n",
    "        \"feature_names\": feature_names,\n",
    "        \"num_features\": len(feature_names),\n",
    "        \"categorical_features\": categorical_features,\n",
    "        \"numeric_features\": [f for f in feature_names if f not in categorical_features],\n",
    "        \"feature_types\": {\n",
    "            \"numerical\": len([f for f in feature_names if f not in categorical_features]),\n",
    "            \"categorical\": len(categorical_features)\n",
    "        },\n",
    "        \"feature_registry_path\": str(PROCESSED_DIR / \"feature_registry.json\"),\n",
    "        \"schema_version\": \"v1.0\"\n",
    "    },\n",
    "    \n",
    "    # Licensing & Usage Restrictions\n",
    "    \"licensing\": {\n",
    "        \"dataset_license\": \"IEEE-CIS (non-commercial research use only)\",\n",
    "        \"model_license\": \"Apache 2.0\",\n",
    "        \"attribution\": \"IEEE Computational Intelligence Society, Vesta Corporation\",\n",
    "        \"usage_restrictions\": {\n",
    "            \"dataset\": {\n",
    "                \"commercial_use\": \"prohibited\",\n",
    "                \"redistribution\": \"prohibited\", \n",
    "                \"modification\": \"permitted for research purposes\",\n",
    "                \"attribution_required\": True,\n",
    "                \"compliance_required\": \"Kaggle competition rules acceptance\"\n",
    "            },\n",
    "            \"model\": {\n",
    "                \"commercial_use\": \"prohibited (due to dataset restrictions)\",\n",
    "                \"redistribution\": \"permitted for research/educational purposes only\",\n",
    "                \"modification\": \"permitted\",\n",
    "                \"attribution_required\": True,\n",
    "                \"production_deployment\": \"prohibited (due to dataset restrictions)\"\n",
    "            }\n",
    "        }\n",
    "    },\n",
    "    \n",
    "    # Compliance & Governance\n",
    "    \"compliance\": {\n",
    "        \"data_privacy\": \"anonymized_transaction_data\",\n",
    "        \"pii_present\": False,\n",
    "        \"bias_testing\": \"recommended\",\n",
    "        \"fairness_assessment\": \"not_performed\",\n",
    "        \"audit_trail\": \"required_for_production\",\n",
    "        \"regulatory_framework\": \"PCI-DSS_compliant\",\n",
    "        \"dataset_compliance\": \"IEEE-CIS competition rules compliance required\",\n",
    "        \"model_card_available\": False\n",
    "    },\n",
    "    \n",
    "    # Deployment Information\n",
    "    \"deployment_info\": {\n",
    "        \"model_size_mb\": round(baseline_model_path.stat().st_size / (1024*1024), 2),\n",
    "        \"inference_latency_ms\": \"< 10ms (estimated)\",\n",
    "        \"memory_requirements\": \"minimal\",\n",
    "        \"scalability\": \"high\",\n",
    "        \"production_readiness\": \"research_demo_only\",\n",
    "        \"serving_format\": \"lightgbm_native\",\n",
    "        \"cpu_optimized\": True,\n",
    "        \"gpu_required\": False\n",
    "    },\n",
    "    \n",
    "    # Model Artifacts & Dependencies\n",
    "    \"artifacts\": {\n",
    "        \"model_file\": \"fraud_baseline_v1.txt\",\n",
    "        \"metadata_file\": \"fraud_baseline_v1_metadata.json\",\n",
    "        \"feature_importance_file\": \"fraud_baseline_v1_feature_importance.csv\",\n",
    "        \"feature_registry\": str(PROCESSED_DIR / \"feature_registry.json\"),\n",
    "        \"training_manifest\": str(PROCESSED_DIR / \"training_data_manifest.json\"),\n",
    "        \"imbalance_metadata\": str(PROCESSED_DIR / \"imbalance_metadata.json\"),\n",
    "        \"splits_metadata\": str(PROCESSED_DIR / \"splits\" / \"splits_metadata.json\")\n",
    "    },\n",
    "    \n",
    "    # Model Validation & Testing\n",
    "    \"validation\": {\n",
    "        \"cross_validation\": \"temporal_split\",\n",
    "        \"validation_strategy\": \"time_based\",\n",
    "        \"split_ratios\": {\n",
    "            \"train\": 0.60,\n",
    "            \"val\": 0.20,\n",
    "            \"test\": 0.20\n",
    "        },\n",
    "        \"temporal_leak_prevention\": True,\n",
    "        \"test_coverage\": {\n",
    "            \"unit_tests\": False,\n",
    "            \"integration_tests\": False,\n",
    "            \"performance_tests\": True\n",
    "        },\n",
    "        \"drift_monitoring\": \"recommended\"\n",
    "    },\n",
    "    \n",
    "    # Explainability & Interpretability\n",
    "    \"explainability\": {\n",
    "        \"model_interpretable\": True,\n",
    "        \"model_type\": \"tree_based\",\n",
    "        \"feature_importance_available\": True,\n",
    "        \"feature_importance_method\": \"gain\",\n",
    "        \"shap_values_available\": False,\n",
    "        \"lime_available\": False,\n",
    "        \"global_explanations\": \"feature_importance\",\n",
    "        \"local_explanations\": \"not_implemented\",\n",
    "        \"top_features_for_90pct_importance\": int((importance_df['cumulative_importance'] <= 0.90).sum())\n",
    "    },\n",
    "    \n",
    "    # Known Limitations & Risks\n",
    "    \"limitations\": {\n",
    "        \"known_issues\": [\n",
    "            \"Trained on 2017-2018 data; patterns may be outdated for current fraud trends\",\n",
    "            \"Class imbalance (~3.5% fraud rate) handled via class weights\",\n",
    "            \"Limited to transaction and identity features only\",\n",
    "            \"No real-time feature engineering capabilities\",\n",
    "            f\"Temporal drift between train and validation sets: {abs(y_train.mean() - y_val.mean()) * 100:.2f}pp\",\n",
    "            f\"Feature concentration: {int((importance_df['cumulative_importance'] <= 0.90).sum())} features explain 90% of importance\"\n",
    "        ],\n",
    "        \"risk_assessment\": {\n",
    "            \"false_positive_impact\": \"high (customer friction, revenue loss)\",\n",
    "            \"false_negative_impact\": \"critical (fraud losses, chargeback costs)\",\n",
    "            \"drift_risk\": \"high (fraudster adaptation)\",\n",
    "            \"concept_drift\": \"expected in production\",\n",
    "            \"data_quality_dependency\": \"high\"\n",
    "        },\n",
    "        \"recommended_monitoring\": [\n",
    "            \"Monitor fraud rate distribution shifts\",\n",
    "            \"Track feature drift using population stability index (PSI)\",\n",
    "            \"Evaluate performance decay over time\",\n",
    "            \"Review false positive/negative rates by segment\",\n",
    "            \"Track prediction score distributions\"\n",
    "        ]\n",
    "    },\n",
    "    \n",
    "    # Important Notices\n",
    "    \"important_notices\": [\n",
    "        \"This model is trained on IEEE-CIS dataset with non-commercial restrictions\",\n",
    "        \"Cannot be used for commercial fraud detection in production\",\n",
    "        \"Intended for research, education, and proof-of-concept purposes only\",\n",
    "        \"Users must accept Kaggle competition rules before using\",\n",
    "        \"Consider this a baseline for methodology demonstration\",\n",
    "        f\"Model achieves {test_roc_auc:.4f} ROC-AUC on test set (target: >=0.85)\"\n",
    "    ],\n",
    "    \n",
    "    # Metadata Versioning\n",
    "    \"metadata_version\": \"1.0\",\n",
    "    \"metadata_schema\": \"devbrew-ml-model-card-v1\"\n",
    "}"
   ]
  },
  {
   "cell_type": "code",
   "execution_count": 25,
   "id": "ef26c7a9",
   "metadata": {},
   "outputs": [
    {
     "name": "stdout",
     "output_type": "stream",
     "text": [
      "Model metadata saved to: /Users/joekariuki/Documents/Devbrew/research/devbrew-payments-fraud-sanctions/packages/models/fraud_baseline_v1_metadata.json\n",
      "Feature importance saved to: /Users/joekariuki/Documents/Devbrew/research/devbrew-payments-fraud-sanctions/packages/models/fraud_baseline_v1_feature_importance.csv\n",
      "\n",
      "Baseline model artifacts saved successfully\n",
      "\n",
      "Model Artifacts:\n",
      " - Model file: fraud_baseline_v1.txt\n",
      " - Metadata: fraud_baseline_v1_metadata.json\n",
      " - Feature importance: fraud_baseline_v1_feature_importance.csv\n",
      " - Total size: 1183.65 KB\n"
     ]
    }
   ],
   "source": [
    "# Save metadata\n",
    "baseline_metadata_path = MODELS_DIR / \"fraud_baseline_v1_metadata.json\"\n",
    "with open(baseline_metadata_path, \"w\") as f:\n",
    "    json.dump(baseline_metadata, f, indent=4)\n",
    "\n",
    "print(f\"Model metadata saved to: {baseline_metadata_path}\")\n",
    "\n",
    "# Save feature importance\n",
    "importance_path = MODELS_DIR / \"fraud_baseline_v1_feature_importance.csv\"\n",
    "importance_df.to_csv(importance_path, index=False)\n",
    "\n",
    "print(f\"Feature importance saved to: {importance_path}\")\n",
    "\n",
    "print(\"\\nBaseline model artifacts saved successfully\")\n",
    "print(\"\\nModel Artifacts:\")\n",
    "print(f\" - Model file: {baseline_model_path.name}\")\n",
    "print(f\" - Metadata: {baseline_metadata_path.name}\")\n",
    "print(f\" - Feature importance: {importance_path.name}\")\n",
    "print(f\" - Total size: {(baseline_model_path.stat().st_size + baseline_metadata_path.stat().st_size) / 1024:.2f} KB\")"
   ]
  },
  {
   "cell_type": "markdown",
   "id": "5db2131a",
   "metadata": {},
   "source": [
    "### Notes\n",
    "\n",
    "- Baseline model achieves test ROC-AUC of **0.8861** (exceeds 0.85 target)\n",
    "- PR-AUC of **0.4743** indicates strong baseline but shows degradation from training (0.7673) due to temporal drift\n",
    "- Train-validation gap of **5.59%** suggests acceptable overfitting for baseline configuration\n",
    "- Top 20 features explain **73.4%** of model importance, dominated by V-features and amount statistics\n",
    "- Model converged at iteration **295** with early stopping in **8.35 seconds**\n",
    "- Categorical features (29) successfully handled with LightGBM native support\n",
    "- Baseline meets success criteria; temporal drift warrants monitoring in production deployment"
   ]
  },
  {
   "cell_type": "markdown",
   "id": "3259e519",
   "metadata": {},
   "source": [
    "## Model Evaluation\n",
    "\n",
    "We evaluate the baseline model using comprehensive metrics to assess production readiness and understand operational trade-offs. This includes confusion matrix analysis at business-relevant thresholds, cost-sensitive threshold optimization, and precision-recall curves across the full probability spectrum.\n",
    "\n",
    "For imbalanced fraud detection (1:29 ratio), PR-AUC is more informative than ROC-AUC as it focuses on positive class performance where operational decisions occur. We analyze multiple thresholds to understand false positive/false negative trade-offs and translate ML metrics into business impact: expected review volumes, fraud detection rates, and cost savings."
   ]
  },
  {
   "cell_type": "markdown",
   "id": "8675b355",
   "metadata": {},
   "source": [
    "### Comprehensive Metrics Suite\n",
    "\n",
    "We calculate both threshold-independent metrics (ROC-AUC, PR-AUC) and threshold-dependent metrics (precision, recall, F1) at multiple operationally relevant decision points. This provides a complete view of model performance across the full probability range.\n",
    "\n",
    "Threshold-independent metrics evaluate the model's ranking ability regardless of classification cutoff, while threshold-dependent metrics reflect actual operational performance at specific decision boundaries. Understanding both perspectives is essential for production deployment in payment systems."
   ]
  },
  {
   "cell_type": "code",
   "execution_count": 26,
   "id": "ad44f79e",
   "metadata": {},
   "outputs": [
    {
     "name": "stdout",
     "output_type": "stream",
     "text": [
      "Helper functions loaded successfully\n"
     ]
    }
   ],
   "source": [
    "# Helper functions for model evaluation\n",
    "def calculate_metrics(\n",
    "    y_true: np.ndarray, \n",
    "    y_pred_proba: np.ndarray, \n",
    "    split_name: str = \"Test\",\n",
    ") -> dict:\n",
    "    \"\"\"\n",
    "    Calculate threshold-independent classification metrics.\n",
    "    \n",
    "    These metrics evaluate model's ability to rank predictions correctly,\n",
    "    independent of classification threshold choice. ROC-AUC measures overall\n",
    "    ranking quality while PR-AUC focuses on positive class (fraud) performance.\n",
    "    \n",
    "    Parameters:\n",
    "        y_true: Ground truth binary labels\n",
    "        y_pred_proba: Predicted probabilities from model\n",
    "        split_name: Dataset split name for reporting (train/val/test)\n",
    "    \n",
    "    Returns:\n",
    "        Dictionary containing ROC-AUC, PR-AUC, and improvement over random baseline\n",
    "    \"\"\"\n",
    "\n",
    "    roc_auc = roc_auc_score(y_true, y_pred_proba)\n",
    "    pr_auc = average_precision_score(y_true, y_pred_proba)\n",
    "    fraud_rate = y_true.mean()\n",
    "    metrics = {\n",
    "        \"split\": split_name,\n",
    "        \"roc_auc\": float(roc_auc),\n",
    "        \"pr_auc\": float(pr_auc),\n",
    "        \"fraud_rate\": float(fraud_rate),\n",
    "        \"roc_vs_random\": float(roc_auc - 0.5),\n",
    "        \"pr_vs_random\": float(pr_auc - fraud_rate),\n",
    "        \"n_samples\": int(len(y_true)),\n",
    "        \"n_fraud\": int(y_true.sum()),\n",
    "        \"n_legitimate\": int(len(y_true) - y_true.sum()),\n",
    "    }\n",
    "\n",
    "    return metrics\n",
    "\n",
    "def generate_confusion_matrices(\n",
    "    y_true: np.ndarray,\n",
    "    y_pred_proba: np.ndarray,\n",
    ") -> dict:\n",
    "    \"\"\"\n",
    "    Generate confusion matrices at multiple operationally relevant thresholds.\n",
    "    \n",
    "    Analyzes model performance at three key decision boundaries:\n",
    "    1. Fraud-rate-aligned: Threshold set to match population fraud rate\n",
    "    2. Default (0.5): Standard classification threshold\n",
    "    3. Optimal F1: Threshold maximizing F1 score\n",
    "    \n",
    "    Parameters:\n",
    "        y_true: Ground truth binary labels\n",
    "        y_pred_proba: Predicted probabilities from model\n",
    "    \n",
    "    Returns:\n",
    "        Dictionary with confusion matrix metrics at each threshold\n",
    "    \"\"\"\n",
    "    fraud_rate = y_true.mean()\n",
    "\n",
    "    # Calculate F1-optimal threshold\n",
    "    precision, recall, pr_thresholds = precision_recall_curve(y_true, y_pred_proba)\n",
    "    f1_scores = 2 * (precision * recall) / (precision + recall + 1e-10)\n",
    "    f1_optimal_idx = np.argmax(f1_scores)\n",
    "    f1_optimal_threshold = pr_thresholds[f1_optimal_idx]\n",
    "\n",
    "    thresholds = {\n",
    "        \"Fraud-Rate-Aligned\": fraud_rate,\n",
    "        \"Default (0.5)\": 0.5,\n",
    "        \"Optimal F1\": f1_optimal_threshold\n",
    "    }\n",
    "\n",
    "    results = {}\n",
    "\n",
    "    for name, threshold in thresholds.items():\n",
    "        y_pred = (y_pred_proba >= threshold).astype(int)\n",
    "        tn, fp, fn, tp = confusion_matrix(y_true, y_pred).ravel()\n",
    "\n",
    "        # Core classification metrics\n",
    "        precision_val = tp / (tp + fp) if (tp + fp) > 0 else 0\n",
    "        recall_val = tp / (tp + fn) if (tp + fn) > 0 else 0\n",
    "        specificity = tn / (tn + fp) if (tn + fp) > 0 else 0\n",
    "        f1 = 2 * (precision_val * recall_val) / (precision_val + recall_val) if (precision_val + recall_val) > 0 else 0\n",
    "\n",
    "        flagged_rate = (tp + fp) / len(y_true)\n",
    "        fraud_captured_rate = recall_val\n",
    "\n",
    "        results[name] = {\n",
    "            \"threshold\": float(threshold),\n",
    "            \"tn\": int(tn),\n",
    "            \"fp\": int(fp),\n",
    "            \"fn\": int(fn),\n",
    "            \"tp\": int(tp),\n",
    "            \"precision\": float(precision_val),\n",
    "            \"recall\": float(recall_val),\n",
    "            \"specificity\": float(specificity),\n",
    "            \"f1\": float(f1),\n",
    "            \"flagged_rate\": float(flagged_rate),\n",
    "            \"fraud_captured_rate\": float(fraud_captured_rate),\n",
    "        }\n",
    "\n",
    "    return results\n",
    "\n",
    "def optimize_cost_sensitive_threshold(\n",
    "    y_true: np.ndarray,\n",
    "    y_pred_proba: np.ndarray,\n",
    "    cost_fp: float = 5.0,\n",
    "    cost_fn: float = 100.0\n",
    ") -> float:\n",
    "    \"\"\"\n",
    "    Determine optimal classification threshold based on business costs.\n",
    "    \n",
    "    Minimizes expected cost by balancing false positive costs (manual review)\n",
    "    against false negative costs (fraud loss). This approach aligns ML optimization\n",
    "    with business objectives and provides interpretable cost savings metrics.\n",
    "    \n",
    "    Parameters:\n",
    "        y_true: Ground truth binary labels  \n",
    "        y_pred_proba: Predicted probabilities from model\n",
    "        cost_fp: Cost per false positive in USD (default: 5.0 for manual review)\n",
    "        cost_fn: Cost per false negative in USD (default: 100.0 for avg fraud loss)\n",
    "    \n",
    "    Returns:\n",
    "        Dictionary with optimal threshold, costs, and business metrics\n",
    "    \"\"\"\n",
    "    thresholds = np.linspace(0.01, 0.99, 500)\n",
    "    costs = []\n",
    "    all_metrics = []\n",
    "\n",
    "    for threshold in thresholds:\n",
    "        y_pred = (y_pred_proba >= threshold).astype(int)\n",
    "        tn, fp, fn, tp = confusion_matrix(y_true, y_pred).ravel()\n",
    "\n",
    "        total_cost = (fp * cost_fp) + (fn * cost_fn)\n",
    "        costs.append(total_cost)\n",
    "\n",
    "        precision_val = tp / (tp + fp) if (tp + fp) > 0 else 0\n",
    "        recall_val = tp / (tp + fn) if (tp + fn) > 0 else 0\n",
    "\n",
    "        precision_val = tp / (tp + fp) if (tp + fp) > 0 else 0\n",
    "        recall_val = tp / (tp + fn) if (tp + fn) > 0 else 0\n",
    "\n",
    "        all_metrics.append({\n",
    "            \"threshold\": float(threshold),\n",
    "            \"total_cost\": float(total_cost),\n",
    "            \"avg_cost_per_txn\": float(total_cost / len(y_true)),\n",
    "            \"fp\": int(fp),\n",
    "            \"fn\": int(fn),\n",
    "            \"tp\": int(tp),\n",
    "            \"tn\": int(tn),\n",
    "            \"precision\": float(precision_val),\n",
    "            \"recall\": float(recall_val),\n",
    "            \"flagged_rate\": float((tp + fp) / len(y_true)),\n",
    "        })\n",
    "        \n",
    "    optimal_idx = np.argmin(costs)\n",
    "    optimal_metrics = all_metrics[optimal_idx]\n",
    "\n",
    "    # Calculate cost savings vs baseline (no model scenario)\n",
    "    baseline_fraud_cost = y_true.sum() * cost_fn\n",
    "    optimal_metrics[\"cost_savings_vs_no_model\"] = float(baseline_fraud_cost - optimal_metrics[\"total_cost\"])\n",
    "    optimal_metrics[\"cost_reduction_pct\"] = float(optimal_metrics[\"cost_savings_vs_no_model\"] / baseline_fraud_cost)\n",
    "\n",
    "    optimal_metrics[\"cost_assumptions\"] = {\n",
    "        \"false_positive_cost_usd\": float(cost_fp),\n",
    "        \"false_negative_cost_usd\": float(cost_fn),\n",
    "    }\n",
    "\n",
    "    return optimal_metrics, all_metrics\n",
    "\n",
    "print(\"Helper functions loaded successfully\")"
   ]
  },
  {
   "cell_type": "code",
   "execution_count": 27,
   "id": "a52cec43",
   "metadata": {},
   "outputs": [
    {
     "name": "stdout",
     "output_type": "stream",
     "text": [
      "Threshold-Independent Metrics Evaludation\n",
      "\n",
      "Test Set Performance:\n",
      " - Total Transactions:     118,108\n",
      " - Fraud Transactions:       4,064\n",
      " - Fraud Rate:               3.44%\n",
      "\n",
      "ROC-AUC: 0.8861\n",
      " - Improvement over random (0.5000): +0.3861\n",
      "\n",
      "PR-AUC:  0.4743\n",
      " - Improvement over random (0.0344): +0.4399\n",
      "\n",
      "Success Criteria Validation\n",
      " - ROC-AUC ≥ 0.85: PASS (Achieved: 0.8861)\n",
      " - PR-AUC ≥ 0.35:  PASS (Achieved: 0.4743)\n",
      "\n",
      "Baseline model meets performance criteria\n"
     ]
    }
   ],
   "source": [
    "# Calculate Threshold-Independent Metrics\n",
    "print(\"Threshold-Independent Metrics Evaludation\")\n",
    "\n",
    "# Generate predictions on test set using best iteration\n",
    "y_test_pred_proba = baseline_model.predict(\n",
    "    X_test,\n",
    "    num_iteration=baseline_model.best_iteration\n",
    ")\n",
    "\n",
    "# Calculate metrics for test split\n",
    "test_metrics = calculate_metrics(y_test, y_test_pred_proba, \"Test\")\n",
    "\n",
    "print(f\"\\nTest Set Performance:\")\n",
    "print(f\" - Total Transactions:  {test_metrics['n_samples']:>10,}\")\n",
    "print(f\" - Fraud Transactions:  {test_metrics['n_fraud']:>10,}\")\n",
    "print(f\" - Fraud Rate:          {test_metrics['fraud_rate']:>10.2%}\")\n",
    "\n",
    "print(f\"\\nROC-AUC: {test_metrics['roc_auc']:.4f}\")\n",
    "print(f\" - Improvement over random (0.5000): +{test_metrics['roc_vs_random']:.4f}\")\n",
    "\n",
    "print(f\"\\nPR-AUC:  {test_metrics['pr_auc']:.4f}\")\n",
    "print(f\" - Improvement over random ({test_metrics['fraud_rate']:.4f}): +{test_metrics['pr_vs_random']:.4f}\")\n",
    "\n",
    "# Success criteria validation\n",
    "print(\"\\nSuccess Criteria Validation\")\n",
    "\n",
    "roc_pass = test_metrics['roc_auc'] >= 0.85\n",
    "pr_pass = test_metrics['pr_auc'] >= 0.35\n",
    "\n",
    "print(f\" - ROC-AUC ≥ 0.85: {'PASS' if roc_pass else 'FAIL'} (Achieved: {test_metrics['roc_auc']:.4f})\")\n",
    "print(f\" - PR-AUC ≥ 0.35:  {'PASS' if pr_pass else 'FAIL'} (Achieved: {test_metrics['pr_auc']:.4f})\")\n",
    "\n",
    "if roc_pass and pr_pass:\n",
    "    print(\"\\nBaseline model meets performance criteria\")\n",
    "else:\n",
    "    print(\"\\nModel requires hyperparameter tuning or additional feature engineering\")"
   ]
  },
  {
   "cell_type": "code",
   "execution_count": 28,
   "id": "a9e0fb89",
   "metadata": {},
   "outputs": [
    {
     "name": "stdout",
     "output_type": "stream",
     "text": [
      "Confusion Matrix Analysis at Multiples Thresholds\n",
      "\n",
      "Fraud-Rate-Aligned (Threshold = 0.0344)\n",
      "------------------------------------------------------------------------------------------\n",
      "                    Predicted Negative    Predicted Positive\n",
      "Actual Negative                 20,132                 93,912  (Specificity: 17.65%)\n",
      "Actual Positive                     74                  3,990  (Recall: 98.18%)\n",
      "                                                                  (Precision: 4.08%)\n",
      "\n",
      "Classification Metrics:\n",
      " - Precision:           4.08%  (What % of flagged transactions are fraud?)\n",
      " - Recall:             98.18%  (What % of fraud is caught?)\n",
      " - F1-Score:           0.0783\n",
      " - Specificity:        17.65%  (What % of legitimate transactions pass through?)\n",
      "\n",
      "Operational Impact:\n",
      " - Flagged Rate:       82.89%  (97,902 / 118,108 transactions for review)\n",
      " - Fraud Captured:     98.18%  (3,990 / 4,064 frauds detected)\n",
      " - Missed Fraud:        1.82%  (74 frauds)\n",
      " - False Alarms:       93,912 legitimate transactions flagged\n",
      "\n",
      "Default (0.5) (Threshold = 0.5000)\n",
      "------------------------------------------------------------------------------------------\n",
      "                    Predicted Negative    Predicted Positive\n",
      "Actual Negative                105,337                  8,707  (Specificity: 92.37%)\n",
      "Actual Positive                  1,421                  2,643  (Recall: 65.03%)\n",
      "                                                                  (Precision: 23.29%)\n",
      "\n",
      "Classification Metrics:\n",
      " - Precision:          23.29%  (What % of flagged transactions are fraud?)\n",
      " - Recall:             65.03%  (What % of fraud is caught?)\n",
      " - F1-Score:           0.3429\n",
      " - Specificity:        92.37%  (What % of legitimate transactions pass through?)\n",
      "\n",
      "Operational Impact:\n",
      " - Flagged Rate:        9.61%  (11,350 / 118,108 transactions for review)\n",
      " - Fraud Captured:     65.03%  (2,643 / 4,064 frauds detected)\n",
      " - Missed Fraud:       34.97%  (1,421 frauds)\n",
      " - False Alarms:        8,707 legitimate transactions flagged\n",
      "\n",
      "Optimal F1 (Threshold = 0.8440)\n",
      "------------------------------------------------------------------------------------------\n",
      "                    Predicted Negative    Predicted Positive\n",
      "Actual Negative                113,255                    789  (Specificity: 99.31%)\n",
      "Actual Positive                  2,611                  1,453  (Recall: 35.75%)\n",
      "                                                                  (Precision: 64.81%)\n",
      "\n",
      "Classification Metrics:\n",
      " - Precision:          64.81%  (What % of flagged transactions are fraud?)\n",
      " - Recall:             35.75%  (What % of fraud is caught?)\n",
      " - F1-Score:           0.4608\n",
      " - Specificity:        99.31%  (What % of legitimate transactions pass through?)\n",
      "\n",
      "Operational Impact:\n",
      " - Flagged Rate:        1.90%  (2,242 / 118,108 transactions for review)\n",
      " - Fraud Captured:     35.75%  (1,453 / 4,064 frauds detected)\n",
      " - Missed Fraud:       64.25%  (2,611 frauds)\n",
      " - False Alarms:          789 legitimate transactions flagged\n"
     ]
    },
    {
     "data": {
      "image/png": "[encoded data removed]",
      "text/plain": [
       "<Figure size 1500x400 with 3 Axes>"
      ]
     },
     "metadata": {},
     "output_type": "display_data"
    },
    {
     "name": "stdout",
     "output_type": "stream",
     "text": [
      "Confusion matrix visualization saved to: /Users/joekariuki/Documents/Devbrew/research/devbrew-payments-fraud-sanctions/data_catalog/processed/confusion_matrices_baseline.png\n"
     ]
    }
   ],
   "source": [
    "# Confusion Matrix Analysis at Multiple Thresholds\n",
    "print(\"Confusion Matrix Analysis at Multiples Thresholds\")\n",
    "\n",
    "cm_results = generate_confusion_matrices(y_test, y_test_pred_proba)\n",
    "\n",
    "for threshold_name, metrics in cm_results.items():\n",
    "    print(f\"\\n{threshold_name} (Threshold = {metrics['threshold']:.4f})\")\n",
    "    print(\"-\" * 90)\n",
    "    \n",
    "    # Confusion matrix visualization\n",
    "    print(f\"                    Predicted Negative    Predicted Positive\")\n",
    "    print(f\"Actual Negative     {metrics['tn']:>18,}     {metrics['fp']:>18,}  (Specificity: {metrics['specificity']:.2%})\")\n",
    "    print(f\"Actual Positive     {metrics['fn']:>18,}     {metrics['tp']:>18,}  (Recall: {metrics['recall']:.2%})\")\n",
    "    print(f\"                                                                  (Precision: {metrics['precision']:.2%})\")\n",
    "    \n",
    "    # Performance metrics\n",
    "    print(f\"\\nClassification Metrics:\")\n",
    "    print(f\" - Precision:        {metrics['precision']:>8.2%}  (What % of flagged transactions are fraud?)\")\n",
    "    print(f\" - Recall:           {metrics['recall']:>8.2%}  (What % of fraud is caught?)\")\n",
    "    print(f\" - F1-Score:         {metrics['f1']:>8.4f}\")\n",
    "    print(f\" - Specificity:      {metrics['specificity']:>8.2%}  (What % of legitimate transactions pass through?)\")\n",
    "    \n",
    "    # Business impact\n",
    "    flagged_count = metrics['tp'] + metrics['fp']\n",
    "    print(f\"\\nOperational Impact:\")\n",
    "    print(f\" - Flagged Rate:     {metrics['flagged_rate']:>8.2%}  ({flagged_count:,} / {len(y_test):,} transactions for review)\")\n",
    "    print(f\" - Fraud Captured:   {metrics['fraud_captured_rate']:>8.2%}  ({metrics['tp']:,} / {int(y_test.sum()):,} frauds detected)\")\n",
    "    print(f\" - Missed Fraud:     {(1 - metrics['fraud_captured_rate']):>8.2%}  ({metrics['fn']:,} frauds)\")\n",
    "    print(f\" - False Alarms:     {metrics['fp']:>8,} legitimate transactions flagged\")\n",
    "\n",
    "# Visualize confusion matrices\n",
    "fig, axes = plt.subplots(1, 3, figsize=(15, 4))\n",
    "\n",
    "for idx, (threshold_name, metrics) in enumerate(cm_results.items()):\n",
    "    cm = np.array([[metrics['tn'], metrics['fp']], \n",
    "                   [metrics['fn'], metrics['tp']]])\n",
    "    \n",
    "    sns.heatmap(cm, annot=True, fmt='d', cmap='Blues', ax=axes[idx],\n",
    "                xticklabels=['Pred Neg', 'Pred Pos'],\n",
    "                yticklabels=['Actual Neg', 'Actual Pos'],\n",
    "                cbar=False)\n",
    "    \n",
    "    axes[idx].set_title(\n",
    "        f'{threshold_name}\\n(Threshold = {metrics[\"threshold\"]:.3f})\\n'\n",
    "        f'Precision: {metrics[\"precision\"]:.2%} | Recall: {metrics[\"recall\"]:.2%}',\n",
    "        fontsize=10\n",
    "    )\n",
    "\n",
    "plt.tight_layout()\n",
    "confusion_matrix_path = PROCESSED_DIR / 'confusion_matrices_baseline.png'\n",
    "plt.savefig(confusion_matrix_path, dpi=300, bbox_inches='tight')\n",
    "plt.show()\n",
    "\n",
    "print(f\"Confusion matrix visualization saved to: {confusion_matrix_path}\")"
   ]
  },
  {
   "cell_type": "markdown",
   "id": "317d833f",
   "metadata": {},
   "source": [
    "### Cost-Sensitive Threshold Optimization\n",
    "\n",
    "We determine the optimal classification threshold by minimizing expected business costs rather than maximizing statistical metrics. This approach balances false positive costs (manual review labor) against false negative costs (fraud losses).\n",
    "\n",
    "The cost-optimal threshold aligns ML model decisions with business objectives and provides interpretable metrics for stakeholders: total cost savings, expected review volumes, and fraud capture rates. Payment companies typically use cost ratios between 1:10 and 1:50 (FP:FN) depending on fraud loss severity.\n"
   ]
  },
  {
   "cell_type": "code",
   "execution_count": 29,
   "id": "5cd471a3",
   "metadata": {},
   "outputs": [
    {
     "name": "stdout",
     "output_type": "stream",
     "text": [
      "Cost-Sensitive Threshold Optimization\n",
      "\n",
      "Cost Assumptions:\n",
      " - False Positive Cost:  $    5.00 per transaction (manual review)\n",
      " - False Negative Cost:  $  100.00 per transaction (fraud loss)\n",
      "\n",
      "Optimal Threshold: 0.4205\n",
      "\n",
      "Confusion Matrix at Optimal Threshold:\n",
      " - True Negatives:        101,669\n",
      " - False Positives:        12,375\n",
      " - False Negatives:         1,189\n",
      " - True Positives:          2,875\n",
      "\n",
      "Classification Performance:\n",
      " - Precision:              18.85%\n",
      " - Recall:                 70.74%\n",
      " - Flagged Rate:           12.91%\n",
      "\n",
      "Cost Analysis:\n",
      " - Total Cost:                   $     180,775.00\n",
      " - Average Cost per Transaction: $         1.5306\n",
      " - Cost Savings vs No Model:     $     225,625.00 (55.5% reduction)\n"
     ]
    },
    {
     "data": {
      "image/png": "[encoded data removed]",
      "text/plain": [
       "<Figure size 1400x500 with 2 Axes>"
      ]
     },
     "metadata": {},
     "output_type": "display_data"
    },
    {
     "name": "stdout",
     "output_type": "stream",
     "text": [
      "Cost-sensitive threshold visualization saved to: /Users/joekariuki/Documents/Devbrew/research/devbrew-payments-fraud-sanctions/data_catalog/processed/cost_sensitive_threshold_baseline.png\n"
     ]
    }
   ],
   "source": [
    "# Cost-Sensitive Threshold Optimization\n",
    "print(\"Cost-Sensitive Threshold Optimization\")\n",
    "\n",
    "# Optimize threshold based on business costs\n",
    "# Industry-standard assumptions:\n",
    "# - FP cost: $5 (manual review labor cost per transaction)\n",
    "# - FN cost: $100 (average fraud loss per transaction)\n",
    "cost_optimal_metrics, all_threshold_metrics = optimize_cost_sensitive_threshold(\n",
    "    y_test, \n",
    "    y_test_pred_proba, \n",
    "    cost_fp=5.0, \n",
    "    cost_fn=100.0\n",
    ")\n",
    "\n",
    "print(f\"\\nCost Assumptions:\")\n",
    "print(f\" - False Positive Cost:  ${cost_optimal_metrics['cost_assumptions']['false_positive_cost_usd']:>8,.2f} per transaction (manual review)\")\n",
    "print(f\" - False Negative Cost:  ${cost_optimal_metrics['cost_assumptions']['false_negative_cost_usd']:>8,.2f} per transaction (fraud loss)\")\n",
    "\n",
    "print(f\"\\nOptimal Threshold: {cost_optimal_metrics['threshold']:.4f}\")\n",
    "\n",
    "print(f\"\\nConfusion Matrix at Optimal Threshold:\")\n",
    "print(f\" - True Negatives:   {cost_optimal_metrics['tn']:>12,}\")\n",
    "print(f\" - False Positives:  {cost_optimal_metrics['fp']:>12,}\")\n",
    "print(f\" - False Negatives:  {cost_optimal_metrics['fn']:>12,}\")\n",
    "print(f\" - True Positives:   {cost_optimal_metrics['tp']:>12,}\")\n",
    "\n",
    "print(f\"\\nClassification Performance:\")\n",
    "print(f\" - Precision:        {cost_optimal_metrics['precision']:>12.2%}\")\n",
    "print(f\" - Recall:           {cost_optimal_metrics['recall']:>12.2%}\")\n",
    "print(f\" - Flagged Rate:     {cost_optimal_metrics['flagged_rate']:>12.2%}\")\n",
    "\n",
    "print(f\"\\nCost Analysis:\")\n",
    "print(f\" - Total Cost:                   ${cost_optimal_metrics['total_cost']:>15,.2f}\")\n",
    "print(f\" - Average Cost per Transaction: ${cost_optimal_metrics['avg_cost_per_txn']:>15,.4f}\")\n",
    "print(f\" - Cost Savings vs No Model:     ${cost_optimal_metrics['cost_savings_vs_no_model']:>15,.2f} ({cost_optimal_metrics['cost_reduction_pct']:.1%} reduction)\")\n",
    "\n",
    "# Visualize cost vs threshold and FP/FN trade-offs\n",
    "fig, axes = plt.subplots(1, 2, figsize=(14, 5))\n",
    "\n",
    "# Left: Total cost vs threshold\n",
    "thresholds_plot = [m['threshold'] for m in all_threshold_metrics]\n",
    "costs_plot = [m['total_cost'] for m in all_threshold_metrics]\n",
    "baseline_fraud_cost = y_test.sum() * cost_optimal_metrics['cost_assumptions']['false_negative_cost_usd']\n",
    "\n",
    "axes[0].plot(thresholds_plot, costs_plot, linewidth=2, color='#e74c3c')\n",
    "axes[0].axvline(cost_optimal_metrics['threshold'], color='black', linestyle='--', linewidth=2,\n",
    "               label=f'Optimal Threshold ({cost_optimal_metrics[\"threshold\"]:.3f})')\n",
    "axes[0].scatter([cost_optimal_metrics['threshold']], [cost_optimal_metrics['total_cost']], \n",
    "               color='#2ecc71', s=100, zorder=5)\n",
    "axes[0].axhline(baseline_fraud_cost, color='#3498db', linestyle=':', linewidth=1.5, \n",
    "               label=f'No Model (Let All Fraud Through): ${baseline_fraud_cost:,.0f}')\n",
    "\n",
    "axes[0].set_xlabel('Classification Threshold')\n",
    "axes[0].set_ylabel('Total Expected Cost ($)')\n",
    "axes[0].set_title(f'Cost Optimization\\n(FP Cost=${cost_optimal_metrics[\"cost_assumptions\"][\"false_positive_cost_usd\"]}, FN Cost=${cost_optimal_metrics[\"cost_assumptions\"][\"false_negative_cost_usd\"]})')\n",
    "axes[0].legend(loc='best')\n",
    "axes[0].grid(True, alpha=0.3)\n",
    "\n",
    "# Right: FP and FN counts vs threshold\n",
    "fp_counts = [m['fp'] for m in all_threshold_metrics]\n",
    "fn_counts = [m['fn'] for m in all_threshold_metrics]\n",
    "\n",
    "axes[1].plot(thresholds_plot, fp_counts, label='False Positives (Manual Reviews)', linewidth=2, color='#3498db')\n",
    "axes[1].plot(thresholds_plot, fn_counts, label='False Negatives (Missed Fraud)', linewidth=2, color='#e74c3c')\n",
    "axes[1].axvline(cost_optimal_metrics['threshold'], color='black', linestyle='--', linewidth=2)\n",
    "\n",
    "axes[1].set_xlabel('Classification Threshold')\n",
    "axes[1].set_ylabel('Count')\n",
    "axes[1].set_title('False Positive vs False Negative Trade-off')\n",
    "axes[1].legend(loc='best')\n",
    "axes[1].grid(True, alpha=0.3)\n",
    "\n",
    "plt.tight_layout()\n",
    "cost_optimization_path = PROCESSED_DIR / 'cost_sensitive_threshold_baseline.png'\n",
    "plt.savefig(cost_optimization_path, dpi=300, bbox_inches='tight')\n",
    "plt.show()\n",
    "\n",
    "print(f\"Cost-sensitive threshold visualization saved to: {cost_optimization_path}\")\n"
   ]
  },
  {
   "cell_type": "markdown",
   "id": "0b33f689",
   "metadata": {},
   "source": [
    "### Precision-Recall-Threshold Curves\n",
    "\n",
    "We visualize how precision, recall, and F1 score change across all possible classification thresholds to understand operational trade-offs. Higher thresholds increase precision (fewer false alarms) but decrease recall (miss more fraud), while lower thresholds increase fraud capture at the cost of more manual reviews.\n",
    "\n",
    "This analysis enables stakeholders to select thresholds aligned with business priorities: aggressive fraud prevention (lower threshold, higher recall) versus operational efficiency (higher threshold, higher precision). Payment companies typically operate at thresholds lower than optimal F1 to prioritize fraud capture over false positive reduction."
   ]
  },
  {
   "cell_type": "code",
   "execution_count": 30,
   "id": "d481a9d2",
   "metadata": {},
   "outputs": [
    {
     "name": "stdout",
     "output_type": "stream",
     "text": [
      "Precision-Recall-Threshold Analysis\n",
      "\n",
      "Optimal F1 Threshold: 0.8440\n",
      " - Precision:  64.81%\n",
      " - Recall:     35.75%\n",
      " - F1-Score:   0.4608\n"
     ]
    },
    {
     "data": {
      "image/png": "[encoded data removed]",
      "text/plain": [
       "<Figure size 1400x500 with 2 Axes>"
      ]
     },
     "metadata": {},
     "output_type": "display_data"
    },
    {
     "name": "stdout",
     "output_type": "stream",
     "text": [
      "Precision-Recall-Threshold visualization saved to: /Users/joekariuki/Documents/Devbrew/research/devbrew-payments-fraud-sanctions/data_catalog/processed/precision_recall_threshold_baseline.png\n"
     ]
    }
   ],
   "source": [
    "# Precision-Recall-Threshold Curves\n",
    "\n",
    "print(\"Precision-Recall-Threshold Analysis\")\n",
    "\n",
    "# Calculate precision-recall curve\n",
    "precision, recall, pr_thresholds = precision_recall_curve(y_test, y_test_pred_proba)\n",
    "\n",
    "# Calculate F1 scores\n",
    "f1_scores = 2 * (precision[:-1] * recall[:-1]) / (precision[:-1] + recall[:-1] + 1e-10)\n",
    "\n",
    "# Find optimal F1 threshold\n",
    "optimal_f1_idx = np.argmax(f1_scores)\n",
    "optimal_f1_threshold = pr_thresholds[optimal_f1_idx]\n",
    "optimal_f1_score = f1_scores[optimal_f1_idx]\n",
    "optimal_precision = precision[optimal_f1_idx]\n",
    "optimal_recall = recall[optimal_f1_idx]\n",
    "\n",
    "print(f\"\\nOptimal F1 Threshold: {optimal_f1_threshold:.4f}\")\n",
    "print(f\" - Precision:  {optimal_precision:.2%}\")\n",
    "print(f\" - Recall:     {optimal_recall:.2%}\")\n",
    "print(f\" - F1-Score:   {optimal_f1_score:.4f}\")\n",
    "\n",
    "# Create visualization\n",
    "fig, axes = plt.subplots(1, 2, figsize=(14, 5))\n",
    "\n",
    "# Left: Precision/Recall/F1 vs Threshold\n",
    "axes[0].plot(pr_thresholds, precision[:-1], label='Precision', linewidth=2, color='#3498db')\n",
    "axes[0].plot(pr_thresholds, recall[:-1], label='Recall', linewidth=2, color='#e74c3c')\n",
    "axes[0].plot(pr_thresholds, f1_scores, label='F1-Score', linewidth=2, color='#2ecc71', linestyle='--')\n",
    "\n",
    "axes[0].axvline(optimal_f1_threshold, color='black', linestyle=':', linewidth=2, \n",
    "               label=f'Optimal F1 ({optimal_f1_threshold:.3f})')\n",
    "axes[0].scatter([optimal_f1_threshold], [optimal_f1_score], color='#2ecc71', s=100, zorder=5)\n",
    "\n",
    "axes[0].set_xlabel('Classification Threshold')\n",
    "axes[0].set_ylabel('Score')\n",
    "axes[0].set_title('Precision, Recall, F1 vs Threshold')\n",
    "axes[0].legend(loc='best')\n",
    "axes[0].grid(True, alpha=0.3)\n",
    "axes[0].set_xlim(0, 1)\n",
    "axes[0].set_ylim(0, 1)\n",
    "\n",
    "# Right: Precision-Recall Curve\n",
    "axes[1].plot(recall, precision, linewidth=2, color='#9b59b6')\n",
    "axes[1].scatter([optimal_recall], [optimal_precision], color='#2ecc71', s=100, \n",
    "               label=f'Optimal F1 (P={optimal_precision:.2f}, R={optimal_recall:.2f})', zorder=5)\n",
    "\n",
    "fraud_rate = y_test.mean()\n",
    "axes[1].axhline(fraud_rate, color='black', linestyle='--', linewidth=1, \n",
    "               label=f'Random Classifier (AP={fraud_rate:.3f})')\n",
    "\n",
    "axes[1].set_xlabel('Recall (Fraud Caught)')\n",
    "axes[1].set_ylabel('Precision (Accuracy of Flags)')\n",
    "axes[1].set_title(f'Precision-Recall Curve\\n(AP = {test_metrics[\"pr_auc\"]:.3f})')\n",
    "axes[1].legend(loc='best')\n",
    "axes[1].grid(True, alpha=0.3)\n",
    "axes[1].set_xlim(0, 1)\n",
    "axes[1].set_ylim(0, 1)\n",
    "\n",
    "plt.tight_layout()\n",
    "pr_curve_path = PROCESSED_DIR / 'precision_recall_threshold_baseline.png'\n",
    "plt.savefig(pr_curve_path, dpi=300, bbox_inches='tight')\n",
    "plt.show()\n",
    "\n",
    "print(f\"Precision-Recall-Threshold visualization saved to: {pr_curve_path}\")"
   ]
  },
  {
   "cell_type": "markdown",
   "id": "b3cce765",
   "metadata": {},
   "source": [
    "### Save Comprehensive Evaluation Metrics\n",
    "\n",
    "We compile all evaluation metrics into a structured JSON artifact for model registry, monitoring dashboards, and reproducibility. This includes threshold-independent metrics, confusion matrices at multiple thresholds, cost-sensitive recommendations, and production deployment guidelines.\n",
    "\n",
    "The evaluation metadata enables tracking model performance over time, comparing baseline against tuned models, and providing clear documentation for regulatory audits. All metrics are saved alongside the model binary for versioned deployment.\n"
   ]
  },
  {
   "cell_type": "code",
   "execution_count": 31,
   "id": "a7aebb19",
   "metadata": {},
   "outputs": [
    {
     "name": "stdout",
     "output_type": "stream",
     "text": [
      "Evaluation Summary Saved\n",
      "File: /Users/joekariuki/Documents/Devbrew/research/devbrew-payments-fraud-sanctions/packages/models/fraud_baseline_v1_evaluation.json\n",
      "\n",
      "Key Findings:\n",
      "- ROC-AUC:                   0.8861\n",
      "- PR-AUC:                    0.4743\n",
      "- Success Criteria:          PASS\n",
      "\n",
      "Production Recommendations:\n",
      " - Recommended Threshold:     0.4205\n",
      " - Expected Review Rate:      12.91%\n",
      " - Expected Fraud Capture:    70.74%\n",
      " - Expected Precision:        18.85%\n",
      "\n",
      "Cost Analysis:\n",
      " - Total Cost Savings:        $225,625.00\n",
      " - Cost Reduction:            55.5%\n",
      "All evaluation artifacts saved to: /Users/joekariuki/Documents/Devbrew/research/devbrew-payments-fraud-sanctions/packages/models\n"
     ]
    }
   ],
   "source": [
    "# Save Comprehensive Evaluation Metrics\n",
    "\n",
    "evaluation_summary = {\n",
    "    # Evaluation Metadata\n",
    "    \"evaluation_id\": f\"eval-baseline-{pd.Timestamp.now().strftime('%Y%m%d-%H%M%S')}\",\n",
    "    \"evaluation_date\": pd.Timestamp.now().isoformat(),\n",
    "    \"model_version\": \"fraud_baseline_v1\",\n",
    "    \"evaluator\": \"Devbrew\",\n",
    "    \"dataset_version\": \"ieee-cis-2019\",\n",
    "    \n",
    "    # Test Set Information\n",
    "    \"test_set_info\": {\n",
    "        \"total_transactions\": int(len(y_test)),\n",
    "        \"fraud_transactions\": int(y_test.sum()),\n",
    "        \"legitimate_transactions\": int(len(y_test) - y_test.sum()),\n",
    "        \"fraud_rate\": float(y_test.mean()),\n",
    "        \"imbalance_ratio\": float((1 - y_test.mean()) / y_test.mean())\n",
    "    },\n",
    "    \n",
    "    # Threshold-Independent Metrics\n",
    "    \"threshold_independent_metrics\": {\n",
    "        \"roc_auc\": float(test_metrics['roc_auc']),\n",
    "        \"pr_auc\": float(test_metrics['pr_auc']),\n",
    "        \"roc_improvement_over_random\": float(test_metrics['roc_vs_random']),\n",
    "        \"pr_improvement_over_random\": float(test_metrics['pr_vs_random']),\n",
    "        \"interpretation\": {\n",
    "            \"roc_auc\": \"Probability that model ranks random fraud transaction higher than random legitimate transaction\",\n",
    "            \"pr_auc\": \"Average precision across all recall levels; more informative than ROC-AUC for imbalanced data\"\n",
    "        }\n",
    "    },\n",
    "    \n",
    "    # Threshold-Dependent Metrics (Multiple Operating Points)\n",
    "    \"threshold_dependent_metrics\": {\n",
    "        \"cost_optimal\": {\n",
    "            \"threshold\": float(cost_optimal_metrics['threshold']),\n",
    "            \"precision\": float(cost_optimal_metrics['precision']),\n",
    "            \"recall\": float(cost_optimal_metrics['recall']),\n",
    "            \"f1_score\": float(2 * (cost_optimal_metrics['precision'] * cost_optimal_metrics['recall']) / \n",
    "                             (cost_optimal_metrics['precision'] + cost_optimal_metrics['recall']) \n",
    "                             if (cost_optimal_metrics['precision'] + cost_optimal_metrics['recall']) > 0 else 0),\n",
    "            \"confusion_matrix\": {\n",
    "                \"true_negative\": int(cost_optimal_metrics['tn']),\n",
    "                \"false_positive\": int(cost_optimal_metrics['fp']),\n",
    "                \"false_negative\": int(cost_optimal_metrics['fn']),\n",
    "                \"true_positive\": int(cost_optimal_metrics['tp'])\n",
    "            },\n",
    "            \"business_metrics\": {\n",
    "                \"flagged_rate\": float(cost_optimal_metrics['flagged_rate']),\n",
    "                \"total_cost_usd\": float(cost_optimal_metrics['total_cost']),\n",
    "                \"avg_cost_per_txn_usd\": float(cost_optimal_metrics['avg_cost_per_txn']),\n",
    "                \"cost_savings_vs_no_model_usd\": float(cost_optimal_metrics['cost_savings_vs_no_model']),\n",
    "                \"cost_reduction_percentage\": float(cost_optimal_metrics['cost_reduction_pct'])\n",
    "            }\n",
    "        },\n",
    "        \"optimal_f1\": {\n",
    "            \"threshold\": float(optimal_f1_threshold),\n",
    "            \"precision\": float(optimal_precision),\n",
    "            \"recall\": float(optimal_recall),\n",
    "            \"f1_score\": float(optimal_f1_score)\n",
    "        },\n",
    "        \"fraud_rate_aligned\": {\n",
    "            \"threshold\": float(cm_results['Fraud-Rate-Aligned']['threshold']),\n",
    "            \"precision\": float(cm_results['Fraud-Rate-Aligned']['precision']),\n",
    "            \"recall\": float(cm_results['Fraud-Rate-Aligned']['recall']),\n",
    "            \"f1_score\": float(cm_results['Fraud-Rate-Aligned']['f1'])\n",
    "        }\n",
    "    },\n",
    "    \n",
    "    # Cost Assumptions\n",
    "    \"cost_assumptions\": {\n",
    "        \"false_positive_cost_usd\": float(cost_optimal_metrics['cost_assumptions']['false_positive_cost_usd']),\n",
    "        \"false_negative_cost_usd\": float(cost_optimal_metrics['cost_assumptions']['false_negative_cost_usd']),\n",
    "        \"cost_ratio_fn_to_fp\": float(\n",
    "            cost_optimal_metrics['cost_assumptions']['false_negative_cost_usd'] / \n",
    "            cost_optimal_metrics['cost_assumptions']['false_positive_cost_usd']\n",
    "        ),\n",
    "        \"note\": \"Adjust based on actual business costs; typical range for payment fraud is 1:10 to 1:50 (FP:FN)\"\n",
    "    },\n",
    "    \n",
    "    # Success Criteria Validation\n",
    "    \"success_criteria\": {\n",
    "        \"roc_auc_target\": 0.85,\n",
    "        \"roc_auc_achieved\": float(test_metrics['roc_auc']),\n",
    "        \"roc_auc_pass\": bool(test_metrics['roc_auc'] >= 0.85),\n",
    "        \"pr_auc_target\": 0.35,\n",
    "        \"pr_auc_achieved\": float(test_metrics['pr_auc']),\n",
    "        \"pr_auc_pass\": bool(test_metrics['pr_auc'] >= 0.35),\n",
    "        \"overall_pass\": bool(test_metrics['roc_auc'] >= 0.85 and test_metrics['pr_auc'] >= 0.35)\n",
    "    },\n",
    "    \n",
    "    # Production Deployment Recommendations\n",
    "    \"production_recommendations\": {\n",
    "        \"recommended_threshold\": float(cost_optimal_metrics['threshold']),\n",
    "        \"threshold_rationale\": \"Cost-optimal threshold minimizes expected business cost based on FP/FN cost assumptions\",\n",
    "        \"expected_review_rate\": float(cost_optimal_metrics['flagged_rate']),\n",
    "        \"expected_fraud_capture_rate\": float(cost_optimal_metrics['recall']),\n",
    "        \"expected_precision\": float(cost_optimal_metrics['precision']),\n",
    "        \"monitoring_guidelines\": {\n",
    "            \"threshold_stability\": \"Monitor flagged rate; investigate if deviates >5% from expected\",\n",
    "            \"performance_drift\": \"Re-evaluate model quarterly or if ROC-AUC drops >3% from baseline\",\n",
    "            \"cost_calibration\": \"Review FP/FN cost assumptions with finance team quarterly\",\n",
    "            \"fraud_pattern_shifts\": \"Implement concept drift detection on feature distributions\"\n",
    "        },\n",
    "        \"alerting_thresholds\": {\n",
    "            \"flagged_rate_upper_bound\": float(cost_optimal_metrics['flagged_rate'] * 1.05),\n",
    "            \"flagged_rate_lower_bound\": float(cost_optimal_metrics['flagged_rate'] * 0.95),\n",
    "            \"min_acceptable_roc_auc\": 0.82,\n",
    "            \"min_acceptable_recall\": float(cost_optimal_metrics['recall'] * 0.90)\n",
    "        }\n",
    "    },\n",
    "    \n",
    "    # Artifacts Generated\n",
    "    \"evaluation_artifacts\": {\n",
    "        \"confusion_matrices\": str(confusion_matrix_path),\n",
    "        \"cost_optimization\": str(cost_optimization_path),\n",
    "        \"precision_recall_curves\": str(pr_curve_path),\n",
    "        \"evaluation_summary\": \"fraud_baseline_v1_evaluation.json\"\n",
    "    }\n",
    "}\n",
    "\n",
    "# Save evaluation summary\n",
    "evaluation_path = MODELS_DIR / \"fraud_baseline_v1_evaluation.json\"\n",
    "with open(evaluation_path, \"w\") as f:\n",
    "    json.dump(evaluation_summary, f, indent=4)\n",
    "\n",
    "print(\"Evaluation Summary Saved\")\n",
    "print(f\"File: {evaluation_path}\")\n",
    "print(f\"\\nKey Findings:\")\n",
    "print(f\"- ROC-AUC:                   {evaluation_summary['threshold_independent_metrics']['roc_auc']:.4f}\")\n",
    "print(f\"- PR-AUC:                    {evaluation_summary['threshold_independent_metrics']['pr_auc']:.4f}\")\n",
    "print(f\"- Success Criteria:          {'PASS' if evaluation_summary['success_criteria']['overall_pass'] else 'FAIL'}\")\n",
    "print(f\"\\nProduction Recommendations:\")\n",
    "print(f\" - Recommended Threshold:     {evaluation_summary['production_recommendations']['recommended_threshold']:.4f}\")\n",
    "print(f\" - Expected Review Rate:      {evaluation_summary['production_recommendations']['expected_review_rate']:.2%}\")\n",
    "print(f\" - Expected Fraud Capture:    {evaluation_summary['production_recommendations']['expected_fraud_capture_rate']:.2%}\")\n",
    "print(f\" - Expected Precision:        {evaluation_summary['production_recommendations']['expected_precision']:.2%}\")\n",
    "print(f\"\\nCost Analysis:\")\n",
    "print(f\" - Total Cost Savings:        ${evaluation_summary['threshold_dependent_metrics']['cost_optimal']['business_metrics']['cost_savings_vs_no_model_usd']:,.2f}\")\n",
    "print(f\" - Cost Reduction:            {evaluation_summary['threshold_dependent_metrics']['cost_optimal']['business_metrics']['cost_reduction_percentage']:.1%}\")\n",
    "\n",
    "print(f\"All evaluation artifacts saved to: {MODELS_DIR}\")"
   ]
  },
  {
   "cell_type": "markdown",
   "id": "dfc33bc2",
   "metadata": {},
   "source": [
    "### Notes\n",
    "\n",
    "- Baseline model achieves **test ROC-AUC 0.8861** (exceeds 0.85 target) and **PR-AUC 0.4743** (meets 0.35 target)\n",
    "- Cost-optimal threshold **0.4205** provides **$225,625** savings vs no-model baseline\n",
    "- Expected **12.9%** review rate captures **70.7%** of fraud with **18.9%** precision\n",
    "- PR-AUC degradation from train (0.7673) to test (0.4743) indicates temporal drift; monitor fraud pattern evolution\n",
    "- Evaluation artifacts saved: [confusion_matrices_baseline.png](../data_catalog/processed/confusion_matrices_baseline.png), [cost_sensitive_threshold_baseline.png](../data_catalog/processed/cost_sensitive_threshold_baseline.png), [precision_recall_threshold_baseline.png](../data_catalog/processed/precision_recall_threshold_baseline.png)\n",
    "- Production deployment recommendations documented in [fraud_baseline_v1_evaluation.json](../packages/models/fraud_baseline_v1_evaluation.json)\n"
   ]
  },
  {
   "cell_type": "markdown",
   "id": "80c41531",
   "metadata": {},
   "source": [
    "## Hyperparameter Tuning\n",
    "\n",
    "We systematically search the hyperparameter space using Optuna's Bayesian optimization to improve model performance beyond the baseline configuration. Optuna intelligently explores promising parameter combinations and prunes unpromising trials early, reducing computational cost by 30-50% compared to grid search.\n",
    "\n",
    "The optimization targets validation PR-AUC (more informative than ROC-AUC for imbalanced fraud data) while monitoring train-validation gaps to prevent overfitting. We tune high-impact parameters (num_leaves, learning_rate, min_child_samples, feature_fraction, bagging_fraction) that directly affect model complexity, regularization, and generalization to unseen fraud patterns."
   ]
  },
  {
   "cell_type": "code",
   "execution_count": 32,
   "id": "846f661b",
   "metadata": {},
   "outputs": [
    {
     "name": "stdout",
     "output_type": "stream",
     "text": [
      "Optuna version: 4.5.0\n",
      "Optuna loaded successfully\n"
     ]
    }
   ],
   "source": [
    "# Install and import Optuna for Bayesian hyperparameter optimization\n",
    "import optuna\n",
    "from optuna.visualization import (\n",
    "    plot_optimization_history,\n",
    "    plot_param_importances,\n",
    "    plot_slice\n",
    ")\n",
    "\n",
    "print(f\"Optuna version: {optuna.__version__}\")\n",
    "print(\"Optuna loaded successfully\")"
   ]
  },
  {
   "cell_type": "markdown",
   "id": "f844f088",
   "metadata": {},
   "source": [
    "### Search Space Configuration\n",
    "\n",
    "We prioritize high-impact parameters that control model complexity and regularization:\n",
    "\n",
    "High Impact Parameters:\n",
    "- `num_leaves` (20-100): Controls tree complexity; fraud patterns may require more splits\n",
    "- `learning_rate` (0.01-0.1): Lower rates improve generalization but increase training time\n",
    "- `min_child_samples` (10-200): Regularization to prevent overfitting to rare fraud patterns\n",
    "- `feature_fraction` (0.6-1.0): Random feature sampling for robustness\n",
    "- `bagging_fraction` (0.6-1.0): Row sampling to reduce overfitting\n",
    "\n",
    "Fixed Parameters:\n",
    "- `is_unbalance=True`: Critical for fraud detection (1:28 imbalance ratio)\n",
    "- `random_state=42`: Reproducibility\n",
    "- `objective='binary'`: Binary classification task"
   ]
  },
  {
   "cell_type": "code",
   "execution_count": 33,
   "id": "2a1c3fa1",
   "metadata": {},
   "outputs": [
    {
     "name": "stdout",
     "output_type": "stream",
     "text": [
      "Objective function defined successfully\n",
      "\n",
      "Optimization target: Validation PR-AUC\n",
      "Baseline PR-AUC to beat: 0.4743\n"
     ]
    }
   ],
   "source": [
    "# Define Optuna objective function for hyperparameter optimization\n",
    "def objective(trial):\n",
    "    \"\"\"\n",
    "    Optuna objective function to maximize validation PR-AUC.\n",
    "    \n",
    "    Suggests hyperparameters, trains LightGBM model, evaluates on validation set,\n",
    "    and returns PR-AUC as optimization objective. Optuna maximizes this value.\n",
    "    \n",
    "    Args:\n",
    "        trial: Optuna trial object for hyperparameter suggestions\n",
    "    \n",
    "    Returns:\n",
    "        Validation PR-AUC score (higher is better)\n",
    "    \"\"\"\n",
    "    # Suggest hyperparameters\n",
    "    params = {\n",
    "        # Fixed parameters\n",
    "        'objective': 'binary',\n",
    "        'metric': 'auc',\n",
    "        'is_unbalance': True,\n",
    "        'boosting_type': 'gbdt',\n",
    "        'random_state': RANDOM_STATE,\n",
    "        'verbose': -1,\n",
    "        'n_jobs': -1,\n",
    "        \n",
    "        # Tunable parameters (high impact)\n",
    "        'num_leaves': trial.suggest_int('num_leaves', 20, 100),\n",
    "        'learning_rate': trial.suggest_float('learning_rate', 0.01, 0.1, log=True),\n",
    "        'min_child_samples': trial.suggest_int('min_child_samples', 10, 200),\n",
    "        'feature_fraction': trial.suggest_float('feature_fraction', 0.6, 1.0),\n",
    "        'bagging_fraction': trial.suggest_float('bagging_fraction', 0.6, 1.0),\n",
    "        'bagging_freq': 5,  # Apply bagging every 5 iterations\n",
    "        \n",
    "        # Tunable parameters (medium impact)\n",
    "        'max_depth': trial.suggest_int('max_depth', 3, 12),\n",
    "        'lambda_l1': trial.suggest_float('lambda_l1', 0.0, 10.0),\n",
    "        'lambda_l2': trial.suggest_float('lambda_l2', 0.0, 10.0),\n",
    "        'min_gain_to_split': trial.suggest_float('min_gain_to_split', 0.0, 1.0),\n",
    "    }\n",
    "    \n",
    "    # Create LightGBM datasets\n",
    "    train_data = lgb.Dataset(X_train, label=y_train, categorical_feature=categorical_features)\n",
    "    val_data = lgb.Dataset(X_val, label=y_val, categorical_feature=categorical_features, reference=train_data)\n",
    "    \n",
    "    # Train model with early stopping\n",
    "    model = lgb.train(\n",
    "        params,\n",
    "        train_data,\n",
    "        num_boost_round=1000,\n",
    "        valid_sets=[train_data, val_data],\n",
    "        valid_names=['train', 'val'],\n",
    "        callbacks=[\n",
    "            lgb.early_stopping(stopping_rounds=50, verbose=False),\n",
    "            lgb.log_evaluation(period=0)  # Suppress training logs\n",
    "        ]\n",
    "    )\n",
    "    \n",
    "    # Predict on validation set\n",
    "    y_val_pred_proba = model.predict(X_val, num_iteration=model.best_iteration)\n",
    "    \n",
    "    # Calculate PR-AUC (optimization objective)\n",
    "    val_pr_auc = average_precision_score(y_val, y_val_pred_proba)\n",
    "    \n",
    "    # Optional: Add overfitting penalty\n",
    "    y_train_pred_proba = model.predict(X_train, num_iteration=model.best_iteration)\n",
    "    train_pr_auc = average_precision_score(y_train, y_train_pred_proba)\n",
    "    overfitting_gap = train_pr_auc - val_pr_auc\n",
    "    \n",
    "    # Report intermediate values for pruning\n",
    "    trial.set_user_attr('train_pr_auc', train_pr_auc)\n",
    "    trial.set_user_attr('val_pr_auc', val_pr_auc)\n",
    "    trial.set_user_attr('overfitting_gap', overfitting_gap)\n",
    "    trial.set_user_attr('n_estimators', model.best_iteration)\n",
    "    \n",
    "    # Penalize overfitting (optional constraint)\n",
    "    if overfitting_gap > 0.15:  # More than 15% gap\n",
    "        return val_pr_auc - 0.05  # Penalty\n",
    "    \n",
    "    return val_pr_auc\n",
    "\n",
    "\n",
    "print(\"Objective function defined successfully\")\n",
    "print(\"\\nOptimization target: Validation PR-AUC\")\n",
    "print(\"Baseline PR-AUC to beat: 0.4743\")"
   ]
  },
  {
   "cell_type": "code",
   "execution_count": 34,
   "id": "946285eb",
   "metadata": {},
   "outputs": [
    {
     "name": "stderr",
     "output_type": "stream",
     "text": [
      "[I 2025-11-01 05:17:10,597] A new study created in memory with name: fraud_detection_lgbm\n"
     ]
    },
    {
     "name": "stdout",
     "output_type": "stream",
     "text": [
      "Hyperparameter Optimization\n",
      "\n",
      "Starting hyperparameter search...\n",
      "Number of trials: 50\n",
      "Optimization objective: Validation PR-AUC\n",
      "Baseline test PR-AUC: 0.4743\n",
      "\n",
      "Progress:\n"
     ]
    },
    {
     "data": {
      "application/vnd.jupyter.widget-view+json": {
       "model_id": "9347acd49fcd421dba395f89993c82f3",
       "version_major": 2,
       "version_minor": 0
      },
      "text/plain": [
       "  0%|          | 0/50 [00:00<?, ?it/s]"
      ]
     },
     "metadata": {},
     "output_type": "display_data"
    },
    {
     "name": "stdout",
     "output_type": "stream",
     "text": [
      "[I 2025-11-01 05:17:18,716] Trial 0 finished with value: 0.5475598083917496 and parameters: {'num_leaves': 50, 'learning_rate': 0.08927180304353628, 'min_child_samples': 149, 'feature_fraction': 0.8394633936788146, 'bagging_fraction': 0.6624074561769746, 'max_depth': 4, 'lambda_l1': 0.5808361216819946, 'lambda_l2': 8.661761457749352, 'min_gain_to_split': 0.6011150117432088}. Best is trial 0 with value: 0.5475598083917496.\n",
      "[I 2025-11-01 05:17:36,490] Trial 1 finished with value: 0.5356672369867405 and parameters: {'num_leaves': 77, 'learning_rate': 0.010485387725194618, 'min_child_samples': 195, 'feature_fraction': 0.9329770563201687, 'bagging_fraction': 0.6849356442713105, 'max_depth': 4, 'lambda_l1': 1.8340450985343382, 'lambda_l2': 3.0424224295953772, 'min_gain_to_split': 0.5247564316322378}. Best is trial 0 with value: 0.5475598083917496.\n",
      "[I 2025-11-01 05:17:57,822] Trial 2 finished with value: 0.515082194708833 and parameters: {'num_leaves': 54, 'learning_rate': 0.019553708662745254, 'min_child_samples': 126, 'feature_fraction': 0.6557975442608167, 'bagging_fraction': 0.7168578594140872, 'max_depth': 6, 'lambda_l1': 4.56069984217036, 'lambda_l2': 7.851759613930136, 'min_gain_to_split': 0.19967378215835974}. Best is trial 0 with value: 0.5475598083917496.\n",
      "[I 2025-11-01 05:18:13,545] Trial 3 finished with value: 0.5431703314862025 and parameters: {'num_leaves': 61, 'learning_rate': 0.03912141628549697, 'min_child_samples': 18, 'feature_fraction': 0.8430179407605753, 'bagging_fraction': 0.6682096494749166, 'max_depth': 3, 'lambda_l1': 9.488855372533333, 'lambda_l2': 9.656320330745594, 'min_gain_to_split': 0.8083973481164611}. Best is trial 0 with value: 0.5475598083917496.\n",
      "[I 2025-11-01 05:18:38,075] Trial 4 finished with value: 0.5134716329399721 and parameters: {'num_leaves': 44, 'learning_rate': 0.012521954287060391, 'min_child_samples': 140, 'feature_fraction': 0.7760609974958405, 'bagging_fraction': 0.6488152939379115, 'max_depth': 7, 'lambda_l1': 0.34388521115218396, 'lambda_l2': 9.093204020787821, 'min_gain_to_split': 0.2587799816000169}. Best is trial 0 with value: 0.5475598083917496.\n",
      "[I 2025-11-01 05:18:56,507] Trial 5 finished with value: 0.5244184608258975 and parameters: {'num_leaves': 73, 'learning_rate': 0.02049798052095018, 'min_child_samples': 109, 'feature_fraction': 0.8186841117373118, 'bagging_fraction': 0.6739417822102108, 'max_depth': 12, 'lambda_l1': 7.7513282336111455, 'lambda_l2': 9.394989415641891, 'min_gain_to_split': 0.8948273504276488}. Best is trial 0 with value: 0.5475598083917496.\n",
      "[I 2025-11-01 05:19:02,423] Trial 6 finished with value: 0.49067471395674617 and parameters: {'num_leaves': 68, 'learning_rate': 0.0835361075531176, 'min_child_samples': 26, 'feature_fraction': 0.678393144967658, 'bagging_fraction': 0.6180909155642152, 'max_depth': 6, 'lambda_l1': 3.8867728968948203, 'lambda_l2': 2.713490317738959, 'min_gain_to_split': 0.8287375091519293}. Best is trial 0 with value: 0.5475598083917496.\n",
      "[I 2025-11-01 05:19:19,346] Trial 7 finished with value: 0.5326449705919312 and parameters: {'num_leaves': 48, 'learning_rate': 0.01909565280104538, 'min_child_samples': 113, 'feature_fraction': 0.6563696899899051, 'bagging_fraction': 0.9208787923016158, 'max_depth': 3, 'lambda_l1': 9.868869366005173, 'lambda_l2': 7.722447692966574, 'min_gain_to_split': 0.1987156815341724}. Best is trial 0 with value: 0.5475598083917496.\n",
      "[I 2025-11-01 05:19:29,720] Trial 8 finished with value: 0.5388676667040007 and parameters: {'num_leaves': 20, 'learning_rate': 0.06538248584518043, 'min_child_samples': 145, 'feature_fraction': 0.8916028672163949, 'bagging_fraction': 0.9085081386743783, 'max_depth': 3, 'lambda_l1': 3.5846572854427263, 'lambda_l2': 1.1586905952512971, 'min_gain_to_split': 0.8631034258755935}. Best is trial 0 with value: 0.5475598083917496.\n",
      "[I 2025-11-01 05:19:48,725] Trial 9 finished with value: 0.5216503174586565 and parameters: {'num_leaves': 70, 'learning_rate': 0.02142387495644906, 'min_child_samples': 22, 'feature_fraction': 0.7243929286862648, 'bagging_fraction': 0.7300733288106988, 'max_depth': 10, 'lambda_l1': 6.3755747135521315, 'lambda_l2': 8.872127425763265, 'min_gain_to_split': 0.4722149251619493}. Best is trial 0 with value: 0.5475598083917496.\n",
      "[I 2025-11-01 05:19:58,207] Trial 10 finished with value: 0.5074349563229895 and parameters: {'num_leaves': 29, 'learning_rate': 0.05167075260023277, 'min_child_samples': 155, 'feature_fraction': 0.8245108790277985, 'bagging_fraction': 0.9083868719818244, 'max_depth': 7, 'lambda_l1': 5.227328293819941, 'lambda_l2': 4.275410183585496, 'min_gain_to_split': 0.02541912674409519}. Best is trial 0 with value: 0.5475598083917496.\n",
      "[I 2025-11-01 05:20:24,825] Trial 11 finished with value: 0.5162383075776086 and parameters: {'num_leaves': 28, 'learning_rate': 0.010750512925563078, 'min_child_samples': 131, 'feature_fraction': 0.7257423924305306, 'bagging_fraction': 0.8034282764658811, 'max_depth': 12, 'lambda_l1': 2.4929222914887497, 'lambda_l2': 4.103829230356297, 'min_gain_to_split': 0.7555511385430487}. Best is trial 0 with value: 0.5475598083917496.\n",
      "[I 2025-11-01 05:20:50,081] Trial 12 finished with value: 0.5115752994524034 and parameters: {'num_leaves': 38, 'learning_rate': 0.011939328726535447, 'min_child_samples': 65, 'feature_fraction': 0.6644885149016018, 'bagging_fraction': 0.9718790609370292, 'max_depth': 11, 'lambda_l1': 6.334037565104235, 'lambda_l2': 8.714605901877178, 'min_gain_to_split': 0.8036720768991145}. Best is trial 0 with value: 0.5475598083917496.\n",
      "[I 2025-11-01 05:20:57,856] Trial 13 finished with value: 0.5038163130973494 and parameters: {'num_leaves': 35, 'learning_rate': 0.07808345085542412, 'min_child_samples': 113, 'feature_fraction': 0.922976062065625, 'bagging_fraction': 0.9584365199693973, 'max_depth': 6, 'lambda_l1': 1.1005192452767676, 'lambda_l2': 2.279351625419417, 'min_gain_to_split': 0.4271077886262563}. Best is trial 0 with value: 0.5475598083917496.\n",
      "[I 2025-11-01 05:21:08,303] Trial 14 finished with value: 0.5183014851602011 and parameters: {'num_leaves': 86, 'learning_rate': 0.07256556536786182, 'min_child_samples': 11, 'feature_fraction': 0.8042989210310263, 'bagging_fraction': 0.7669644012595116, 'max_depth': 5, 'lambda_l1': 1.198653673336828, 'lambda_l2': 3.3761517140362796, 'min_gain_to_split': 0.9429097039125192}. Best is trial 0 with value: 0.5475598083917496.\n",
      "[I 2025-11-01 05:21:21,188] Trial 15 finished with value: 0.5227934961987114 and parameters: {'num_leaves': 46, 'learning_rate': 0.03302103045515254, 'min_child_samples': 144, 'feature_fraction': 0.7454518409517176, 'bagging_fraction': 0.9887128330883843, 'max_depth': 12, 'lambda_l1': 2.5178229582536416, 'lambda_l2': 4.972485058923855, 'min_gain_to_split': 0.30087830981676966}. Best is trial 0 with value: 0.5475598083917496.\n",
      "[I 2025-11-01 05:21:40,999] Trial 16 finished with value: 0.5482503982616309 and parameters: {'num_leaves': 43, 'learning_rate': 0.010886466671993772, 'min_child_samples': 126, 'feature_fraction': 0.8010716092915446, 'bagging_fraction': 0.6205915004999957, 'max_depth': 5, 'lambda_l1': 9.082658859666537, 'lambda_l2': 2.395618906669724, 'min_gain_to_split': 0.1448948720912231}. Best is trial 16 with value: 0.5482503982616309.\n",
      "[I 2025-11-01 05:21:47,735] Trial 17 finished with value: 0.49415803273281894 and parameters: {'num_leaves': 59, 'learning_rate': 0.09674988425050117, 'min_child_samples': 56, 'feature_fraction': 0.8688542189623514, 'bagging_fraction': 0.9046478461314871, 'max_depth': 5, 'lambda_l1': 7.282163486118596, 'lambda_l2': 3.677831327192532, 'min_gain_to_split': 0.6323058305935795}. Best is trial 16 with value: 0.5482503982616309.\n",
      "[I 2025-11-01 05:22:02,199] Trial 18 finished with value: 0.5479450048840808 and parameters: {'num_leaves': 71, 'learning_rate': 0.03433797531418577, 'min_child_samples': 27, 'feature_fraction': 0.9341209982356952, 'bagging_fraction': 0.7283120259886943, 'max_depth': 4, 'lambda_l1': 0.40775141554763916, 'lambda_l2': 5.908929431882418, 'min_gain_to_split': 0.6775643618422824}. Best is trial 16 with value: 0.5482503982616309.\n",
      "[I 2025-11-01 05:22:13,588] Trial 19 finished with value: 0.5592535911375855 and parameters: {'num_leaves': 21, 'learning_rate': 0.03251569628166816, 'min_child_samples': 53, 'feature_fraction': 0.8580691161637799, 'bagging_fraction': 0.6697465716019966, 'max_depth': 9, 'lambda_l1': 3.867353463005374, 'lambda_l2': 9.367299887367345, 'min_gain_to_split': 0.13752094414599325}. Best is trial 19 with value: 0.5592535911375855.\n",
      "[I 2025-11-01 05:22:26,225] Trial 20 finished with value: 0.5567480706816784 and parameters: {'num_leaves': 21, 'learning_rate': 0.02553438287076695, 'min_child_samples': 70, 'feature_fraction': 0.972916136764715, 'bagging_fraction': 0.6036075858521315, 'max_depth': 9, 'lambda_l1': 8.56394024177315, 'lambda_l2': 0.14510263861296746, 'min_gain_to_split': 0.03553834437204907}. Best is trial 19 with value: 0.5592535911375855.\n",
      "[I 2025-11-01 05:22:38,017] Trial 21 finished with value: 0.5605356167766785 and parameters: {'num_leaves': 20, 'learning_rate': 0.026377670327109266, 'min_child_samples': 81, 'feature_fraction': 0.9862814683248097, 'bagging_fraction': 0.6124894502916938, 'max_depth': 9, 'lambda_l1': 8.703460655329371, 'lambda_l2': 0.14423500092449126, 'min_gain_to_split': 0.0037986139911888386}. Best is trial 21 with value: 0.5605356167766785.\n",
      "[I 2025-11-01 05:22:52,239] Trial 22 finished with value: 0.5614276936676097 and parameters: {'num_leaves': 20, 'learning_rate': 0.024411485271580196, 'min_child_samples': 80, 'feature_fraction': 0.9988842885560487, 'bagging_fraction': 0.6060097843297815, 'max_depth': 9, 'lambda_l1': 8.359555295051052, 'lambda_l2': 0.33585884934472254, 'min_gain_to_split': 0.0024865190968194994}. Best is trial 22 with value: 0.5614276936676097.\n",
      "[I 2025-11-01 05:23:06,206] Trial 23 finished with value: 0.5145798017616421 and parameters: {'num_leaves': 100, 'learning_rate': 0.02642875953077496, 'min_child_samples': 80, 'feature_fraction': 0.9997449754566207, 'bagging_fraction': 0.6008621074898858, 'max_depth': 9, 'lambda_l1': 8.172095485537696, 'lambda_l2': 0.2146351420761337, 'min_gain_to_split': 0.08565881077676081}. Best is trial 22 with value: 0.5614276936676097.\n",
      "[I 2025-11-01 05:23:15,696] Trial 24 finished with value: 0.5104378682853726 and parameters: {'num_leaves': 28, 'learning_rate': 0.045702363697410354, 'min_child_samples': 86, 'feature_fraction': 0.999628346979868, 'bagging_fraction': 0.6394488273947112, 'max_depth': 9, 'lambda_l1': 6.773998684830461, 'lambda_l2': 1.2088737624795167, 'min_gain_to_split': 0.32085017861981696}. Best is trial 22 with value: 0.5614276936676097.\n",
      "[I 2025-11-01 05:23:40,838] Trial 25 finished with value: 0.517318304163688 and parameters: {'num_leaves': 35, 'learning_rate': 0.015603395817192153, 'min_child_samples': 42, 'feature_fraction': 0.6043956756975085, 'bagging_fraction': 0.8329790856018411, 'max_depth': 8, 'lambda_l1': 5.54217575534013, 'lambda_l2': 6.376299086620383, 'min_gain_to_split': 0.12021156092649385}. Best is trial 22 with value: 0.5614276936676097.\n",
      "[I 2025-11-01 05:23:54,698] Trial 26 finished with value: 0.5103177610132629 and parameters: {'num_leaves': 25, 'learning_rate': 0.027100252510112596, 'min_child_samples': 97, 'feature_fraction': 0.9456997630287329, 'bagging_fraction': 0.7020228276855585, 'max_depth': 10, 'lambda_l1': 8.84635046400749, 'lambda_l2': 1.2826036995680268, 'min_gain_to_split': 0.013179214380923565}. Best is trial 22 with value: 0.5614276936676097.\n",
      "[I 2025-11-01 05:24:15,308] Trial 27 finished with value: 0.556897238654425 and parameters: {'num_leaves': 20, 'learning_rate': 0.015265875957682832, 'min_child_samples': 48, 'feature_fraction': 0.8883193438923758, 'bagging_fraction': 0.77005669267884, 'max_depth': 8, 'lambda_l1': 4.319220366129046, 'lambda_l2': 6.361857016438594, 'min_gain_to_split': 0.38029376146246197}. Best is trial 22 with value: 0.5614276936676097.\n",
      "[I 2025-11-01 05:24:26,143] Trial 28 finished with value: 0.5193033578699179 and parameters: {'num_leaves': 33, 'learning_rate': 0.03957662317670426, 'min_child_samples': 95, 'feature_fraction': 0.9610628594861361, 'bagging_fraction': 0.6319151742408399, 'max_depth': 10, 'lambda_l1': 5.589506339129118, 'lambda_l2': 1.9894222619286783, 'min_gain_to_split': 0.18305180222565817}. Best is trial 22 with value: 0.5614276936676097.\n",
      "[I 2025-11-01 05:24:40,275] Trial 29 finished with value: 0.5210683669509103 and parameters: {'num_leaves': 40, 'learning_rate': 0.02927354402639125, 'min_child_samples': 39, 'feature_fraction': 0.9042887324734776, 'bagging_fraction': 0.6562934418117505, 'max_depth': 11, 'lambda_l1': 7.552996486604236, 'lambda_l2': 0.9184424710081162, 'min_gain_to_split': 0.08637452161393415}. Best is trial 22 with value: 0.5614276936676097.\n",
      "[I 2025-11-01 05:24:55,530] Trial 30 finished with value: 0.5105899410169413 and parameters: {'num_leaves': 26, 'learning_rate': 0.0237641285468454, 'min_child_samples': 73, 'feature_fraction': 0.8566043089613034, 'bagging_fraction': 0.848403365946447, 'max_depth': 8, 'lambda_l1': 3.194546623490381, 'lambda_l2': 1.800998024198504, 'min_gain_to_split': 0.009057161849486378}. Best is trial 22 with value: 0.5614276936676097.\n",
      "[I 2025-11-01 05:25:15,495] Trial 31 finished with value: 0.5612913335286867 and parameters: {'num_leaves': 20, 'learning_rate': 0.016897694552955634, 'min_child_samples': 57, 'feature_fraction': 0.8945172351954433, 'bagging_fraction': 0.76081212514986, 'max_depth': 8, 'lambda_l1': 4.367889595422853, 'lambda_l2': 7.63046666936705, 'min_gain_to_split': 0.35401939467615084}. Best is trial 22 with value: 0.5614276936676097.\n",
      "[I 2025-11-01 05:25:35,956] Trial 32 finished with value: 0.5124073900868822 and parameters: {'num_leaves': 24, 'learning_rate': 0.01719358828903699, 'min_child_samples': 55, 'feature_fraction': 0.9585737985904865, 'bagging_fraction': 0.6850805508666777, 'max_depth': 9, 'lambda_l1': 4.654244994256224, 'lambda_l2': 7.755240037381587, 'min_gain_to_split': 0.2436439148584626}. Best is trial 22 with value: 0.5614276936676097.\n",
      "[I 2025-11-01 05:25:58,462] Trial 33 finished with value: 0.5166793444657961 and parameters: {'num_leaves': 33, 'learning_rate': 0.013797779257155824, 'min_child_samples': 86, 'feature_fraction': 0.9789195112951466, 'bagging_fraction': 0.7608521473291721, 'max_depth': 8, 'lambda_l1': 2.9379936488985408, 'lambda_l2': 8.148272405058853, 'min_gain_to_split': 0.5351155045484117}. Best is trial 22 with value: 0.5614276936676097.\n",
      "[I 2025-11-01 05:26:15,114] Trial 34 finished with value: 0.5168346724254749 and parameters: {'num_leaves': 30, 'learning_rate': 0.0232716695189807, 'min_child_samples': 61, 'feature_fraction': 0.9214520958800461, 'bagging_fraction': 0.698018193919344, 'max_depth': 10, 'lambda_l1': 3.768064081472241, 'lambda_l2': 7.39355759757549, 'min_gain_to_split': 0.08956092549084327}. Best is trial 22 with value: 0.5614276936676097.\n",
      "[I 2025-11-01 05:26:26,060] Trial 35 finished with value: 0.5100256802166567 and parameters: {'num_leaves': 23, 'learning_rate': 0.03849381769360374, 'min_child_samples': 37, 'feature_fraction': 0.8716844621710428, 'bagging_fraction': 0.6557017079450347, 'max_depth': 7, 'lambda_l1': 4.780621794503294, 'lambda_l2': 9.875359208876414, 'min_gain_to_split': 0.15537284180440972}. Best is trial 22 with value: 0.5614276936676097.\n",
      "[I 2025-11-01 05:26:46,083] Trial 36 finished with value: 0.566671269134742 and parameters: {'num_leaves': 20, 'learning_rate': 0.018070692179432194, 'min_child_samples': 168, 'feature_fraction': 0.9089084360638909, 'bagging_fraction': 0.7406799834449536, 'max_depth': 9, 'lambda_l1': 5.953539991546631, 'lambda_l2': 0.6327623314494792, 'min_gain_to_split': 0.24921200985625921}. Best is trial 36 with value: 0.566671269134742.\n",
      "[I 2025-11-01 05:27:07,270] Trial 37 finished with value: 0.5228385204232778 and parameters: {'num_leaves': 53, 'learning_rate': 0.018117603279376122, 'min_child_samples': 185, 'feature_fraction': 0.984701915046383, 'bagging_fraction': 0.7989836401660352, 'max_depth': 11, 'lambda_l1': 8.242821033608342, 'lambda_l2': 0.5773948320367521, 'min_gain_to_split': 0.38606823349549124}. Best is trial 36 with value: 0.566671269134742.\n",
      "[I 2025-11-01 05:27:21,483] Trial 38 finished with value: 0.5038056482447698 and parameters: {'num_leaves': 39, 'learning_rate': 0.021562711968580194, 'min_child_samples': 160, 'feature_fraction': 0.9138798488896582, 'bagging_fraction': 0.8698592351417997, 'max_depth': 7, 'lambda_l1': 9.535590780392498, 'lambda_l2': 1.6085136969385672, 'min_gain_to_split': 0.24845492965523}. Best is trial 36 with value: 0.566671269134742.\n",
      "[I 2025-11-01 05:27:44,570] Trial 39 finished with value: 0.5145605577860427 and parameters: {'num_leaves': 31, 'learning_rate': 0.015920467200823823, 'min_child_samples': 172, 'feature_fraction': 0.9461679514077245, 'bagging_fraction': 0.7950327054854084, 'max_depth': 8, 'lambda_l1': 6.7661606360015565, 'lambda_l2': 0.6089596038087376, 'min_gain_to_split': 0.3538607539289443}. Best is trial 36 with value: 0.566671269134742.\n",
      "[I 2025-11-01 05:28:09,296] Trial 40 finished with value: 0.5147224352965849 and parameters: {'num_leaves': 25, 'learning_rate': 0.013554166848454714, 'min_child_samples': 194, 'feature_fraction': 0.7773044136385148, 'bagging_fraction': 0.7401788253227741, 'max_depth': 9, 'lambda_l1': 5.927339062980395, 'lambda_l2': 0.09559962958507151, 'min_gain_to_split': 0.507924304388059}. Best is trial 36 with value: 0.566671269134742.\n",
      "[I 2025-11-01 05:28:24,133] Trial 41 finished with value: 0.5069386556934707 and parameters: {'num_leaves': 21, 'learning_rate': 0.02963940166631086, 'min_child_samples': 101, 'feature_fraction': 0.8508398857632166, 'bagging_fraction': 0.6768296887907885, 'max_depth': 9, 'lambda_l1': 4.1727618113141425, 'lambda_l2': 9.189837784046404, 'min_gain_to_split': 0.20710859198342357}. Best is trial 36 with value: 0.566671269134742.\n",
      "[I 2025-11-01 05:28:38,989] Trial 42 finished with value: 0.555097393802589 and parameters: {'num_leaves': 20, 'learning_rate': 0.019862954941081302, 'min_child_samples': 72, 'feature_fraction': 0.8932178725232187, 'bagging_fraction': 0.6281075585558912, 'max_depth': 10, 'lambda_l1': 7.222945738268696, 'lambda_l2': 7.134138716690809, 'min_gain_to_split': 0.056678311709727466}. Best is trial 36 with value: 0.566671269134742.\n",
      "[I 2025-11-01 05:28:54,855] Trial 43 finished with value: 0.5093725549881902 and parameters: {'num_leaves': 26, 'learning_rate': 0.024509512126567636, 'min_child_samples': 50, 'feature_fraction': 0.8304712048160457, 'bagging_fraction': 0.6995956117608026, 'max_depth': 8, 'lambda_l1': 8.057234393176115, 'lambda_l2': 8.157610982876923, 'min_gain_to_split': 0.2916928555487001}. Best is trial 36 with value: 0.566671269134742.\n",
      "[I 2025-11-01 05:29:10,273] Trial 44 finished with value: 0.5168630546179793 and parameters: {'num_leaves': 82, 'learning_rate': 0.02193306815363201, 'min_child_samples': 82, 'feature_fraction': 0.8812856819915599, 'bagging_fraction': 0.6484164583336846, 'max_depth': 9, 'lambda_l1': 9.922507862755905, 'lambda_l2': 2.996730394927229, 'min_gain_to_split': 0.15357915272105493}. Best is trial 36 with value: 0.566671269134742.\n",
      "[I 2025-11-01 05:29:23,076] Trial 45 finished with value: 0.5206751247972156 and parameters: {'num_leaves': 28, 'learning_rate': 0.03570842087911975, 'min_child_samples': 92, 'feature_fraction': 0.9452062096470442, 'bagging_fraction': 0.7459351296661723, 'max_depth': 10, 'lambda_l1': 5.078722060700907, 'lambda_l2': 5.325989793124684, 'min_gain_to_split': 0.11570562444708388}. Best is trial 36 with value: 0.566671269134742.\n",
      "[I 2025-11-01 05:29:37,345] Trial 46 finished with value: 0.5110376364637534 and parameters: {'num_leaves': 23, 'learning_rate': 0.028835822607477028, 'min_child_samples': 118, 'feature_fraction': 0.9049777739568925, 'bagging_fraction': 0.7137367924118952, 'max_depth': 7, 'lambda_l1': 3.4245536283577813, 'lambda_l2': 8.287931271359863, 'min_gain_to_split': 0.2075076904898875}. Best is trial 36 with value: 0.566671269134742.\n",
      "[I 2025-11-01 05:29:45,343] Trial 47 finished with value: 0.5081030619608192 and parameters: {'num_leaves': 36, 'learning_rate': 0.05382839997367325, 'min_child_samples': 106, 'feature_fraction': 0.8393247053067574, 'bagging_fraction': 0.6690231990679066, 'max_depth': 9, 'lambda_l1': 1.808257678310536, 'lambda_l2': 6.733644024638676, 'min_gain_to_split': 0.4599728974267453}. Best is trial 36 with value: 0.566671269134742.\n",
      "[I 2025-11-01 05:30:03,517] Trial 48 finished with value: 0.5150171323638872 and parameters: {'num_leaves': 31, 'learning_rate': 0.017533701735419994, 'min_child_samples': 60, 'feature_fraction': 0.9267865436693228, 'bagging_fraction': 0.6146493538900636, 'max_depth': 11, 'lambda_l1': 9.366101808441393, 'lambda_l2': 0.6495539346630533, 'min_gain_to_split': 0.0598397753571399}. Best is trial 36 with value: 0.566671269134742.\n",
      "[I 2025-11-01 05:30:24,097] Trial 49 finished with value: 0.5136111870020929 and parameters: {'num_leaves': 20, 'learning_rate': 0.01950504491110704, 'min_child_samples': 76, 'feature_fraction': 0.9654945547521103, 'bagging_fraction': 0.7784901248981604, 'max_depth': 8, 'lambda_l1': 4.094071681434136, 'lambda_l2': 9.635064002978424, 'min_gain_to_split': 0.272824876617471}. Best is trial 36 with value: 0.566671269134742.\n",
      "\n",
      "\n",
      "Optimization completed in 13.2 minutes\n"
     ]
    }
   ],
   "source": [
    "# Run Bayesian hyperparameter optimization with Optuna\n",
    "print(\"Hyperparameter Optimization\")\n",
    "\n",
    "# Create Optuna study\n",
    "study = optuna.create_study(\n",
    "    direction='maximize',\n",
    "    study_name='fraud_detection_lgbm',\n",
    "    pruner=optuna.pruners.MedianPruner(\n",
    "        n_startup_trials=10,\n",
    "        n_warmup_steps=5,\n",
    "        interval_steps=5\n",
    "    ),\n",
    "    sampler=optuna.samplers.TPESampler(\n",
    "        seed=RANDOM_STATE,\n",
    "        n_startup_trials=20\n",
    "    )\n",
    ")\n",
    "\n",
    "# Run optimization\n",
    "print(\"\\nStarting hyperparameter search...\")\n",
    "print(f\"Number of trials: 50\")\n",
    "print(f\"Optimization objective: Validation PR-AUC\")\n",
    "print(f\"Baseline test PR-AUC: {test_pr_auc:.4f}\")\n",
    "print(\"\\nProgress:\")\n",
    "\n",
    "start_time = time.time()\n",
    "\n",
    "study.optimize(\n",
    "    objective,\n",
    "    n_trials=50,\n",
    "    timeout=None,\n",
    "    n_jobs=1,  # Sequential to avoid memory issues with LightGBM\n",
    "    show_progress_bar=True\n",
    ")\n",
    "\n",
    "elapsed_time = time.time() - start_time\n",
    "\n",
    "print(f\"\\n\\nOptimization completed in {elapsed_time/60:.1f} minutes\")"
   ]
  },
  {
   "cell_type": "code",
   "execution_count": 58,
   "id": "d0322090",
   "metadata": {},
   "outputs": [
    {
     "name": "stdout",
     "output_type": "stream",
     "text": [
      "Optimization Results\n",
      "\n",
      "Best Trial: #36\n",
      "Best Validation PR-AUC: 0.5667\n",
      "Improvement over baseline: +0.0923 (19.5%)\n",
      "\n",
      "Best Hyperparameters:\n",
      " - num_leaves           20\n",
      " - learning_rate        0.018070692179432194\n",
      " - min_child_samples    168\n",
      " - feature_fraction     0.9089084360638909\n",
      " - bagging_fraction     0.7406799834449536\n",
      " - max_depth            9\n",
      " - lambda_l1            5.953539991546631\n",
      " - lambda_l2            0.6327623314494792\n",
      " - min_gain_to_split    0.24921200985625921\n",
      "\n",
      "Training Metrics:\n",
      " - Train PR-AUC:      0.7143\n",
      " - Val PR-AUC:        0.5667\n",
      " - Overfitting Gap:   0.1477\n",
      " - Best Iteration:    854\n",
      "\n",
      "Study Statistics:\n",
      " - Total Trials:      50\n",
      " - Complete Trials:   50\n",
      " - Pruned Trials:     0\n",
      " - Failed Trials:     0\n",
      "\n",
      "Top 5 Trials:\n",
      " 1. Trial # 36: PR-AUC = 0.5667\n",
      " 2. Trial # 22: PR-AUC = 0.5614\n",
      " 3. Trial # 31: PR-AUC = 0.5613\n",
      " 4. Trial # 21: PR-AUC = 0.5605\n",
      " 5. Trial # 19: PR-AUC = 0.5593\n"
     ]
    },
    {
     "data": {
      "application/vnd.plotly.v1+json": {
       "config": {
        "plotlyServerURL": "https://plot.ly"
       },
       "data": [
        {
         "mode": "markers",
         "name": "Objective Value",
         "type": "scatter",
         "x": [
          0,
          1,
          2,
          3,
          4,
          5,
          6,
          7,
          8,
          9,
          10,
          11,
          12,
          13,
          14,
          15,
          16,
          17,
          18,
          19,
          20,
          21,
          22,
          23,
          24,
          25,
          26,
          27,
          28,
          29,
          30,
          31,
          32,
          33,
          34,
          35,
          36,
          37,
          38,
          39,
          40,
          41,
          42,
          43,
          44,
          45,
          46,
          47,
          48,
          49
         ],
         "y": [
          0.5475598083917496,
          0.5356672369867405,
          0.515082194708833,
          0.5431703314862025,
          0.5134716329399721,
          0.5244184608258975,
          0.49067471395674617,
          0.5326449705919312,
          0.5388676667040007,
          0.5216503174586565,
          0.5074349563229895,
          0.5162383075776086,
          0.5115752994524034,
          0.5038163130973494,
          0.5183014851602011,
          0.5227934961987114,
          0.5482503982616309,
          0.49415803273281894,
          0.5479450048840808,
          0.5592535911375855,
          0.5567480706816784,
          0.5605356167766785,
          0.5614276936676097,
          0.5145798017616421,
          0.5104378682853726,
          0.517318304163688,
          0.5103177610132629,
          0.556897238654425,
          0.5193033578699179,
          0.5210683669509103,
          0.5105899410169413,
          0.5612913335286867,
          0.5124073900868822,
          0.5166793444657961,
          0.5168346724254749,
          0.5100256802166567,
          0.566671269134742,
          0.5228385204232778,
          0.5038056482447698,
          0.5145605577860427,
          0.5147224352965849,
          0.5069386556934707,
          0.555097393802589,
          0.5093725549881902,
          0.5168630546179793,
          0.5206751247972156,
          0.5110376364637534,
          0.5081030619608192,
          0.5150171323638872,
          0.5136111870020929
         ]
        },
        {
         "mode": "lines",
         "name": "Best Value",
         "type": "scatter",
         "x": [
          0,
          1,
          2,
          3,
          4,
          5,
          6,
          7,
          8,
          9,
          10,
          11,
          12,
          13,
          14,
          15,
          16,
          17,
          18,
          19,
          20,
          21,
          22,
          23,
          24,
          25,
          26,
          27,
          28,
          29,
          30,
          31,
          32,
          33,
          34,
          35,
          36,
          37,
          38,
          39,
          40,
          41,
          42,
          43,
          44,
          45,
          46,
          47,
          48,
          49
         ],
         "y": [
          0.5475598083917496,
          0.5475598083917496,
          0.5475598083917496,
          0.5475598083917496,
          0.5475598083917496,
          0.5475598083917496,
          0.5475598083917496,
          0.5475598083917496,
          0.5475598083917496,
          0.5475598083917496,
          0.5475598083917496,
          0.5475598083917496,
          0.5475598083917496,
          0.5475598083917496,
          0.5475598083917496,
          0.5475598083917496,
          0.5482503982616309,
          0.5482503982616309,
          0.5482503982616309,
          0.5592535911375855,
          0.5592535911375855,
          0.5605356167766785,
          0.5614276936676097,
          0.5614276936676097,
          0.5614276936676097,
          0.5614276936676097,
          0.5614276936676097,
          0.5614276936676097,
          0.5614276936676097,
          0.5614276936676097,
          0.5614276936676097,
          0.5614276936676097,
          0.5614276936676097,
          0.5614276936676097,
          0.5614276936676097,
          0.5614276936676097,
          0.566671269134742,
          0.566671269134742,
          0.566671269134742,
          0.566671269134742,
          0.566671269134742,
          0.566671269134742,
          0.566671269134742,
          0.566671269134742,
          0.566671269134742,
          0.566671269134742,
          0.566671269134742,
          0.566671269134742,
          0.566671269134742,
          0.566671269134742
         ]
        },
        {
         "marker": {
          "color": "#cccccc"
         },
         "mode": "markers",
         "name": "Infeasible Trial",
         "showlegend": false,
         "type": "scatter",
         "x": [],
         "y": []
        }
       ],
       "layout": {
        "height": 500,
        "template": {
         "data": {
          "bar": [
           {
            "error_x": {
             "color": "#2a3f5f"
            },
            "error_y": {
             "color": "#2a3f5f"
            },
            "marker": {
             "line": {
              "color": "#E5ECF6",
              "width": 0.5
             },
             "pattern": {
              "fillmode": "overlay",
              "size": 10,
              "solidity": 0.2
             }
            },
            "type": "bar"
           }
          ],
          "barpolar": [
           {
            "marker": {
             "line": {
              "color": "#E5ECF6",
              "width": 0.5
             },
             "pattern": {
              "fillmode": "overlay",
              "size": 10,
              "solidity": 0.2
             }
            },
            "type": "barpolar"
           }
          ],
          "carpet": [
           {
            "aaxis": {
             "endlinecolor": "#2a3f5f",
             "gridcolor": "white",
             "linecolor": "white",
             "minorgridcolor": "white",
             "startlinecolor": "#2a3f5f"
            },
            "baxis": {
             "endlinecolor": "#2a3f5f",
             "gridcolor": "white",
             "linecolor": "white",
             "minorgridcolor": "white",
             "startlinecolor": "#2a3f5f"
            },
            "type": "carpet"
           }
          ],
          "choropleth": [
           {
            "colorbar": {
             "outlinewidth": 0,
             "ticks": ""
            },
            "type": "choropleth"
           }
          ],
          "contour": [
           {
            "colorbar": {
             "outlinewidth": 0,
             "ticks": ""
            },
            "colorscale": [
             [
              0,
              "#0d0887"
             ],
             [
              0.1111111111111111,
              "#46039f"
             ],
             [
              0.2222222222222222,
              "#7201a8"
             ],
             [
              0.3333333333333333,
              "#9c179e"
             ],
             [
              0.4444444444444444,
              "#bd3786"
             ],
             [
              0.5555555555555556,
              "#d8576b"
             ],
             [
              0.6666666666666666,
              "#ed7953"
             ],
             [
              0.7777777777777778,
              "#fb9f3a"
             ],
             [
              0.8888888888888888,
              "#fdca26"
             ],
             [
              1,
              "#f0f921"
             ]
            ],
            "type": "contour"
           }
          ],
          "contourcarpet": [
           {
            "colorbar": {
             "outlinewidth": 0,
             "ticks": ""
            },
            "type": "contourcarpet"
           }
          ],
          "heatmap": [
           {
            "colorbar": {
             "outlinewidth": 0,
             "ticks": ""
            },
            "colorscale": [
             [
              0,
              "#0d0887"
             ],
             [
              0.1111111111111111,
              "#46039f"
             ],
             [
              0.2222222222222222,
              "#7201a8"
             ],
             [
              0.3333333333333333,
              "#9c179e"
             ],
             [
              0.4444444444444444,
              "#bd3786"
             ],
             [
              0.5555555555555556,
              "#d8576b"
             ],
             [
              0.6666666666666666,
              "#ed7953"
             ],
             [
              0.7777777777777778,
              "#fb9f3a"
             ],
             [
              0.8888888888888888,
              "#fdca26"
             ],
             [
              1,
              "#f0f921"
             ]
            ],
            "type": "heatmap"
           }
          ],
          "histogram": [
           {
            "marker": {
             "pattern": {
              "fillmode": "overlay",
              "size": 10,
              "solidity": 0.2
             }
            },
            "type": "histogram"
           }
          ],
          "histogram2d": [
           {
            "colorbar": {
             "outlinewidth": 0,
             "ticks": ""
            },
            "colorscale": [
             [
              0,
              "#0d0887"
             ],
             [
              0.1111111111111111,
              "#46039f"
             ],
             [
              0.2222222222222222,
              "#7201a8"
             ],
             [
              0.3333333333333333,
              "#9c179e"
             ],
             [
              0.4444444444444444,
              "#bd3786"
             ],
             [
              0.5555555555555556,
              "#d8576b"
             ],
             [
              0.6666666666666666,
              "#ed7953"
             ],
             [
              0.7777777777777778,
              "#fb9f3a"
             ],
             [
              0.8888888888888888,
              "#fdca26"
             ],
             [
              1,
              "#f0f921"
             ]
            ],
            "type": "histogram2d"
           }
          ],
          "histogram2dcontour": [
           {
            "colorbar": {
             "outlinewidth": 0,
             "ticks": ""
            },
            "colorscale": [
             [
              0,
              "#0d0887"
             ],
             [
              0.1111111111111111,
              "#46039f"
             ],
             [
              0.2222222222222222,
              "#7201a8"
             ],
             [
              0.3333333333333333,
              "#9c179e"
             ],
             [
              0.4444444444444444,
              "#bd3786"
             ],
             [
              0.5555555555555556,
              "#d8576b"
             ],
             [
              0.6666666666666666,
              "#ed7953"
             ],
             [
              0.7777777777777778,
              "#fb9f3a"
             ],
             [
              0.8888888888888888,
              "#fdca26"
             ],
             [
              1,
              "#f0f921"
             ]
            ],
            "type": "histogram2dcontour"
           }
          ],
          "mesh3d": [
           {
            "colorbar": {
             "outlinewidth": 0,
             "ticks": ""
            },
            "type": "mesh3d"
           }
          ],
          "parcoords": [
           {
            "line": {
             "colorbar": {
              "outlinewidth": 0,
              "ticks": ""
             }
            },
            "type": "parcoords"
           }
          ],
          "pie": [
           {
            "automargin": true,
            "type": "pie"
           }
          ],
          "scatter": [
           {
            "fillpattern": {
             "fillmode": "overlay",
             "size": 10,
             "solidity": 0.2
            },
            "type": "scatter"
           }
          ],
          "scatter3d": [
           {
            "line": {
             "colorbar": {
              "outlinewidth": 0,
              "ticks": ""
             }
            },
            "marker": {
             "colorbar": {
              "outlinewidth": 0,
              "ticks": ""
             }
            },
            "type": "scatter3d"
           }
          ],
          "scattercarpet": [
           {
            "marker": {
             "colorbar": {
              "outlinewidth": 0,
              "ticks": ""
             }
            },
            "type": "scattercarpet"
           }
          ],
          "scattergeo": [
           {
            "marker": {
             "colorbar": {
              "outlinewidth": 0,
              "ticks": ""
             }
            },
            "type": "scattergeo"
           }
          ],
          "scattergl": [
           {
            "marker": {
             "colorbar": {
              "outlinewidth": 0,
              "ticks": ""
             }
            },
            "type": "scattergl"
           }
          ],
          "scattermap": [
           {
            "marker": {
             "colorbar": {
              "outlinewidth": 0,
              "ticks": ""
             }
            },
            "type": "scattermap"
           }
          ],
          "scattermapbox": [
           {
            "marker": {
             "colorbar": {
              "outlinewidth": 0,
              "ticks": ""
             }
            },
            "type": "scattermapbox"
           }
          ],
          "scatterpolar": [
           {
            "marker": {
             "colorbar": {
              "outlinewidth": 0,
              "ticks": ""
             }
            },
            "type": "scatterpolar"
           }
          ],
          "scatterpolargl": [
           {
            "marker": {
             "colorbar": {
              "outlinewidth": 0,
              "ticks": ""
             }
            },
            "type": "scatterpolargl"
           }
          ],
          "scatterternary": [
           {
            "marker": {
             "colorbar": {
              "outlinewidth": 0,
              "ticks": ""
             }
            },
            "type": "scatterternary"
           }
          ],
          "surface": [
           {
            "colorbar": {
             "outlinewidth": 0,
             "ticks": ""
            },
            "colorscale": [
             [
              0,
              "#0d0887"
             ],
             [
              0.1111111111111111,
              "#46039f"
             ],
             [
              0.2222222222222222,
              "#7201a8"
             ],
             [
              0.3333333333333333,
              "#9c179e"
             ],
             [
              0.4444444444444444,
              "#bd3786"
             ],
             [
              0.5555555555555556,
              "#d8576b"
             ],
             [
              0.6666666666666666,
              "#ed7953"
             ],
             [
              0.7777777777777778,
              "#fb9f3a"
             ],
             [
              0.8888888888888888,
              "#fdca26"
             ],
             [
              1,
              "#f0f921"
             ]
            ],
            "type": "surface"
           }
          ],
          "table": [
           {
            "cells": {
             "fill": {
              "color": "#EBF0F8"
             },
             "line": {
              "color": "white"
             }
            },
            "header": {
             "fill": {
              "color": "#C8D4E3"
             },
             "line": {
              "color": "white"
             }
            },
            "type": "table"
           }
          ]
         },
         "layout": {
          "annotationdefaults": {
           "arrowcolor": "#2a3f5f",
           "arrowhead": 0,
           "arrowwidth": 1
          },
          "autotypenumbers": "strict",
          "coloraxis": {
           "colorbar": {
            "outlinewidth": 0,
            "ticks": ""
           }
          },
          "colorscale": {
           "diverging": [
            [
             0,
             "#8e0152"
            ],
            [
             0.1,
             "#c51b7d"
            ],
            [
             0.2,
             "#de77ae"
            ],
            [
             0.3,
             "#f1b6da"
            ],
            [
             0.4,
             "#fde0ef"
            ],
            [
             0.5,
             "#f7f7f7"
            ],
            [
             0.6,
             "#e6f5d0"
            ],
            [
             0.7,
             "#b8e186"
            ],
            [
             0.8,
             "#7fbc41"
            ],
            [
             0.9,
             "#4d9221"
            ],
            [
             1,
             "#276419"
            ]
           ],
           "sequential": [
            [
             0,
             "#0d0887"
            ],
            [
             0.1111111111111111,
             "#46039f"
            ],
            [
             0.2222222222222222,
             "#7201a8"
            ],
            [
             0.3333333333333333,
             "#9c179e"
            ],
            [
             0.4444444444444444,
             "#bd3786"
            ],
            [
             0.5555555555555556,
             "#d8576b"
            ],
            [
             0.6666666666666666,
             "#ed7953"
            ],
            [
             0.7777777777777778,
             "#fb9f3a"
            ],
            [
             0.8888888888888888,
             "#fdca26"
            ],
            [
             1,
             "#f0f921"
            ]
           ],
           "sequentialminus": [
            [
             0,
             "#0d0887"
            ],
            [
             0.1111111111111111,
             "#46039f"
            ],
            [
             0.2222222222222222,
             "#7201a8"
            ],
            [
             0.3333333333333333,
             "#9c179e"
            ],
            [
             0.4444444444444444,
             "#bd3786"
            ],
            [
             0.5555555555555556,
             "#d8576b"
            ],
            [
             0.6666666666666666,
             "#ed7953"
            ],
            [
             0.7777777777777778,
             "#fb9f3a"
            ],
            [
             0.8888888888888888,
             "#fdca26"
            ],
            [
             1,
             "#f0f921"
            ]
           ]
          },
          "colorway": [
           "#636efa",
           "#EF553B",
           "#00cc96",
           "#ab63fa",
           "#FFA15A",
           "#19d3f3",
           "#FF6692",
           "#B6E880",
           "#FF97FF",
           "#FECB52"
          ],
          "font": {
           "color": "#2a3f5f"
          },
          "geo": {
           "bgcolor": "white",
           "lakecolor": "white",
           "landcolor": "#E5ECF6",
           "showlakes": true,
           "showland": true,
           "subunitcolor": "white"
          },
          "hoverlabel": {
           "align": "left"
          },
          "hovermode": "closest",
          "mapbox": {
           "style": "light"
          },
          "paper_bgcolor": "white",
          "plot_bgcolor": "#E5ECF6",
          "polar": {
           "angularaxis": {
            "gridcolor": "white",
            "linecolor": "white",
            "ticks": ""
           },
           "bgcolor": "#E5ECF6",
           "radialaxis": {
            "gridcolor": "white",
            "linecolor": "white",
            "ticks": ""
           }
          },
          "scene": {
           "xaxis": {
            "backgroundcolor": "#E5ECF6",
            "gridcolor": "white",
            "gridwidth": 2,
            "linecolor": "white",
            "showbackground": true,
            "ticks": "",
            "zerolinecolor": "white"
           },
           "yaxis": {
            "backgroundcolor": "#E5ECF6",
            "gridcolor": "white",
            "gridwidth": 2,
            "linecolor": "white",
            "showbackground": true,
            "ticks": "",
            "zerolinecolor": "white"
           },
           "zaxis": {
            "backgroundcolor": "#E5ECF6",
            "gridcolor": "white",
            "gridwidth": 2,
            "linecolor": "white",
            "showbackground": true,
            "ticks": "",
            "zerolinecolor": "white"
           }
          },
          "shapedefaults": {
           "line": {
            "color": "#2a3f5f"
           }
          },
          "ternary": {
           "aaxis": {
            "gridcolor": "white",
            "linecolor": "white",
            "ticks": ""
           },
           "baxis": {
            "gridcolor": "white",
            "linecolor": "white",
            "ticks": ""
           },
           "bgcolor": "#E5ECF6",
           "caxis": {
            "gridcolor": "white",
            "linecolor": "white",
            "ticks": ""
           }
          },
          "title": {
           "x": 0.05
          },
          "xaxis": {
           "automargin": true,
           "gridcolor": "white",
           "linecolor": "white",
           "ticks": "",
           "title": {
            "standoff": 15
           },
           "zerolinecolor": "white",
           "zerolinewidth": 2
          },
          "yaxis": {
           "automargin": true,
           "gridcolor": "white",
           "linecolor": "white",
           "ticks": "",
           "title": {
            "standoff": 15
           },
           "zerolinecolor": "white",
           "zerolinewidth": 2
          }
         }
        },
        "title": {
         "text": "Optuna Optimization History"
        },
        "width": 900,
        "xaxis": {
         "title": {
          "text": "Trial"
         }
        },
        "yaxis": {
         "title": {
          "text": "Objective Value"
         }
        }
       }
      }
     },
     "metadata": {},
     "output_type": "display_data"
    },
    {
     "name": "stdout",
     "output_type": "stream",
     "text": [
      "\n",
      "Optimization history saved to: /Users/joekariuki/Documents/Devbrew/research/devbrew-payments-fraud-sanctions/data_catalog/processed/hyperparameter_optimization_history.png\n"
     ]
    },
    {
     "data": {
      "application/vnd.plotly.v1+json": {
       "config": {
        "plotlyServerURL": "https://plot.ly"
       },
       "data": [
        {
         "cliponaxis": false,
         "hovertemplate": [
          "feature_fraction (FloatDistribution): 0.005840188504324103<extra></extra>",
          "lambda_l1 (FloatDistribution): 0.014952253187585316<extra></extra>",
          "min_gain_to_split (FloatDistribution): 0.019212140010601193<extra></extra>",
          "lambda_l2 (FloatDistribution): 0.021425657481123826<extra></extra>",
          "min_child_samples (IntDistribution): 0.02259161533260183<extra></extra>",
          "bagging_fraction (FloatDistribution): 0.03581438376714163<extra></extra>",
          "num_leaves (IntDistribution): 0.08544863382271399<extra></extra>",
          "learning_rate (FloatDistribution): 0.18565817136605042<extra></extra>",
          "max_depth (IntDistribution): 0.6090569565278577<extra></extra>"
         ],
         "name": "Objective Value",
         "orientation": "h",
         "text": [
          "<0.01",
          "0.01",
          "0.02",
          "0.02",
          "0.02",
          "0.04",
          "0.09",
          "0.19",
          "0.61"
         ],
         "textposition": "outside",
         "type": "bar",
         "x": [
          0.005840188504324103,
          0.014952253187585316,
          0.019212140010601193,
          0.021425657481123826,
          0.02259161533260183,
          0.03581438376714163,
          0.08544863382271399,
          0.18565817136605042,
          0.6090569565278577
         ],
         "y": [
          "feature_fraction",
          "lambda_l1",
          "min_gain_to_split",
          "lambda_l2",
          "min_child_samples",
          "bagging_fraction",
          "num_leaves",
          "learning_rate",
          "max_depth"
         ]
        }
       ],
       "layout": {
        "height": 600,
        "template": {
         "data": {
          "bar": [
           {
            "error_x": {
             "color": "#2a3f5f"
            },
            "error_y": {
             "color": "#2a3f5f"
            },
            "marker": {
             "line": {
              "color": "#E5ECF6",
              "width": 0.5
             },
             "pattern": {
              "fillmode": "overlay",
              "size": 10,
              "solidity": 0.2
             }
            },
            "type": "bar"
           }
          ],
          "barpolar": [
           {
            "marker": {
             "line": {
              "color": "#E5ECF6",
              "width": 0.5
             },
             "pattern": {
              "fillmode": "overlay",
              "size": 10,
              "solidity": 0.2
             }
            },
            "type": "barpolar"
           }
          ],
          "carpet": [
           {
            "aaxis": {
             "endlinecolor": "#2a3f5f",
             "gridcolor": "white",
             "linecolor": "white",
             "minorgridcolor": "white",
             "startlinecolor": "#2a3f5f"
            },
            "baxis": {
             "endlinecolor": "#2a3f5f",
             "gridcolor": "white",
             "linecolor": "white",
             "minorgridcolor": "white",
             "startlinecolor": "#2a3f5f"
            },
            "type": "carpet"
           }
          ],
          "choropleth": [
           {
            "colorbar": {
             "outlinewidth": 0,
             "ticks": ""
            },
            "type": "choropleth"
           }
          ],
          "contour": [
           {
            "colorbar": {
             "outlinewidth": 0,
             "ticks": ""
            },
            "colorscale": [
             [
              0,
              "#0d0887"
             ],
             [
              0.1111111111111111,
              "#46039f"
             ],
             [
              0.2222222222222222,
              "#7201a8"
             ],
             [
              0.3333333333333333,
              "#9c179e"
             ],
             [
              0.4444444444444444,
              "#bd3786"
             ],
             [
              0.5555555555555556,
              "#d8576b"
             ],
             [
              0.6666666666666666,
              "#ed7953"
             ],
             [
              0.7777777777777778,
              "#fb9f3a"
             ],
             [
              0.8888888888888888,
              "#fdca26"
             ],
             [
              1,
              "#f0f921"
             ]
            ],
            "type": "contour"
           }
          ],
          "contourcarpet": [
           {
            "colorbar": {
             "outlinewidth": 0,
             "ticks": ""
            },
            "type": "contourcarpet"
           }
          ],
          "heatmap": [
           {
            "colorbar": {
             "outlinewidth": 0,
             "ticks": ""
            },
            "colorscale": [
             [
              0,
              "#0d0887"
             ],
             [
              0.1111111111111111,
              "#46039f"
             ],
             [
              0.2222222222222222,
              "#7201a8"
             ],
             [
              0.3333333333333333,
              "#9c179e"
             ],
             [
              0.4444444444444444,
              "#bd3786"
             ],
             [
              0.5555555555555556,
              "#d8576b"
             ],
             [
              0.6666666666666666,
              "#ed7953"
             ],
             [
              0.7777777777777778,
              "#fb9f3a"
             ],
             [
              0.8888888888888888,
              "#fdca26"
             ],
             [
              1,
              "#f0f921"
             ]
            ],
            "type": "heatmap"
           }
          ],
          "histogram": [
           {
            "marker": {
             "pattern": {
              "fillmode": "overlay",
              "size": 10,
              "solidity": 0.2
             }
            },
            "type": "histogram"
           }
          ],
          "histogram2d": [
           {
            "colorbar": {
             "outlinewidth": 0,
             "ticks": ""
            },
            "colorscale": [
             [
              0,
              "#0d0887"
             ],
             [
              0.1111111111111111,
              "#46039f"
             ],
             [
              0.2222222222222222,
              "#7201a8"
             ],
             [
              0.3333333333333333,
              "#9c179e"
             ],
             [
              0.4444444444444444,
              "#bd3786"
             ],
             [
              0.5555555555555556,
              "#d8576b"
             ],
             [
              0.6666666666666666,
              "#ed7953"
             ],
             [
              0.7777777777777778,
              "#fb9f3a"
             ],
             [
              0.8888888888888888,
              "#fdca26"
             ],
             [
              1,
              "#f0f921"
             ]
            ],
            "type": "histogram2d"
           }
          ],
          "histogram2dcontour": [
           {
            "colorbar": {
             "outlinewidth": 0,
             "ticks": ""
            },
            "colorscale": [
             [
              0,
              "#0d0887"
             ],
             [
              0.1111111111111111,
              "#46039f"
             ],
             [
              0.2222222222222222,
              "#7201a8"
             ],
             [
              0.3333333333333333,
              "#9c179e"
             ],
             [
              0.4444444444444444,
              "#bd3786"
             ],
             [
              0.5555555555555556,
              "#d8576b"
             ],
             [
              0.6666666666666666,
              "#ed7953"
             ],
             [
              0.7777777777777778,
              "#fb9f3a"
             ],
             [
              0.8888888888888888,
              "#fdca26"
             ],
             [
              1,
              "#f0f921"
             ]
            ],
            "type": "histogram2dcontour"
           }
          ],
          "mesh3d": [
           {
            "colorbar": {
             "outlinewidth": 0,
             "ticks": ""
            },
            "type": "mesh3d"
           }
          ],
          "parcoords": [
           {
            "line": {
             "colorbar": {
              "outlinewidth": 0,
              "ticks": ""
             }
            },
            "type": "parcoords"
           }
          ],
          "pie": [
           {
            "automargin": true,
            "type": "pie"
           }
          ],
          "scatter": [
           {
            "fillpattern": {
             "fillmode": "overlay",
             "size": 10,
             "solidity": 0.2
            },
            "type": "scatter"
           }
          ],
          "scatter3d": [
           {
            "line": {
             "colorbar": {
              "outlinewidth": 0,
              "ticks": ""
             }
            },
            "marker": {
             "colorbar": {
              "outlinewidth": 0,
              "ticks": ""
             }
            },
            "type": "scatter3d"
           }
          ],
          "scattercarpet": [
           {
            "marker": {
             "colorbar": {
              "outlinewidth": 0,
              "ticks": ""
             }
            },
            "type": "scattercarpet"
           }
          ],
          "scattergeo": [
           {
            "marker": {
             "colorbar": {
              "outlinewidth": 0,
              "ticks": ""
             }
            },
            "type": "scattergeo"
           }
          ],
          "scattergl": [
           {
            "marker": {
             "colorbar": {
              "outlinewidth": 0,
              "ticks": ""
             }
            },
            "type": "scattergl"
           }
          ],
          "scattermap": [
           {
            "marker": {
             "colorbar": {
              "outlinewidth": 0,
              "ticks": ""
             }
            },
            "type": "scattermap"
           }
          ],
          "scattermapbox": [
           {
            "marker": {
             "colorbar": {
              "outlinewidth": 0,
              "ticks": ""
             }
            },
            "type": "scattermapbox"
           }
          ],
          "scatterpolar": [
           {
            "marker": {
             "colorbar": {
              "outlinewidth": 0,
              "ticks": ""
             }
            },
            "type": "scatterpolar"
           }
          ],
          "scatterpolargl": [
           {
            "marker": {
             "colorbar": {
              "outlinewidth": 0,
              "ticks": ""
             }
            },
            "type": "scatterpolargl"
           }
          ],
          "scatterternary": [
           {
            "marker": {
             "colorbar": {
              "outlinewidth": 0,
              "ticks": ""
             }
            },
            "type": "scatterternary"
           }
          ],
          "surface": [
           {
            "colorbar": {
             "outlinewidth": 0,
             "ticks": ""
            },
            "colorscale": [
             [
              0,
              "#0d0887"
             ],
             [
              0.1111111111111111,
              "#46039f"
             ],
             [
              0.2222222222222222,
              "#7201a8"
             ],
             [
              0.3333333333333333,
              "#9c179e"
             ],
             [
              0.4444444444444444,
              "#bd3786"
             ],
             [
              0.5555555555555556,
              "#d8576b"
             ],
             [
              0.6666666666666666,
              "#ed7953"
             ],
             [
              0.7777777777777778,
              "#fb9f3a"
             ],
             [
              0.8888888888888888,
              "#fdca26"
             ],
             [
              1,
              "#f0f921"
             ]
            ],
            "type": "surface"
           }
          ],
          "table": [
           {
            "cells": {
             "fill": {
              "color": "#EBF0F8"
             },
             "line": {
              "color": "white"
             }
            },
            "header": {
             "fill": {
              "color": "#C8D4E3"
             },
             "line": {
              "color": "white"
             }
            },
            "type": "table"
           }
          ]
         },
         "layout": {
          "annotationdefaults": {
           "arrowcolor": "#2a3f5f",
           "arrowhead": 0,
           "arrowwidth": 1
          },
          "autotypenumbers": "strict",
          "coloraxis": {
           "colorbar": {
            "outlinewidth": 0,
            "ticks": ""
           }
          },
          "colorscale": {
           "diverging": [
            [
             0,
             "#8e0152"
            ],
            [
             0.1,
             "#c51b7d"
            ],
            [
             0.2,
             "#de77ae"
            ],
            [
             0.3,
             "#f1b6da"
            ],
            [
             0.4,
             "#fde0ef"
            ],
            [
             0.5,
             "#f7f7f7"
            ],
            [
             0.6,
             "#e6f5d0"
            ],
            [
             0.7,
             "#b8e186"
            ],
            [
             0.8,
             "#7fbc41"
            ],
            [
             0.9,
             "#4d9221"
            ],
            [
             1,
             "#276419"
            ]
           ],
           "sequential": [
            [
             0,
             "#0d0887"
            ],
            [
             0.1111111111111111,
             "#46039f"
            ],
            [
             0.2222222222222222,
             "#7201a8"
            ],
            [
             0.3333333333333333,
             "#9c179e"
            ],
            [
             0.4444444444444444,
             "#bd3786"
            ],
            [
             0.5555555555555556,
             "#d8576b"
            ],
            [
             0.6666666666666666,
             "#ed7953"
            ],
            [
             0.7777777777777778,
             "#fb9f3a"
            ],
            [
             0.8888888888888888,
             "#fdca26"
            ],
            [
             1,
             "#f0f921"
            ]
           ],
           "sequentialminus": [
            [
             0,
             "#0d0887"
            ],
            [
             0.1111111111111111,
             "#46039f"
            ],
            [
             0.2222222222222222,
             "#7201a8"
            ],
            [
             0.3333333333333333,
             "#9c179e"
            ],
            [
             0.4444444444444444,
             "#bd3786"
            ],
            [
             0.5555555555555556,
             "#d8576b"
            ],
            [
             0.6666666666666666,
             "#ed7953"
            ],
            [
             0.7777777777777778,
             "#fb9f3a"
            ],
            [
             0.8888888888888888,
             "#fdca26"
            ],
            [
             1,
             "#f0f921"
            ]
           ]
          },
          "colorway": [
           "#636efa",
           "#EF553B",
           "#00cc96",
           "#ab63fa",
           "#FFA15A",
           "#19d3f3",
           "#FF6692",
           "#B6E880",
           "#FF97FF",
           "#FECB52"
          ],
          "font": {
           "color": "#2a3f5f"
          },
          "geo": {
           "bgcolor": "white",
           "lakecolor": "white",
           "landcolor": "#E5ECF6",
           "showlakes": true,
           "showland": true,
           "subunitcolor": "white"
          },
          "hoverlabel": {
           "align": "left"
          },
          "hovermode": "closest",
          "mapbox": {
           "style": "light"
          },
          "paper_bgcolor": "white",
          "plot_bgcolor": "#E5ECF6",
          "polar": {
           "angularaxis": {
            "gridcolor": "white",
            "linecolor": "white",
            "ticks": ""
           },
           "bgcolor": "#E5ECF6",
           "radialaxis": {
            "gridcolor": "white",
            "linecolor": "white",
            "ticks": ""
           }
          },
          "scene": {
           "xaxis": {
            "backgroundcolor": "#E5ECF6",
            "gridcolor": "white",
            "gridwidth": 2,
            "linecolor": "white",
            "showbackground": true,
            "ticks": "",
            "zerolinecolor": "white"
           },
           "yaxis": {
            "backgroundcolor": "#E5ECF6",
            "gridcolor": "white",
            "gridwidth": 2,
            "linecolor": "white",
            "showbackground": true,
            "ticks": "",
            "zerolinecolor": "white"
           },
           "zaxis": {
            "backgroundcolor": "#E5ECF6",
            "gridcolor": "white",
            "gridwidth": 2,
            "linecolor": "white",
            "showbackground": true,
            "ticks": "",
            "zerolinecolor": "white"
           }
          },
          "shapedefaults": {
           "line": {
            "color": "#2a3f5f"
           }
          },
          "ternary": {
           "aaxis": {
            "gridcolor": "white",
            "linecolor": "white",
            "ticks": ""
           },
           "baxis": {
            "gridcolor": "white",
            "linecolor": "white",
            "ticks": ""
           },
           "bgcolor": "#E5ECF6",
           "caxis": {
            "gridcolor": "white",
            "linecolor": "white",
            "ticks": ""
           }
          },
          "title": {
           "x": 0.05
          },
          "xaxis": {
           "automargin": true,
           "gridcolor": "white",
           "linecolor": "white",
           "ticks": "",
           "title": {
            "standoff": 15
           },
           "zerolinecolor": "white",
           "zerolinewidth": 2
          },
          "yaxis": {
           "automargin": true,
           "gridcolor": "white",
           "linecolor": "white",
           "ticks": "",
           "title": {
            "standoff": 15
           },
           "zerolinecolor": "white",
           "zerolinewidth": 2
          }
         }
        },
        "title": {
         "text": "Hyperparameter Importance"
        },
        "width": 900,
        "xaxis": {
         "title": {
          "text": "Hyperparameter Importance"
         }
        },
        "yaxis": {
         "title": {
          "text": "Hyperparameter"
         }
        }
       }
      }
     },
     "metadata": {},
     "output_type": "display_data"
    },
    {
     "name": "stdout",
     "output_type": "stream",
     "text": [
      "Parameter importance saved to: /Users/joekariuki/Documents/Devbrew/research/devbrew-payments-fraud-sanctions/data_catalog/processed/hyperparameter_importance.png\n"
     ]
    }
   ],
   "source": [
    "# Analyze hyperparameter optimization results\n",
    "from optuna.trial._frozen import FrozenTrial\n",
    "\n",
    "\n",
    "print(\"Optimization Results\")\n",
    "\n",
    "# Best trial summary\n",
    "best_trial = study.best_trial\n",
    "\n",
    "print(f\"\\nBest Trial: #{best_trial.number}\")\n",
    "print(f\"Best Validation PR-AUC: {best_trial.value:.4f}\")\n",
    "print(f\"Improvement over baseline: +{(best_trial.value - test_pr_auc):.4f} ({((best_trial.value / test_pr_auc) - 1) * 100:.1f}%)\")\n",
    "\n",
    "print(f\"\\nBest Hyperparameters:\")\n",
    "for param, value in best_trial.params.items():\n",
    "    print(f\" - {param:<20} {value}\")\n",
    "\n",
    "print(f\"\\nTraining Metrics:\")\n",
    "print(f\" - Train PR-AUC:      {best_trial.user_attrs['train_pr_auc']:.4f}\")\n",
    "print(f\" - Val PR-AUC:        {best_trial.user_attrs['val_pr_auc']:.4f}\")\n",
    "print(f\" - Overfitting Gap:   {best_trial.user_attrs['overfitting_gap']:.4f}\")\n",
    "print(f\" - Best Iteration:    {best_trial.user_attrs['n_estimators']}\")\n",
    "\n",
    "# Study statistics\n",
    "print(f\"\\nStudy Statistics:\")\n",
    "print(f\" - Total Trials:      {len(study.trials)}\")\n",
    "print(f\" - Complete Trials:   {len([t for t in study.trials if t.state == optuna.trial.TrialState.COMPLETE])}\")\n",
    "print(f\" - Pruned Trials:     {len([t for t in study.trials if t.state == optuna.trial.TrialState.PRUNED])}\")\n",
    "print(f\" - Failed Trials:     {len([t for t in study.trials if t.state == optuna.trial.TrialState.FAIL])}\")\n",
    "\n",
    "# Top 5 trials\n",
    "print(f\"\\nTop 5 Trials:\")\n",
    "top_trials = sorted(study.trials, key=lambda t: t.value if t.value else 0, reverse=True)[:5]\n",
    "for i, trial in enumerate(top_trials, 1):\n",
    "    if trial.value:\n",
    "        print(f\" {i}. Trial #{trial.number:3d}: PR-AUC = {trial.value:.4f}\")\n",
    "\n",
    "# Visualize optimization history\n",
    "fig = plot_optimization_history(study)\n",
    "fig.update_layout(title=\"Optuna Optimization History\", width=900, height=500)\n",
    "fig.show()\n",
    "\n",
    "optimization_history_path = PROCESSED_DIR / 'hyperparameter_optimization_history.png'\n",
    "fig.write_image(optimization_history_path, width=900, height=500, scale=2)\n",
    "print(f\"\\nOptimization history saved to: {optimization_history_path}\")\n",
    "\n",
    "# Visualize hyperparameter importances\n",
    "fig = plot_param_importances(study)\n",
    "fig.update_layout(title=\"Hyperparameter Importance\", width=900, height=600)\n",
    "fig.show()\n",
    "\n",
    "param_importance_path = PROCESSED_DIR / 'hyperparameter_importance.png'\n",
    "fig.write_image(param_importance_path, width=900, height=600, scale=2)\n",
    "print(f\"Parameter importance saved to: {param_importance_path}\")\n"
   ]
  },
  {
   "cell_type": "code",
   "execution_count": 36,
   "id": "f514255d",
   "metadata": {},
   "outputs": [
    {
     "name": "stdout",
     "output_type": "stream",
     "text": [
      "Training Final Tuned Model\n",
      "\n",
      "Training final model with best hyperparameters...\n",
      "Training until validation scores don't improve for 50 rounds\n",
      "[100]\ttrain's auc: 0.908817\tval's auc: 0.895695\n",
      "[200]\ttrain's auc: 0.919489\tval's auc: 0.901826\n",
      "[300]\ttrain's auc: 0.928168\tval's auc: 0.905663\n",
      "[400]\ttrain's auc: 0.9352\tval's auc: 0.908198\n",
      "[500]\ttrain's auc: 0.941533\tval's auc: 0.910005\n",
      "[600]\ttrain's auc: 0.946764\tval's auc: 0.911391\n",
      "[700]\ttrain's auc: 0.950993\tval's auc: 0.912014\n",
      "[800]\ttrain's auc: 0.954777\tval's auc: 0.912627\n",
      "[900]\ttrain's auc: 0.958052\tval's auc: 0.913152\n",
      "Early stopping, best iteration is:\n",
      "[854]\ttrain's auc: 0.956733\tval's auc: 0.913292\n",
      "\n",
      "Model training complete\n",
      " - Best iteration: 854\n",
      " - Train AUC: 0.9567\n",
      " - Val AUC: 0.9133\n",
      "\n",
      "Tuned Model Performance:\n",
      " - Train ROC-AUC: 0.9567 | PR-AUC: 0.7143\n",
      " - Val   ROC-AUC: 0.9133 | PR-AUC: 0.5667\n",
      " - Test  ROC-AUC: 0.8873 | PR-AUC: 0.4734\n"
     ]
    }
   ],
   "source": [
    "# Train final model with best hyperparameters\n",
    "print(\"Training Final Tuned Model\")\n",
    "\n",
    "# Get best hyperparameters\n",
    "best_params = {\n",
    "    **study.best_params,\n",
    "    'objective': 'binary',\n",
    "    'metric': 'auc',\n",
    "    'is_unbalance': True,\n",
    "    'boosting_type': 'gbdt',\n",
    "    'random_state': RANDOM_STATE,\n",
    "    'verbose': -1,\n",
    "    'n_jobs': -1,\n",
    "    'bagging_freq': 5\n",
    "}\n",
    "\n",
    "print(\"\\nTraining final model with best hyperparameters...\")\n",
    "\n",
    "# Create datasets\n",
    "train_data = lgb.Dataset(X_train, label=y_train, categorical_feature=categorical_features)\n",
    "val_data = lgb.Dataset(X_val, label=y_val, categorical_feature=categorical_features, reference=train_data)\n",
    "\n",
    "# Train model\n",
    "tuned_model = lgb.train(\n",
    "    best_params,\n",
    "    train_data,\n",
    "    num_boost_round=2000,\n",
    "    valid_sets=[train_data, val_data],\n",
    "    valid_names=['train', 'val'],\n",
    "    callbacks=[\n",
    "        lgb.early_stopping(stopping_rounds=50),\n",
    "        lgb.log_evaluation(period=100)\n",
    "    ]\n",
    ")\n",
    "\n",
    "print(f\"\\nModel training complete\")\n",
    "print(f\" - Best iteration: {tuned_model.best_iteration}\")\n",
    "print(f\" - Train AUC: {tuned_model.best_score['train']['auc']:.4f}\")\n",
    "print(f\" - Val AUC: {tuned_model.best_score['val']['auc']:.4f}\")\n",
    "\n",
    "# Generate predictions\n",
    "y_train_tuned_pred = tuned_model.predict(X_train, num_iteration=tuned_model.best_iteration)\n",
    "y_val_tuned_pred = tuned_model.predict(X_val, num_iteration=tuned_model.best_iteration)\n",
    "y_test_tuned_pred = tuned_model.predict(X_test, num_iteration=tuned_model.best_iteration)\n",
    "\n",
    "# Calculate metrics\n",
    "train_tuned_metrics = calculate_metrics(y_train, y_train_tuned_pred, \"Train\")\n",
    "val_tuned_metrics = calculate_metrics(y_val, y_val_tuned_pred, \"Val\")\n",
    "test_tuned_metrics = calculate_metrics(y_test, y_test_tuned_pred, \"Test\")\n",
    "\n",
    "print(f\"\\nTuned Model Performance:\")\n",
    "print(f\" - Train ROC-AUC: {train_tuned_metrics['roc_auc']:.4f} | PR-AUC: {train_tuned_metrics['pr_auc']:.4f}\")\n",
    "print(f\" - Val   ROC-AUC: {val_tuned_metrics['roc_auc']:.4f} | PR-AUC: {val_tuned_metrics['pr_auc']:.4f}\")\n",
    "print(f\" - Test  ROC-AUC: {test_tuned_metrics['roc_auc']:.4f} | PR-AUC: {test_tuned_metrics['pr_auc']:.4f}\")"
   ]
  },
  {
   "cell_type": "code",
   "execution_count": 42,
   "id": "889f9065",
   "metadata": {},
   "outputs": [
    {
     "name": "stdout",
     "output_type": "stream",
     "text": [
      "Baseline VS Tuned Model Comparison\n",
      "\n",
      "Test Set Performance:\n",
      "       Metric  Baseline  Tuned  Improvement  Improvement %\n",
      "      ROC-AUC      0.89   0.89         0.00           0.13\n",
      "       PR-AUC      0.47   0.47        -0.00          -0.20\n",
      "ROC vs Random      0.39   0.39         0.00           0.30\n",
      " PR vs Random      0.44   0.44        -0.00          -0.21\n",
      "\n",
      "Statistical Significance Test (Bootstrap, n=1000):\n",
      " - Mean AUC Improvement: 0.0012\n",
      " - 95% CI: [-0.0008, 0.0030]\n",
      " - P-value: 0.1100\n",
      " - Significant: No\n",
      "\n",
      "Model Selection Decision:\n",
      " - Use BASELINE model (improvement not significant or insufficient)\n"
     ]
    }
   ],
   "source": [
    "# Compare tuned model vs baseline model\n",
    "print(\"Baseline VS Tuned Model Comparison\")\n",
    "\n",
    "comparison_df = pd.DataFrame({\n",
    "    'Metric': ['ROC-AUC', 'PR-AUC', 'ROC vs Random', 'PR vs Random'],\n",
    "    'Baseline': [\n",
    "        test_metrics['roc_auc'],\n",
    "        test_metrics['pr_auc'],\n",
    "        test_metrics['roc_vs_random'],\n",
    "        test_metrics['pr_vs_random']\n",
    "    ],\n",
    "    'Tuned': [\n",
    "        test_tuned_metrics['roc_auc'],\n",
    "        test_tuned_metrics['pr_auc'],\n",
    "        test_tuned_metrics['roc_vs_random'],\n",
    "        test_tuned_metrics['pr_vs_random']\n",
    "    ]\n",
    "})\n",
    "\n",
    "comparison_df['Improvement'] = comparison_df['Tuned'] - comparison_df['Baseline']\n",
    "comparison_df['Improvement %'] = (comparison_df['Improvement'] / comparison_df['Baseline'] * 100).round(2)\n",
    "\n",
    "print(\"\\nTest Set Performance:\")\n",
    "print(comparison_df.to_string(index=False))\n",
    "\n",
    "# Statistical significance test (optional)\n",
    "# from scipy import stats\n",
    "\n",
    "# Perform paired bootstrap test for ROC-AUC difference\n",
    "n_bootstrap = 1000\n",
    "baseline_aucs = []\n",
    "tuned_aucs = []\n",
    "\n",
    "for i in range(n_bootstrap):\n",
    "    indices = np.random.choice(len(y_test), size=len(y_test), replace=True)\n",
    "    y_sample = y_test.iloc[indices]\n",
    "    baseline_pred_sample = y_test_pred_proba[indices]\n",
    "    tuned_pred_sample = y_test_tuned_pred[indices]\n",
    "    \n",
    "    if y_sample.sum() > 0 and y_sample.sum() < len(y_sample):  # Check valid sample\n",
    "        baseline_aucs.append(roc_auc_score(y_sample, baseline_pred_sample))\n",
    "        tuned_aucs.append(roc_auc_score(y_sample, tuned_pred_sample))\n",
    "\n",
    "auc_improvements = np.array(tuned_aucs) - np.array(baseline_aucs)\n",
    "p_value = (auc_improvements <= 0).sum() / len(auc_improvements)\n",
    "\n",
    "print(f\"\\nStatistical Significance Test (Bootstrap, n={n_bootstrap}):\")\n",
    "print(f\" - Mean AUC Improvement: {auc_improvements.mean():.4f}\")\n",
    "print(f\" - 95% CI: [{np.percentile(auc_improvements, 2.5):.4f}, {np.percentile(auc_improvements, 97.5):.4f}]\")\n",
    "print(f\" - P-value: {p_value:.4f}\")\n",
    "print(f\" - Significant: {'Yes' if p_value < 0.05 else 'No'}\")\n",
    "\n",
    "# Decision\n",
    "improvement_threshold = 0.02  # 2% improvement threshold\n",
    "pr_auc_improvement = test_tuned_metrics['pr_auc'] - test_metrics['pr_auc']\n",
    "\n",
    "print(f\"\\nModel Selection Decision:\")\n",
    "if pr_auc_improvement >= improvement_threshold and p_value < 0.05:\n",
    "    print(f\" - Use TUNED model (PR-AUC improvement: +{pr_auc_improvement:.4f}, significant)\")\n",
    "    selected_model = 'tuned'\n",
    "else:\n",
    "    print(f\" - Use BASELINE model (improvement not significant or insufficient)\")\n",
    "    selected_model = 'baseline'"
   ]
  },
  {
   "cell_type": "markdown",
   "id": "90947660",
   "metadata": {},
   "source": [
    "### Diagnostic Investigation: Hyperparameter Tuning Performance Gap\n",
    "\n",
    "We investigate why Bayesian optimization improved validation PR-AUC by 4.7% (0.4743 → 0.4967) but failed to translate to test performance, which actually declined by 0.8% (0.4743 → 0.4705). Bootstrap significance testing confirms no statistically significant improvement (p=0.27), indicating a potential overfitting or generalization issue.\n",
    "\n",
    "We conduct four systematic diagnostics to understand the root cause and inform our deployment decision. First, we examine temporal drift by comparing distributions between validation and test splits using Kolmogorov-Smirnov tests. Second, we analyze prediction correlation to assess model output similarity despite hyperparameter differences. Third, we perform sample-level error analysis to quantify prediction changes and their business impact using cost assumptions (FP=$5 manual review, FN=$100 fraud loss). Finally, we evaluate feature importance stability to measure consistency of fraud signals across models.\n",
    "\n",
    "These diagnostics help us determine whether the tuning failure stems from temporal drift, validation overfitting, reaching a model performance ceiling, or misaligned optimization targets. The findings inform our production deployment decision and establish a reusable validation framework for future model updates.\n",
    "\n",
    "Complete findings documented in: `docs/hyperparameter-tuning-findings.md`"
   ]
  },
  {
   "cell_type": "code",
   "execution_count": 57,
   "id": "c3bdd710",
   "metadata": {},
   "outputs": [
    {
     "name": "stdout",
     "output_type": "stream",
     "text": [
      "Diagnostic 1: Validation/Test Distribution Comparison\n",
      "\n",
      "Fraud Rates Across Splits:\n",
      " - Train: 0.0338 (3.38%)\n",
      " - Val:   0.0390 (3.90%)\n",
      " - Test:  0.0344 (3.44%)\n",
      "\n",
      "Val-Test Fraud Rate Difference: 13.46%\n",
      "[WARNING] >10% difference suggests temporal drift\n",
      "\n",
      "Feature Distribution Similarity (Kolmogorov-Smirnov Test):\n",
      "Feature                        KS Statistic    P-Value         Similar?\n",
      "----------------------------------------------------------------------\n",
      "V258                           0.0020          0.9698          YES\n",
      "V294                           0.0263          0.0000          DRIFT\n",
      "C14                            0.0087          0.0003          DRIFT\n",
      "P_emaildomain                  0.0364          0.0000          DRIFT\n",
      "DeviceInfo                     0.9137          0.0000          DRIFT\n",
      "D2                             0.0229          0.0000          DRIFT\n",
      "id_31                          0.8064          0.0000          DRIFT\n",
      "card_amt_mean                  0.0306          0.0000          DRIFT\n",
      "C8                             0.0106          0.0000          DRIFT\n",
      "C13                            0.0186          0.0000          DRIFT\n",
      "\n",
      "Summary:\n",
      "[WARNING] Distribution drift detected in 9/10 features\n",
      " - Features with drift: V294, C14, P_emaildomain, DeviceInfo, D2\n",
      " - Suggests validation set may not represent test set well\n"
     ]
    }
   ],
   "source": [
    "# Diagnostic 1: Validation/Test Distribution Comparison\n",
    "print(\"Diagnostic 1: Validation/Test Distribution Comparison\")\n",
    "\n",
    "# Compare fraud rates across splits\n",
    "train_fraud_rate = y_train.mean()\n",
    "val_fraud_rate = y_val.mean()\n",
    "test_fraud_rate = y_test.mean()\n",
    "\n",
    "print(\"\\nFraud Rates Across Splits:\")\n",
    "print(f\" - Train: {train_fraud_rate:.4f} ({train_fraud_rate*100:.2f}%)\")\n",
    "print(f\" - Val:   {val_fraud_rate:.4f} ({val_fraud_rate*100:.2f}%)\")\n",
    "print(f\" - Test:  {test_fraud_rate:.4f} ({test_fraud_rate*100:.2f}%)\")\n",
    "\n",
    "val_test_diff = abs(val_fraud_rate - test_fraud_rate) / test_fraud_rate * 100\n",
    "print(f\"\\nVal-Test Fraud Rate Difference: {val_test_diff:.2f}%\")\n",
    "\n",
    "if val_test_diff > 10:\n",
    "    print(f\"[WARNING] >10% difference suggests temporal drift\")\n",
    "else:\n",
    "    print(\"Fraud rates are similar (< 10% difference)\")\n",
    "\n",
    "# Kolmogorov-Smirnov test on key numerical features\n",
    "from scipy.stats import ks_2samp\n",
    "\n",
    "print(\"\\nFeature Distribution Similarity (Kolmogorov-Smirnov Test):\")\n",
    "print(f\"{'Feature':<30} {'KS Statistic':<15} {'P-Value':<15} {'Similar?'}\")\n",
    "print(\"-\" * 70)\n",
    "\n",
    "# Select top 10 numerical features by importance from baseline model\n",
    "feature_importance_df = pd.DataFrame({\n",
    "    'feature': feature_names,\n",
    "    'importance': baseline_model.feature_importance(importance_type='gain')\n",
    "}).sort_values('importance', ascending=False)\n",
    "\n",
    "top_features = feature_importance_df.head(10)['feature'].tolist()\n",
    "\n",
    "drift_detected = []\n",
    "for feature in top_features:\n",
    "    if feature in X_val.columns and feature in X_test.columns:\n",
    "        # Handle categorical features differently\n",
    "        if pd.api.types.is_categorical_dtype(X_val[feature]) or pd.api.types.is_object_dtype(X_val[feature]):\n",
    "            # For categorical, convert to codes or skip\n",
    "            val_data = X_val[feature].cat.codes if pd.api.types.is_categorical_dtype(X_val[feature]) else X_val[feature].astype('category').cat.codes\n",
    "            test_data = X_test[feature].cat.codes if pd.api.types.is_categorical_dtype(X_test[feature]) else X_test[feature].astype('category').cat.codes\n",
    "            ks_stat, p_value = ks_2samp(val_data.fillna(-1), test_data.fillna(-1))\n",
    "        else:\n",
    "            # Numerical features\n",
    "            ks_stat, p_value = ks_2samp(X_val[feature].fillna(0), X_test[feature].fillna(0))\n",
    "        \n",
    "        is_similar = \"YES\" if p_value > 0.05 else \"DRIFT\"\n",
    "        print(f\"{feature:<30} {ks_stat:<15.4f} {p_value:<15.4f} {is_similar}\")\n",
    "        \n",
    "        if p_value < 0.05:\n",
    "            drift_detected.append(feature)\n",
    "\n",
    "print(\"\\nSummary:\")\n",
    "if len(drift_detected) > 0:\n",
    "    print(f\"[WARNING] Distribution drift detected in {len(drift_detected)}/{len(top_features)} features\")\n",
    "    print(f\" - Features with drift: {', '.join(drift_detected[:5])}\")\n",
    "    print(\" - Suggests validation set may not represent test set well\")\n",
    "else:\n",
    "    print(f\"No significant drift detected in top features\")\n",
    "    print(\"Validation and test sets appear similar\")"
   ]
  },
  {
   "cell_type": "code",
   "execution_count": 55,
   "id": "18c4bdf8",
   "metadata": {},
   "outputs": [
    {
     "name": "stdout",
     "output_type": "stream",
     "text": [
      "Diagnostic 2: Prediction Correlation Analysis\n",
      "\n",
      "Prediction Correlation (Test Set):\n",
      " Pearson r = 0.9674\n",
      "  - Models are nearly identical (r > 0.95)\n",
      "  - Hyperparameter tuning had minimal practical effect\n"
     ]
    },
    {
     "data": {
      "image/png": "[encoded data removed]",
      "text/plain": [
       "<Figure size 1400x500 with 2 Axes>"
      ]
     },
     "metadata": {},
     "output_type": "display_data"
    },
    {
     "name": "stdout",
     "output_type": "stream",
     "text": [
      "\n",
      "Large Disagreements (|diff| > 0.1):\n",
      " - Count: 10247 / 118108 (8.68%)\n",
      " - Fraud rate in disagreements: 0.0617 (6.17%)\n",
      " - Overall fraud rate: 0.0344 (3.44%)\n",
      "\n",
      "Models disagree more often on fraud cases\n"
     ]
    }
   ],
   "source": [
    "# Diagnostic 2: Prediction Correlation Analysis\n",
    "print(\"Diagnostic 2: Prediction Correlation Analysis\")\n",
    "\n",
    "# Calculate correlation between baseline and tuned predictions\n",
    "test_correlation = np.corrcoef(y_test_pred_proba, y_test_tuned_pred)[0, 1]\n",
    "\n",
    "print(f\"\\nPrediction Correlation (Test Set):\")\n",
    "print(f\" Pearson r = {test_correlation:.4f}\")\n",
    "\n",
    "if test_correlation > 0.95:\n",
    "    print(\"  - Models are nearly identical (r > 0.95)\")\n",
    "    print(\"  - Hyperparameter tuning had minimal practical effect\")\n",
    "elif test_correlation > 0.90:\n",
    "    print(\"  - Models are highly similar (0.90 < r < 0.95)\")\n",
    "    print(\"  - Tuning made minor adjustments\")\n",
    "else:\n",
    "    print(\"  - Models differ significantly (r < 0.90)\")\n",
    "    print(\"  - Tuning changed model behavior substantially\")\n",
    "\n",
    "# Visualize prediction correlation\n",
    "fig, axes = plt.subplots(1, 2, figsize=(14, 5))\n",
    "\n",
    "# Scatter plot\n",
    "axes[0].scatter(y_test_pred_proba, y_test_tuned_pred, alpha=0.3, s=10)\n",
    "axes[0].plot([0, 1], [0, 1], 'r--', label='Perfect Agreement')\n",
    "axes[0].set_xlabel('Baseline Model Predictions')\n",
    "axes[0].set_ylabel('Tuned Model Predictions')\n",
    "axes[0].set_title(f'Prediction Correlation (r={test_correlation:.4f})')\n",
    "axes[0].legend()\n",
    "axes[0].grid(True, alpha=0.3)\n",
    "\n",
    "# Difference distribution\n",
    "pred_diff = y_test_tuned_pred - y_test_pred_proba\n",
    "axes[1].hist(pred_diff, bins=50, edgecolor='black', alpha=0.7)\n",
    "axes[1].axvline(0, color='r', linestyle='--', label='No Difference')\n",
    "axes[1].set_xlabel('Prediction Difference (Tuned - Baseline)')\n",
    "axes[1].set_ylabel('Frequency')\n",
    "axes[1].set_title(f'Prediction Difference Distribution\\n(Mean: {pred_diff.mean():.4f}, Std: {pred_diff.std():.4f})')\n",
    "axes[1].legend()\n",
    "axes[1].grid(True, alpha=0.3)\n",
    "\n",
    "plt.tight_layout()\n",
    "plt.show()\n",
    "\n",
    "# Identify samples with largest disagreements\n",
    "disagreement_threshold = 0.1  # 10% probability difference\n",
    "large_disagreements = np.abs(pred_diff) > disagreement_threshold\n",
    "n_disagreements = large_disagreements.sum()\n",
    "\n",
    "print(f\"\\nLarge Disagreements (|diff| > {disagreement_threshold}):\")\n",
    "print(f\" - Count: {n_disagreements} / {len(y_test)} ({n_disagreements/len(y_test)*100:.2f}%)\")\n",
    "\n",
    "if n_disagreements > 0:\n",
    "    # Analyze fraud rate in disagreement samples\n",
    "    disagreement_fraud_rate = y_test[large_disagreements].mean()\n",
    "    overall_fraud_rate = y_test.mean()\n",
    "    \n",
    "    print(f\" - Fraud rate in disagreements: {disagreement_fraud_rate:.4f} ({disagreement_fraud_rate*100:.2f}%)\")\n",
    "    print(f\" - Overall fraud rate: {overall_fraud_rate:.4f} ({overall_fraud_rate*100:.2f}%)\")\n",
    "    \n",
    "    if disagreement_fraud_rate > overall_fraud_rate * 1.5:\n",
    "        print(\"\\nModels disagree more often on fraud cases\")\n",
    "    else:\n",
    "        print(\"\\nDisagreements spread across fraud and legitimate transactions\")"
   ]
  },
  {
   "cell_type": "code",
   "execution_count": 52,
   "id": "866dc816",
   "metadata": {},
   "outputs": [
    {
     "name": "stdout",
     "output_type": "stream",
     "text": [
      "Diagnostic 3: Sample-Level Error Analysis\n",
      "\n",
      "Confusion Matrices at Fraud-Rate Threshold (0.0344):\n",
      "\n",
      "Baseline Model:\n",
      "                Predicted Legit  Predicted Fraud\n",
      "Actual Legit             20,132           93,912\n",
      "Actual Fraud                 74            3,990\n",
      "\n",
      "Tuned Model:\n",
      "                Predicted Legit  Predicted Fraud\n",
      "Actual Legit             10,638          103,406\n",
      "Actual Fraud                 38            4,026\n",
      "\n",
      "Prediction Changes (Baseline → Tuned):\n",
      "  True Positive Gains:      36 (fraud caught by tuned, missed by baseline)\n",
      "  False Positive Added:  9,944 (legitimate flagged by tuned, not by baseline)\n",
      "  True Positive Losses:      0 (fraud caught by baseline, missed by tuned)\n",
      "\n",
      "Net Impact:\n",
      "  Net TP Change: +36 fraud cases\n",
      "  Net FP Change: +9,944 false positives\n",
      "\n",
      "Business Impact (Cost Assumptions: FP=$5, FN=$100):\n",
      " - Baseline Total Cost: $  476,960.00\n",
      " - Tuned Total Cost:    $  520,830.00\n",
      " - Cost Savings:        $  -43,870.00 (-9.20%)\n",
      "\n",
      "[WARNING] Tuned model increases costs significantly\n"
     ]
    }
   ],
   "source": [
    "# Diagnostic 3: Sample-Level Error Analysis\n",
    "\n",
    "print(\"Diagnostic 3: Sample-Level Error Analysis\")\n",
    "\n",
    "# Use fraud-rate-aligned threshold for both models\n",
    "fraud_rate_threshold = y_test.mean()\n",
    "\n",
    "# Generate binary predictions\n",
    "baseline_binary = (y_test_pred_proba >= fraud_rate_threshold).astype(int)\n",
    "tuned_binary = (y_test_tuned_pred >= fraud_rate_threshold).astype(int)\n",
    "\n",
    "# Calculate confusion matrices\n",
    "from sklearn.metrics import confusion_matrix\n",
    "\n",
    "cm_baseline = confusion_matrix(y_test, baseline_binary)\n",
    "cm_tuned = confusion_matrix(y_test, tuned_binary)\n",
    "\n",
    "print(f\"\\nConfusion Matrices at Fraud-Rate Threshold ({fraud_rate_threshold:.4f}):\")\n",
    "print(\"\\nBaseline Model:\")\n",
    "print(f\"                Predicted Legit  Predicted Fraud\")\n",
    "print(f\"Actual Legit    {cm_baseline[0,0]:>15,}  {cm_baseline[0,1]:>15,}\")\n",
    "print(f\"Actual Fraud    {cm_baseline[1,0]:>15,}  {cm_baseline[1,1]:>15,}\")\n",
    "\n",
    "print(\"\\nTuned Model:\")\n",
    "print(f\"                Predicted Legit  Predicted Fraud\")\n",
    "print(f\"Actual Legit    {cm_tuned[0,0]:>15,}  {cm_tuned[0,1]:>15,}\")\n",
    "print(f\"Actual Fraud    {cm_tuned[1,0]:>15,}  {cm_tuned[1,1]:>15,}\")\n",
    "\n",
    "# Identify prediction changes\n",
    "tp_gains = (baseline_binary == 0) & (tuned_binary == 1) & (y_test == 1)  # Fraud caught by tuned, missed by baseline\n",
    "fp_added = (baseline_binary == 0) & (tuned_binary == 1) & (y_test == 0)  # False positives added by tuned\n",
    "fn_losses = (baseline_binary == 1) & (tuned_binary == 0) & (y_test == 1)  # Fraud missed by tuned, caught by baseline\n",
    "\n",
    "print(\"\\nPrediction Changes (Baseline → Tuned):\")\n",
    "print(f\"  True Positive Gains:  {tp_gains.sum():>6,} (fraud caught by tuned, missed by baseline)\")\n",
    "print(f\"  False Positive Added: {fp_added.sum():>6,} (legitimate flagged by tuned, not by baseline)\")\n",
    "print(f\"  True Positive Losses: {fn_losses.sum():>6,} (fraud caught by baseline, missed by tuned)\")\n",
    "\n",
    "net_tp_change = tp_gains.sum() - fn_losses.sum()\n",
    "net_fp_change = fp_added.sum()\n",
    "\n",
    "print(f\"\\nNet Impact:\")\n",
    "print(f\"  Net TP Change: {net_tp_change:+,} fraud cases\")\n",
    "print(f\"  Net FP Change: {net_fp_change:+,} false positives\")\n",
    "\n",
    "# Business impact (using cost assumptions from earlier)\n",
    "cost_fp = 5  # Manual review cost\n",
    "cost_fn = 100  # Average fraud loss\n",
    "\n",
    "baseline_cost = cm_baseline[0,1] * cost_fp + cm_baseline[1,0] * cost_fn\n",
    "tuned_cost = cm_tuned[0,1] * cost_fp + cm_tuned[1,0] * cost_fn\n",
    "cost_savings = baseline_cost - tuned_cost\n",
    "\n",
    "print(f\"\\nBusiness Impact (Cost Assumptions: FP=${cost_fp}, FN=${cost_fn}):\")\n",
    "print(f\" - Baseline Total Cost: ${baseline_cost:>12,.2f}\")\n",
    "print(f\" - Tuned Total Cost:    ${tuned_cost:>12,.2f}\")\n",
    "print(f\" - Cost Savings:        ${cost_savings:>12,.2f} ({cost_savings/baseline_cost*100:+.2f}%)\")\n",
    "\n",
    "if cost_savings > 0:\n",
    "    print(\"\\nTuned model would save money\")\n",
    "elif cost_savings < -baseline_cost * 0.01:  # >1% cost increase\n",
    "    print(f\"\\n[WARNING] Tuned model increases costs significantly\")\n",
    "else:\n",
    "    print(\"\\nTuned model has negligible cost impact\")"
   ]
  },
  {
   "cell_type": "code",
   "execution_count": 50,
   "id": "a551eef2",
   "metadata": {},
   "outputs": [
    {
     "name": "stdout",
     "output_type": "stream",
     "text": [
      "Diagnostic 4: Feature Importance Comparison\n",
      "\n",
      "Top 20 Features by Baseline Importance:\n",
      "Feature                        Baseline %   Tuned %      Change\n",
      "----------------------------------------------------------------------\n",
      "V258                                11.14%        4.24%  ↓ -6.89%\n",
      "V294                                 6.44%        0.83%  ↓ -5.61%\n",
      "C14                                  5.69%        4.91%  → -0.78%\n",
      "P_emaildomain                        4.56%        4.89%  → +0.33%\n",
      "DeviceInfo                           3.54%        4.86%  ↑ +1.32%\n",
      "D2                                   3.26%        1.69%  ↓ -1.56%\n",
      "id_31                                3.22%        3.23%  → +0.01%\n",
      "card_amt_mean                        3.03%        2.81%  → -0.22%\n",
      "C8                                   2.87%        0.48%  ↓ -2.39%\n",
      "C13                                  2.19%        2.22%  → +0.03%\n",
      "TransactionAmt                       2.15%        2.09%  → -0.06%\n",
      "R_emaildomain                        2.09%        2.67%  → +0.57%\n",
      "C1                                   1.97%        5.11%  ↑ +3.14%\n",
      "id_30                                1.95%        2.40%  → +0.45%\n",
      "id_33                                1.84%        2.07%  → +0.23%\n",
      "card1                                1.65%        1.36%  → -0.29%\n",
      "V70                                  1.64%        6.06%  ↑ +4.42%\n",
      "card6                                1.62%        1.61%  → -0.02%\n",
      "card_amt_std                         1.62%        1.47%  → -0.14%\n",
      "M4                                   1.55%        0.49%  ↓ -1.06%\n",
      "\n",
      "Importance Shift Metrics:\n",
      " - Correlation: 0.7602\n",
      " - Mean Absolute Change: 0.11%\n",
      " - Features with >2% shift: 5 / 429\n",
      " - [WARNING] Models rely on substantially different features (r < 0.85)\n",
      "     May indicate overfitting to validation-specific patterns\n"
     ]
    },
    {
     "data": {
      "image/png": "[encoded data removed]",
      "text/plain": [
       "<Figure size 1200x800 with 1 Axes>"
      ]
     },
     "metadata": {},
     "output_type": "display_data"
    }
   ],
   "source": [
    "# Diagnostic 4: Feature Importance Comparison\n",
    "\n",
    "print(\"Diagnostic 4: Feature Importance Comparison\")\n",
    "\n",
    "# Extract feature importances\n",
    "baseline_importance = baseline_model.feature_importance(importance_type='gain')\n",
    "tuned_importance = tuned_model.feature_importance(importance_type='gain')\n",
    "\n",
    "# Normalize to percentages\n",
    "baseline_importance_pct = baseline_importance / baseline_importance.sum() * 100\n",
    "tuned_importance_pct = tuned_importance / tuned_importance.sum() * 100\n",
    "\n",
    "# Create comparison DataFrame\n",
    "importance_comparison = pd.DataFrame({\n",
    "    'Feature': feature_names,\n",
    "    'Baseline': baseline_importance_pct,\n",
    "    'Tuned': tuned_importance_pct,\n",
    "})\n",
    "importance_comparison['Change'] = importance_comparison['Tuned'] - importance_comparison['Baseline']\n",
    "importance_comparison['Abs_Change'] = importance_comparison['Change'].abs()\n",
    "importance_comparison = importance_comparison.sort_values('Baseline', ascending=False)\n",
    "\n",
    "# Show top 20 features\n",
    "print(\"\\nTop 20 Features by Baseline Importance:\")\n",
    "print(f\"{'Feature':<30} {'Baseline %':<12} {'Tuned %':<12} {'Change'}\")\n",
    "print(\"-\" * 70)\n",
    "\n",
    "top_20 = importance_comparison.head(20)\n",
    "for _, row in top_20.iterrows():\n",
    "    change_indicator = \"↑\" if row['Change'] > 1 else (\"↓\" if row['Change'] < -1 else \"→\")\n",
    "    print(f\"{row['Feature']:<30} {row['Baseline']:>10.2f}%  {row['Tuned']:>10.2f}%  {change_indicator} {row['Change']:+.2f}%\")\n",
    "\n",
    "# Calculate importance shift metrics\n",
    "importance_correlation = np.corrcoef(baseline_importance, tuned_importance)[0, 1]\n",
    "mean_abs_change = importance_comparison['Abs_Change'].mean()\n",
    "large_shifts = (importance_comparison['Abs_Change'] > 2.0).sum()\n",
    "\n",
    "print(f\"\\nImportance Shift Metrics:\")\n",
    "print(f\" - Correlation: {importance_correlation:.4f}\")\n",
    "print(f\" - Mean Absolute Change: {mean_abs_change:.2f}%\")\n",
    "print(f\" - Features with >2% shift: {large_shifts} / {len(feature_names)}\")\n",
    "\n",
    "if importance_correlation > 0.95:\n",
    "    print(\" - Models rely on very similar features (r > 0.95)\")\n",
    "elif importance_correlation > 0.85:\n",
    "    print(\" - Models have similar feature priorities (0.85 < r < 0.95)\")\n",
    "else:\n",
    "    print(f\" - [WARNING] Models rely on substantially different features (r < 0.85)\")\n",
    "    print(\"     May indicate overfitting to validation-specific patterns\")\n",
    "\n",
    "# Visualize top 15 feature importances\n",
    "fig, ax = plt.subplots(figsize=(12, 8))\n",
    "\n",
    "top_15 = importance_comparison.head(15)\n",
    "x = np.arange(len(top_15))\n",
    "width = 0.35\n",
    "\n",
    "bars1 = ax.barh(x - width/2, top_15['Baseline'], width, label='Baseline', alpha=0.8)\n",
    "bars2 = ax.barh(x + width/2, top_15['Tuned'], width, label='Tuned', alpha=0.8)\n",
    "\n",
    "ax.set_xlabel('Importance (%)')\n",
    "ax.set_title('Feature Importance Comparison: Baseline vs Tuned Model')\n",
    "ax.set_yticks(x)\n",
    "ax.set_yticklabels(top_15['Feature'])\n",
    "ax.legend()\n",
    "ax.invert_yaxis()\n",
    "ax.grid(True, alpha=0.3, axis='x')\n",
    "\n",
    "plt.tight_layout()\n",
    "plt.show()"
   ]
  },
  {
   "cell_type": "markdown",
   "id": "26c6367b",
   "metadata": {},
   "source": [
    "\n",
    "### Diagnostic Findings Summary\n",
    "\n",
    "Our diagnostics reveal that temporal drift and feature instability caused the hyperparameter tuning failure. The validation-test fraud rate difference is 13.46% (3.90% vs 3.44%), indicating significant distribution shifts between time periods. Feature drift analysis shows 9 out of 10 top features exhibit significant distribution changes (Kolmogorov-Smirnov test, p<0.05), while feature importance correlation is 0.76, below our 0.85 stability threshold. Despite these differences, prediction correlation remains high at 0.97, suggesting both models produce similar outputs but rely on different underlying feature patterns.\n",
    "\n",
    "The business impact analysis shows the tuned model would catch 36 additional fraud cases but trigger 9,944 false positives, resulting in a cost increase of $43,870, a 9.2% operational cost increase. This translates to flagging 276 legitimate transactions for each additional fraud case caught, making the trade-off economically unfavorable.\n",
    "\n",
    "We selected the baseline model for production deployment. It meets all success criteria with ROC-AUC of 0.8861 (exceeding the 0.85 target) and PR-AUC of 0.4743 (exceeding the 0.35 target). The baseline provides superior business economics with a $43,870 cost advantage, demonstrates more stable feature reliance with less overfitting to validation-specific patterns, and has no statistical evidence of test improvement from tuning (p=0.27). \n",
    "\n",
    "Hyperparameter tuning discovered validation-specific patterns, such as dramatic feature importance shifts (V258 decreasing from 11% to 4%, V70 increasing from 2% to 6%), that failed to generalize to test data. This investigation demonstrates the critical value of systematic pre-deployment diagnostics in preventing costly production errors."
   ]
  },
  {
   "cell_type": "markdown",
   "id": "7083f46a",
   "metadata": {},
   "source": [
    "### Notes\n",
    "\n",
    "- Optuna Bayesian optimization (50 trials, TPE sampler) improved validation PR-AUC to **0.4967** (+4.7% from baseline 0.4743)\n",
    "- Test PR-AUC: **0.4705** (-0.8% from baseline), bootstrap test confirms no significant improvement (p=0.27)\n",
    "- Systematic diagnostics revealed **temporal drift** (13.46% fraud rate difference, 9/10 features drifted) and **feature instability** (importance correlation 0.76 < 0.85 threshold)\n",
    "- Cost analysis: tuned model would add **+$43,870** (+9.2%) operational costs by catching +36 fraud but triggering +9,944 false positives\n",
    "- **Production decision: BASELINE model** selected based on superior business economics, temporal stability, and meeting all success criteria\n",
    "- Hyperparameter optimization artifacts saved: [hyperparameter_optimization_history.png](../data_catalog/processed/hyperparameter_optimization_history.png), [hyperparameter_importance.png](../data_catalog/processed/hyperparameter_importance.png)\n",
    "- Complete findings documented in [hyperparameter-tuning-findings.md](../docs/hyperparameter-tuning-findings.md)\n",
    "- Key insight: Systematic pre-deployment diagnostics prevented $44K cost increase, demonstrating MLOps rigor for production fraud detection systems\n"
   ]
  },
  {
   "cell_type": "markdown",
   "id": "a11a45b0",
   "metadata": {},
   "source": []
  }
 ],
 "metadata": {
  "kernelspec": {
   "display_name": ".venv",
   "language": "python",
   "name": "python3"
  },
  "language_info": {
   "codemirror_mode": {
    "name": "ipython",
    "version": 3
   },
   "file_extension": ".py",
   "mimetype": "text/x-python",
   "name": "python",
   "nbconvert_exporter": "python",
   "pygments_lexer": "ipython3",
   "version": "3.11.13"
  }
 },
 "nbformat": 4,
 "nbformat_minor": 5
}
