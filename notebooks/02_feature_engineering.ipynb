{
 "cells": [
  {
   "cell_type": "markdown",
   "id": "1f6cb0f0",
   "metadata": {},
   "source": [
    "# Feature Engineering\n",
    "\n",
    "- **Purpose:** Missing value handling and feature engineering for fraud detection  \n",
    "- **Author:** Devbrew LLC  \n",
    "- **Last Updated:** October 18, 2025  \n",
    "- **Status:** In Progress  \n",
    "- **License:** Apache 2.0 (Code) | Non-commercial (Data)"
   ]
  },
  {
   "cell_type": "markdown",
   "id": "6977d399",
   "metadata": {},
   "source": [
    "---\n",
    "\n",
    "## Dataset License Notice\n",
    "\n",
    "This notebook uses the **IEEE-CIS Fraud Detection dataset** from Kaggle.\n",
    "\n",
    "**Dataset License:** Non-commercial research use only\n",
    "- You must download the dataset yourself from [Kaggle IEEE-CIS Competition](https://www.kaggle.com/c/ieee-fraud-detection)\n",
    "- You must accept the competition rules before downloading\n",
    "- Cannot be used for commercial purposes\n",
    "- Cannot redistribute the raw dataset\n",
    "\n",
    "**Setup Instructions:** See [`../data_catalog/README.md`](../data_catalog/README.md) for download instructions.\n",
    "\n",
    "**Code License:** This notebook's code is licensed under Apache 2.0 (open source).\n",
    "\n",
    "---"
   ]
  },
  {
   "cell_type": "markdown",
   "id": "6a939dbf",
   "metadata": {},
   "source": [
    "## Notebook Configuration\n",
    "\n",
    "### Environment Setup\n",
    "\n",
    "We configure the Python environment with standardized settings, import required libraries, and set a fixed random seed for reproducibility. This ensures consistent results across runs and enables reliable experimentation.\n",
    "\n",
    "These settings establish the foundation for all feature engineering operations."
   ]
  },
  {
   "cell_type": "code",
   "execution_count": 2,
   "id": "56e08b8a",
   "metadata": {},
   "outputs": [
    {
     "name": "stdout",
     "output_type": "stream",
     "text": [
      "\n",
      "Environment configurated successfully\n",
      "pandas: 2.3.3\n",
      "numpy: 2.3.3\n"
     ]
    }
   ],
   "source": [
    "import warnings\n",
    "from pathlib import Path\n",
    "import json\n",
    "from typing import Optional, Tuple, List\n",
    "\n",
    "import pandas as pd\n",
    "import numpy as np \n",
    "import matplotlib.pyplot as plt\n",
    "import seaborn as sns\n",
    "\n",
    "# Configuration\n",
    "warnings.filterwarnings(\"ignore\")\n",
    "pd.set_option(\"display.max_columns\", 100)\n",
    "pd.set_option(\"display.max_rows\", 100)\n",
    "pd.set_option(\"display.float_format\", '{:.2f}'.format)\n",
    "\n",
    "# Plotting configuration\n",
    "sns.set_style(\"whitegrid\")\n",
    "plt.rcParams[\"figure.figsize\"] = (12, 6)\n",
    "plt.rcParams[\"font.size\"] = 10\n",
    "\n",
    "# Reproducibility\n",
    "RANDOM_STATE = 42\n",
    "np.random.seed(RANDOM_STATE)\n",
    "\n",
    "print(\"\\nEnvironment configurated successfully\")\n",
    "print(f\"pandas: {pd.__version__}\")\n",
    "print(f\"numpy: {np.__version__}\")"
   ]
  },
  {
   "cell_type": "code",
   "execution_count": null,
   "id": "7435ab07",
   "metadata": {},
   "outputs": [],
   "source": []
  }
 ],
 "metadata": {
  "kernelspec": {
   "display_name": ".venv",
   "language": "python",
   "name": "python3"
  },
  "language_info": {
   "codemirror_mode": {
    "name": "ipython",
    "version": 3
   },
   "file_extension": ".py",
   "mimetype": "text/x-python",
   "name": "python",
   "nbconvert_exporter": "python",
   "pygments_lexer": "ipython3",
   "version": "3.11.13"
  }
 },
 "nbformat": 4,
 "nbformat_minor": 5
}
